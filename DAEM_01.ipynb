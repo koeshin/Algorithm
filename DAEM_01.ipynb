{
  "nbformat": 4,
  "nbformat_minor": 0,
  "metadata": {
    "colab": {
      "provenance": [],
      "toc_visible": true
    },
    "kernelspec": {
      "name": "python3",
      "display_name": "Python 3"
    },
    "language_info": {
      "name": "python"
    }
  },
  "cells": [
    {
      "cell_type": "markdown",
      "source": [
        "![seoultech logo small.png](data:image/png;base64,iVBORw0KGgoAAAANSUhEUgAAAK8AAAB3CAYAAAB1/xA3AAAAGXRFWHRTb2Z0d2FyZQBBZG9iZSBJbWFnZVJlYWR5ccllPAAAC9VJREFUeNrsXcGOIjkSNaW6N73S7mVXmqwvWPoHBjjPoYv7SMDOB1TzAwPMbU8UH7ALSHNcqajDnknmB5o676Fpaec6m32cw6jWQUUUgceZ6aShSbrfk7LpIm1nOPwcDtuRpvL4+GgA4BxxSf9UKhVowoN//+HPjVPL8M0vP8doid+DjO4l1JCJRQlkgGVJwQVUAIC8AADyAgDIC4C8AADyAgDICwAgLwDyAgDICwAgLwDyAgDICwAgLwCAvADICwAgLwCAvADICwAgLwCAvAAA8n4qJPZqQQ0g7zmi980vP8/pE6oAec8JU0vcKf3Hft7ajxgqAXnPAWuPtW2xGwGAvKVGy1rbHaLy312oBuQtM4aWqCvfDfZ/b6EikLeMiC1BB1kJ7H1yJ1ZQFchbJhRZFuvC/wV5y4Su6+dmWF+yvEOoDOQtA27Znw0GL5/NobqPQ3nP5/36+8GpRfjvf/61+suvH5Icd2FfKyqrD9W0BL/96Y/VyejvJ9dDt/3toIwUqdAJ06U8Gf3r78vwewNN89MP8akePpn92DAlOODakrd0BCHewm0A4PMCAMgLACAvAPICAMgLACAvAIC8AMgLACcBfr71y0UM8gJniW772ybcBgAAeQEA5AVAXgAAeQEA5AUAkBcAeQEA5AWAPVDmHba4QNoGmrIYJrMfB6Fpy/r2cHnJ+9MP4duX5XjT+NzQL5C2lOSF2wDA5wUAkBcAQF4A5AUAkBcAQF4AAHkBkBcAToLP5QXMYx2Tvz5xvdYGPwGQDjqkFwDOkbdwGwD4vAAA8gIAyAuAvAAA8gIAyAsAIC8A8gIAyAsAIC8A8gIAyAsAR4A3JLLd+VvHfry2V9VsT6NJ7LUyT2F6D/aaz6b/XHvyDgrKkNhybvMS2XKvWaZIybTma2mvqU8eTzmUt83lUH3GeflsHkrbz8rD5ZJ8NZLH3i+khz305iK2z4wdeRpFCwmRm/VBHKmzTiIPR5bMkcTJN2JeCe6z2t/mecN6NeoZPXrGpZOQFH+nhNGoOsogwVuedP09FJ8lfJZMkSJz36alcoZaYR40WPHy/3uTH7cbBeSh79+o/xclY/8jyUvtETvy7FPmIKATd1KSaI502Eg0HT1eF2l/Jq7bCcek/wuHJIsUkviwPPawwCPA2wIyEXkWNl8Vg+rB2+Ka26JTINv6mDJpy3vnmPOYGU7DUcKEqHEvoN4wDxnKAkieZFjciUcZM2VhqiyLVqh0wleg3MGI22B+FMX90cnLRIkc/6np+EIJkyYuMCQW9v2czqQxJV/H4xLMrfxjJqx0vhr5SiG+dIkQpwzDNU9nX+1JlHVRa8hGK4u4c54DCV6wgata/c+PTl6PgmYn7ukdpzOtrCK6GZOMlc3TYgJrH/JsyOsaC2XxFs7XK1/a0MfsYUzcCdazHDTnCZkkHwsXypHOHco/IV47f/cCGj9m6/xstdhPA/Y3ItUUH5eI2zwlcTV53WHo5sR606Rb6yWggj7Wa1DwYO2wY0xyVnROSt6G7XV3p5i181Dp+lShQ6+bNgL/DjoCFjUmR8UlN/rakmbqDBHU6675e1qUX+1R/lceMrpDvckh3Ps9Jj7yzAb4t2sbbHvUM6yp28a1lAnaIUGT60XW/bwJm/iVNU9iInTHPoD8G9oAmBYQrGOy1wUrAeRdgXMHQ5QxGlUD2oLw4cAyVfc1MhfKCtI2La2NDlMmbFSRiSXxuyxrCnz2KI0xufAM5QP7cWWvboqgROIFL2cBwGl9Xg+ByfKSezBVgSwuWUf2XpyzXDL8iE0K4PBYm/RNitDVg9qB/d4kx5rXUlya/IP2eFIVW6LSxoXeQq7ypO7QGwGJR/hTz24/Fzep6CZF4iHOi0O7IVmbLjyZawS5DTkk7gUspRzap/rqI4i2KrPPdqb+bWk6ctFg9PkJFBa8S+aZSK4CLHvIWvYLT0f+EuCLl6iVZcJeujcpVADQ8wSxgLLazt/LFL9Po17Qmifmy0GasRqVIey0KHmvc4hwMA47f+cGVXNknJ5UJr41aZ5gJqGWnQOw9dr3l2J1RVdxyiRqwbo57WoD9aK8vWomxyjAsh1CabTKIa/dbCyf/XuSFlmm3rbQGOdYlI6y7N6yU8IB78+Yj1k7bIKus4JEennrca9I57Tm74ZEymhGo1XzmC6WrDZ0mCwxE3Ll+IRuwLfMEqc55dcD38269XQeUpreNuwwScdmu+QTKdmqjmxZzx069emwFZmp0YSedWN2d5mSUL8/pN4nWEaMTH68R6RHVA4doIn6JGM0vs5w445O3rbZLn2FTJASJleIrxjir8ZuJanHWqV1HaXVMpSoJ2nNvOHQlj103JEQWbsFoqlCXJ34HCZ/PBKaAN1/0pWJC0WKUJCyX+0ZqFNYaUzEUN96zkNVElA2Wb1eYLlUXuvYbwaUncDm6dWqIp3tqD6xWN4rtrh14w+UiNmi3QdYin1+vWaVoTR63pV6Hf93ryxx/lnRDkWvCbHP1uG6690c2fkhH3ca0CHiQ9ZbTYjnjku0LGBkzIHbYjOqsfvWNttArqqTP2G9xZ76xAXnTekrRvg1IOAcgV8DAs4aIC8A8gIAyAsARclLi/RZ+9U8w/wkIDlOvfXoyBO58uwrXwnrVip5iqBCs7ZO9zva9qWlMtomfmkrI0sQsdndHpQNANoyHfJGwiN/19dxmbzD1LbfXXFMpqT/n3laTtMHqMX8Sd+TImkxfLObRdu2/AxazutQIlqjpS1dSkvPlN0svWPlPFNkXOhyzNPyGO2q0fZwhQOAJvydbDJIvjVfdLjJO/W3bI3qTYlNcJEts0WvTZmnzY2Yz5GQ7eapqpvh9E0m0lsum5ab5ma700j6XyrZG0pvN1w3OezPl++5TixPZLYnDTX58JaBU5ehowsJE1jzPa27Pj+nznVZOG1KoN3UHtWb8imuyDN6vIQ54rrIqZATs13S/et08o+u3qSgTC9FYiqYydhnRVe4oE6BzhHp14XUISB1LnvIBNM7YiNW0oZkyiq4cRVUVmOP6CZ352tDQnUk6Fw1cEWta7/i+zV1v6X1xZ1QZG/w8ZyJKqPPxuAl3685upZ60evlr7gzUh56e/ulJ2i7qZ5bdXTkyzd06hQxsSW/GIAmd6aKzsdp6Rkk21VGeEDDOfBF2pR0+MbTZn2+R9dIBVldsfz0nCl/d8PG5dlt2LwlwdZMiPbIPSIy22CUpQmLfzXKomqykLUYm+wtaLL+sQqNjFQHqysXZsVEaxSQZ8XPdgPcpZy6smwLZRUNW4E1l0HXu7T3+Fj2OTeaDhCqme2ZtWvRJVkoJrrIUuUXXWUDIE6pz0K9Nu7WzZev79RJOkvVNTQp+TZ6dzeD+N7CafeRp02lo9RU3gZ3Vl2uPGdjVDiNjADP50ZcsLKnylo0lDUYsLWVh70o6PctuZEaSlHkLiRZRzGpnhk5w5eUI4dD10z62xyJ8R9jNfaMHvfixqgt4KayPIbvj/ktaxk1Rhl1Hyrd+mSqKrI35VBAajCyamxQRm5aj+VtZtTNzTd06tTnITlinabtIg7VyBt5OmvF7MaTuO3utmnijHyRZzSU9A1uFzEcz+Gyl8rnkMom6jvZ5hupc6ta3Lv7ZjfKKuI8brCJkE4E7LGiyMp9SLHW9Ip9wooh30yHSUqFxvx8sW4SwTbnHkwKvOEQwLUq/9Y4x1kp/0/HLrS5Iwv5umzpYvG7Mhpbgn+Mx8JPuAwZst2OK+6LlP+ghtK1m1wsl6duS0++uqeNqoporZTqPOdjw3PHcs1zOm8jpU3JtxaOidt2p0aQFfNpwnpaqg66Tlsq63LDD5W5n5ptAEtXvcu25Ap0zfbcXJeEsUq/lgkUl/9gdqPJZmpCRPfeK2UOFYEo/eYoeJZt7ExkhDy3XKaUs5GRh2wpR4dA9tQQH5vdk3qGrJeeapAH8Q09dTCO3EY9Y8adVgKI0mJBHljfA8f1iJXs75Wl2qlbSr6lRx4hetfs/lzCLCVfU01Sq0p+yeNr96w21WXS1eJ6NDn9Mk2/FcQ2AOeK/wswAAWCHBYlRYQtAAAAAElFTkSuQmCC)"
      ],
      "metadata": {
        "id": "GToIZEsxEqpS"
      }
    },
    {
      "cell_type": "markdown",
      "source": [
        "# Lab Session \\# 01\n",
        "---\n",
        "\n",
        "by Prof. Josué Obregón <br>\n",
        "Data Analysis for Electronic Manufacturing <br>\n",
        "Department of Data Science - SeoulTech<br>\n",
        "\n",
        "## Objective\n",
        "\n",
        "The objectives of this lab session are as follows:\n",
        "\n",
        "1.   To familiarize the student with the development environment that we are going to use in our class, Google Colab\n",
        "2.   To introduce Numpy and Pandas library for data manipulation and learn the basic functionality"
      ],
      "metadata": {
        "id": "Ezhlc9pxD0YK"
      }
    },
    {
      "cell_type": "markdown",
      "source": [
        "# Jupyter Notebook (Google Colab)"
      ],
      "metadata": {
        "id": "DHpGD_1DFdyh"
      }
    },
    {
      "cell_type": "markdown",
      "source": [
        "In this section I would like to point out a few points that will help us during our class.\n"
      ],
      "metadata": {
        "id": "gchqi3t3HZGG"
      }
    },
    {
      "cell_type": "markdown",
      "metadata": {
        "id": "puU3aWE7GrcE"
      },
      "source": [
        "### Accessing Documentation with ?\n",
        "\n",
        "The Python language and its data science ecosystem are built with the user in mind, and one big part of that is access to documentation.\n",
        "Every Python object contains a reference to a string, known as a *docstring*, which in most cases will contain a concise summary of the object and how to use it.\n",
        "Python has a built-in `help` function that can access this information and prints the results.\n",
        "For example, to see the documentation of the built-in `len` function, you can do the following:\n",
        "\n",
        "```ipython\n",
        "In [1]: help(len)\n",
        "Help on built-in function len in module builtins:\n",
        "\n",
        "len(obj, /)\n",
        "    Return the number of items in a container.\n",
        "```\n",
        "\n",
        "Depending on your interpreter, this information may be displayed as inline text or in a separate pop-up window."
      ]
    },
    {
      "cell_type": "markdown",
      "metadata": {
        "id": "NA828Hb5GrcE"
      },
      "source": [
        "Because finding help on an object is so common and useful, IPython and Jupyter introduce the `?` character as a shorthand for accessing this documentation and other relevant information:\n",
        "\n",
        "```ipython\n",
        "In [2]: len?\n",
        "Signature: len(obj, /)\n",
        "Docstring: Return the number of items in a container.\n",
        "Type:      builtin_function_or_method\n",
        "```"
      ]
    },
    {
      "cell_type": "markdown",
      "metadata": {
        "id": "HAEY8XxmGrcE"
      },
      "source": [
        "This notation works for just about anything, including object methods:\n",
        "\n",
        "```ipython\n",
        "In [3]: L = [1, 2, 3]\n",
        "In [4]: L.insert?\n",
        "Signature: L.insert(index, object, /)\n",
        "Docstring: Insert object before index.\n",
        "Type:      builtin_function_or_method\n",
        "```\n",
        "\n",
        "or even objects themselves, with the documentation from their type:\n",
        "\n",
        "```ipython\n",
        "In [5]: L?\n",
        "Type:        list\n",
        "String form: [1, 2, 3]\n",
        "Length:      3\n",
        "Docstring:  \n",
        "Built-in mutable sequence.\n",
        "\n",
        "If no argument is given, the constructor creates a new empty list.\n",
        "The argument must be an iterable if specified.\n",
        "```"
      ]
    },
    {
      "cell_type": "markdown",
      "source": [
        "Let's try with some functions"
      ],
      "metadata": {
        "id": "mAhsbiVEINsW"
      }
    },
    {
      "cell_type": "code",
      "source": [],
      "metadata": {
        "id": "SsTIRmTZINDE"
      },
      "execution_count": null,
      "outputs": []
    },
    {
      "cell_type": "code",
      "source": [],
      "metadata": {
        "id": "JFp1R3o6IVn4"
      },
      "execution_count": null,
      "outputs": []
    },
    {
      "cell_type": "code",
      "source": [],
      "metadata": {
        "id": "WRLiGxfFIV02"
      },
      "execution_count": null,
      "outputs": []
    },
    {
      "cell_type": "markdown",
      "metadata": {
        "id": "WikWKyTnGrcF"
      },
      "source": [
        "### Exploring Modules with Tab Completion\n",
        "\n",
        "Another useful interface is the use of the Tab key for autocompletion and exploration of the contents of objects, modules, and namespaces.\n",
        "In the examples that follow, I'll use `<TAB>` to indicate when the Tab key should be pressed."
      ]
    },
    {
      "cell_type": "markdown",
      "metadata": {
        "id": "l_2RHrZ_GrcF"
      },
      "source": [
        "#### Tab completion of object contents\n",
        "\n",
        "Every Python object has various attributes and methods associated with it.\n",
        "Like the `help` function mentioned earlier, Python has a built-in `dir` function that returns a list of these, but the tab-completion interface is much easier to use in practice.\n",
        "To see a list of all available attributes of an object, you can type the name of the object followed by a period (\"`.`\") character and the Tab key:\n",
        "\n",
        "```ipython\n",
        "In [10]: L.<TAB>\n",
        "            append() count    insert   reverse\n",
        "            clear    extend   pop      sort    \n",
        "            copy     index    remove           \n",
        "```\n",
        "\n",
        "To narrow down the list, you can type the first character or several characters of the name, and the Tab key will find the matching attributes and methods:\n",
        "\n",
        "```ipython\n",
        "In [10]: L.c<TAB>\n",
        "             clear() count()\n",
        "             copy()         \n",
        "\n",
        "In [10]: L.co<TAB>\n",
        "              copy()  count()\n",
        "```\n"
      ]
    },
    {
      "cell_type": "markdown",
      "source": [
        "However, since we are working in Google Colab, we should prece CTRL + SPACE to obtain the same behavior. Optionally, you can also write a period (\"`.`\") and then wait a second and the same list will appear.\n",
        "\n",
        "Let's try with some functions:"
      ],
      "metadata": {
        "id": "XYMmkfYrImTq"
      }
    },
    {
      "cell_type": "code",
      "source": [],
      "metadata": {
        "id": "UgVufBejaP79"
      },
      "execution_count": null,
      "outputs": []
    },
    {
      "cell_type": "code",
      "source": [],
      "metadata": {
        "id": "vKDReNXOaP_B"
      },
      "execution_count": null,
      "outputs": []
    },
    {
      "cell_type": "code",
      "source": [],
      "metadata": {
        "id": "BVImWyGEaQCN"
      },
      "execution_count": null,
      "outputs": []
    },
    {
      "cell_type": "markdown",
      "source": [
        "Finally, this is a simple question, how do you find out the type of an object if you don't know it?"
      ],
      "metadata": {
        "id": "9UUM8uZkeSip"
      }
    },
    {
      "cell_type": "code",
      "source": [],
      "metadata": {
        "id": "3CVxQRo9eN4H"
      },
      "execution_count": null,
      "outputs": []
    },
    {
      "cell_type": "markdown",
      "metadata": {
        "id": "mjxFNW0TxdQZ"
      },
      "source": [
        "<img src=\"https://miro.medium.com/max/2400/0*eNwKHW934I1awMzH.png\" width=\"200\"/>\n",
        "</div>\n",
        "\n",
        "# NumPy\n",
        "\n",
        "\n",
        "---\n",
        "\n",
        "\n"
      ]
    },
    {
      "cell_type": "markdown",
      "source": [
        "## Introduction\n",
        "\n",
        "The `numpy` package (module) is used in almost all numerical computation using Python. It is a package that provide high-performance vector, matrix and higher-dimensional data structures for Python. It is implemented in C and Fortran so when calculations are **vectorized** * (formulated with vectors and matrices), the performance is very good.\n",
        "\n",
        "Vectorization is the process of converting an algorithm from operating on a single value at a time to operating on a set of values (vector) at one time.\n",
        "\n",
        "To use `numpy` you need to import the module. By convention, the NumPy module imported under the alias np, like so::\n",
        "\n",
        "```python\n",
        "import numpy as np\n",
        "```\n",
        "\n",
        "After this, we can access functions and classes in the numpy module using the np namespace.\n",
        "\n",
        "Let's import numpy"
      ],
      "metadata": {
        "id": "fRE8jJS5yTQ2"
      }
    },
    {
      "cell_type": "code",
      "source": [],
      "metadata": {
        "id": "Ncu3SUHEahGX"
      },
      "execution_count": null,
      "outputs": []
    },
    {
      "cell_type": "markdown",
      "source": [
        "### NumPy arrays\n",
        "In the numpy package the terminology used for vectors, matrices and higher-dimensional data sets is *array*.\n",
        "\n",
        "But first, what is an array? Let's refresh a bit.\n",
        "\n",
        "In computer science, an array data structure, or simply an array, is a data structure consisting of a collection of elements, each identified by at least one array index or key.\n",
        "\n",
        "\n",
        "![](https://i.imgur.com/mg8O3kd.png)"
      ],
      "metadata": {
        "id": "ALwwMc-WyBmW"
      }
    },
    {
      "cell_type": "markdown",
      "metadata": {
        "id": "eZir0G9KxdQc"
      },
      "source": [
        "## Creating `numpy` arrays"
      ]
    },
    {
      "cell_type": "markdown",
      "metadata": {
        "id": "SQNx98sTxdQd"
      },
      "source": [
        "There are a number of ways to initialize new numpy arrays, for example from\n",
        "\n",
        "* a Python list or tuples\n",
        "* using functions that are dedicated to generating numpy arrays, such as `arange`, `linspace`, etc.\n",
        "* reading data from files"
      ]
    },
    {
      "cell_type": "markdown",
      "metadata": {
        "id": "_7gvo6xnxdQd"
      },
      "source": [
        "### From lists"
      ]
    },
    {
      "cell_type": "markdown",
      "metadata": {
        "id": "j-anjcfExdQd"
      },
      "source": [
        "For example, for creating a new vector and matrix arrays from Python lists we can use the `numpy.array` function, as follows:\n",
        "\n",
        "```python\n",
        "# a vector (1D array): the argument to the array function is a Python list\n",
        "vec = np.array([1,2,3,4])\n",
        "```\n",
        "\n",
        "```python\n",
        "# a matrix: the argument to the array function is a nested Python list\n",
        "mat = np.array([[1, 2], [3, 4]])\n",
        "```\n",
        "\n",
        "Lets try!!"
      ]
    },
    {
      "cell_type": "code",
      "source": [
        "import numpy as np"
      ],
      "metadata": {
        "id": "soYK-SomsyFZ"
      },
      "execution_count": 2,
      "outputs": []
    },
    {
      "cell_type": "code",
      "source": [
        "vec = np.array([10,24,34,48,58,89,67])\n",
        "vec"
      ],
      "metadata": {
        "id": "LKmWKCAG8a_J",
        "outputId": "feb356e2-4e9e-46c4-fb82-bf7fc1d7351e",
        "colab": {
          "base_uri": "https://localhost:8080/"
        }
      },
      "execution_count": 4,
      "outputs": [
        {
          "output_type": "execute_result",
          "data": {
            "text/plain": [
              "array([10, 24, 34, 48, 58, 89, 67])"
            ]
          },
          "metadata": {},
          "execution_count": 4
        }
      ]
    },
    {
      "cell_type": "code",
      "source": [
        "mat = np.array([[1, 2], [3, 4]])\n",
        "mat"
      ],
      "metadata": {
        "id": "hKVR1Knc-6MB"
      },
      "execution_count": null,
      "outputs": []
    },
    {
      "cell_type": "code",
      "source": [
        "mat3 = np.array([[[1, 2], [3, 4]],[[1, 2], [3, 4]]])\n",
        "mat3"
      ],
      "metadata": {
        "id": "9w10aKhI-5wP"
      },
      "execution_count": null,
      "outputs": []
    },
    {
      "cell_type": "markdown",
      "metadata": {
        "id": "HeGMecOLxdQf"
      },
      "source": [
        "The `vec` and `mat` objects are both of the type `ndarray` that the `numpy` module provides. Let's check!\n",
        "\n",
        "```python\n",
        "type(vec), type(mat)\n",
        "```"
      ]
    },
    {
      "cell_type": "code",
      "execution_count": null,
      "metadata": {
        "id": "5UmW56fGxdQf"
      },
      "outputs": [],
      "source": [
        "type(vec), type(mat)"
      ]
    },
    {
      "cell_type": "markdown",
      "metadata": {
        "id": "C_T81GpxxdQf"
      },
      "source": [
        "The difference between the `vec` and `mat` arrays is only their shapes. We can get information about the shape of an array by using the `ndarray.shape` property.\n",
        "\n",
        "```python\n",
        "vec.shape # => (4,)\n",
        "```"
      ]
    },
    {
      "cell_type": "code",
      "execution_count": null,
      "metadata": {
        "id": "iTpJBCf8xdQf"
      },
      "outputs": [],
      "source": []
    },
    {
      "cell_type": "code",
      "source": [],
      "metadata": {
        "id": "em_ueJHF8P1t"
      },
      "execution_count": null,
      "outputs": []
    },
    {
      "cell_type": "code",
      "execution_count": null,
      "metadata": {
        "id": "cZHc9xmLxdQg"
      },
      "outputs": [],
      "source": []
    },
    {
      "cell_type": "markdown",
      "metadata": {
        "id": "joTLGdx4xdQg"
      },
      "source": [
        "The number of elements in the array is available through the `ndarray.size` property:\n",
        "\n",
        "```python\n",
        "vec.size # => 4\n",
        "mat.size  # => 4\n",
        "```\n",
        "\n",
        "Let's try..."
      ]
    },
    {
      "cell_type": "code",
      "execution_count": null,
      "metadata": {
        "id": "dm6d6aToxdQg"
      },
      "outputs": [],
      "source": []
    },
    {
      "cell_type": "code",
      "source": [],
      "metadata": {
        "id": "1n6n7jdCt1kK"
      },
      "execution_count": null,
      "outputs": []
    },
    {
      "cell_type": "code",
      "source": [],
      "metadata": {
        "id": "r1rraTBRt1oR"
      },
      "execution_count": null,
      "outputs": []
    },
    {
      "cell_type": "markdown",
      "metadata": {
        "id": "kc7Ygyo8xdQg"
      },
      "source": [
        "Equivalently, we could use the function `numpy.shape` and `numpy.size`\n",
        "\n",
        "```python\n",
        "np.shape(vec)\n",
        "np.size(mat)\n",
        "```\n",
        "\n",
        "Try it out!"
      ]
    },
    {
      "cell_type": "code",
      "execution_count": null,
      "metadata": {
        "id": "ohnKTAMRxdQh"
      },
      "outputs": [],
      "source": []
    },
    {
      "cell_type": "code",
      "execution_count": null,
      "metadata": {
        "id": "2omk7jUmxdQh"
      },
      "outputs": [],
      "source": []
    },
    {
      "cell_type": "markdown",
      "metadata": {
        "id": "ZIXhV94PxdQh"
      },
      "source": [
        "So far the `numpy.ndarray` looks awefully much like a Python list (or nested list). Why not simply use Python lists for computations instead of creating a new array type?\n",
        "\n",
        "There are several reasons:\n",
        "\n",
        "* Python lists are very general. They can contain any kind of object. They are dynamically typed. They do not support mathematical functions such as matrix and dot multiplications, etc. Implementing such functions for Python lists would not be very efficient because of the dynamic typing.\n",
        "* Numpy arrays are **statically typed** and **homogeneous**. The type of the elements is determined when the array is created.\n",
        "* Numpy arrays are memory efficient.\n",
        "* Because of the static typing, fast implementation of mathematical functions such as multiplication and addition of `numpy` arrays can be implemented in a compiled language (C and Fortran is used).\n",
        "\n",
        "Using the `dtype` (data type) property of an `ndarray`, we can see what type the data of an array has:\n",
        "\n",
        "```python\n",
        "mat.dtype  # => dtype('int64')\n",
        "```"
      ]
    },
    {
      "cell_type": "code",
      "execution_count": null,
      "metadata": {
        "id": "-FiQsp7txdQh"
      },
      "outputs": [],
      "source": []
    },
    {
      "cell_type": "markdown",
      "metadata": {
        "id": "06u5MzBaxdQi"
      },
      "source": [
        "We get an error if we try to assign a value of the wrong type to an element in a numpy array:\n",
        "\n",
        "```python\n",
        "mat[0,0] = \"hello\"\n",
        "```"
      ]
    },
    {
      "cell_type": "code",
      "execution_count": null,
      "metadata": {
        "id": "PWXrB1fDxdQi"
      },
      "outputs": [],
      "source": []
    },
    {
      "cell_type": "markdown",
      "metadata": {
        "id": "qyqpqrqfxdQi"
      },
      "source": [
        "If we want, we can explicitly define the type of the array data when we create it, using the `dtype` keyword argument:\n",
        "\n",
        "```python\n",
        "mat = np.array([[1, 2], [3, 4]], dtype=complex)\n",
        "```"
      ]
    },
    {
      "cell_type": "code",
      "execution_count": null,
      "metadata": {
        "id": "p8G0Sgj_xdQi"
      },
      "outputs": [],
      "source": [
        "mat = np.array([[1, 2], [3, 4]], dtype=complex)"
      ]
    },
    {
      "cell_type": "code",
      "source": [],
      "metadata": {
        "id": "BExnIIoivOgk"
      },
      "execution_count": null,
      "outputs": []
    },
    {
      "cell_type": "markdown",
      "metadata": {
        "id": "T6Bk0b3ZxdQi"
      },
      "source": [
        "Common data types that can be used with `dtype` are: `int`, `float`, `complex`, `bool`, `object`, etc.\n",
        "\n",
        "We can also explicitly define the bit size of the data types, for example: `int64`, `int16`, `float128`, `complex128`."
      ]
    },
    {
      "cell_type": "markdown",
      "metadata": {
        "id": "ax6gf4QKxdQi"
      },
      "source": [
        "### Using array-generating functions"
      ]
    },
    {
      "cell_type": "markdown",
      "metadata": {
        "id": "Yz-UYymHxdQj"
      },
      "source": [
        "For larger arrays it is impractical to initialize the data manually, using explicit python lists. Instead we can use one of the many functions in `numpy` that generate arrays of different forms. Some of the more common are:\n"
      ]
    },
    {
      "cell_type": "markdown",
      "metadata": {
        "id": "a5eM9V9cxdQj"
      },
      "source": [
        "#### arange\n",
        "Return evenly spaced values within a given interval.\n",
        "\n",
        "```python\n",
        "x = np.arange(0, 10, 1) # arguments: start, stop, step\n",
        "```"
      ]
    },
    {
      "cell_type": "code",
      "execution_count": null,
      "metadata": {
        "id": "E7XdiN4jxdQj"
      },
      "outputs": [],
      "source": []
    },
    {
      "cell_type": "code",
      "execution_count": null,
      "metadata": {
        "id": "9fzTNTucxdQj"
      },
      "outputs": [],
      "source": []
    },
    {
      "cell_type": "markdown",
      "metadata": {
        "id": "lVI7GePaxdQj"
      },
      "source": [
        "#### linspace and logspace\n",
        "\n",
        "Both also return evenly spaced numbers over a specified interval.\n",
        "\n",
        "linspace can include or exclude the endpoint\n",
        "\n",
        "```python\n",
        "# using linspace, both end points ARE included\n",
        "np.linspace(0, 10, 25) # start, stop, num=50, endpoint: optional, dtype: optional)\n",
        "```\n",
        "\n",
        "logspace is similar to linspace but using a log scale\n",
        "\n",
        "```python\n",
        "np.logspace(0, 10, 10, base=np.e) # start, stop, num=50, endpoint=True, base=10.0, dtype: optional)\n",
        "```\n"
      ]
    },
    {
      "cell_type": "code",
      "execution_count": null,
      "metadata": {
        "id": "_iI3SEpjxdQj"
      },
      "outputs": [],
      "source": []
    },
    {
      "cell_type": "code",
      "source": [],
      "metadata": {
        "id": "ypYu_e27F2hi"
      },
      "execution_count": null,
      "outputs": []
    },
    {
      "cell_type": "code",
      "execution_count": null,
      "metadata": {
        "id": "6fV6g5gjxdQk"
      },
      "outputs": [],
      "source": []
    },
    {
      "cell_type": "markdown",
      "metadata": {
        "id": "lrpz6rz-xdQk"
      },
      "source": [
        "#### Random data\n",
        "\n",
        "The function numpy.random.rand creates an array of the given shape and populate it with random samples from a uniform distribution over [0, 1).\n",
        "\n",
        "```python\n",
        "# uniform random numbers in [0,1]\n",
        "np.random.rand(5,5)  # d0, d1, ..., dn\n",
        "```"
      ]
    },
    {
      "cell_type": "code",
      "execution_count": null,
      "metadata": {
        "id": "L1Xu_s7nxdQl"
      },
      "outputs": [],
      "source": []
    },
    {
      "cell_type": "code",
      "execution_count": null,
      "metadata": {
        "id": "KgUPFxzbxdQl"
      },
      "outputs": [],
      "source": []
    },
    {
      "cell_type": "markdown",
      "metadata": {
        "id": "nyPHcKvQxdQl"
      },
      "source": [
        "#### Zeros and ones\n",
        "\n",
        "These two functions create and array of the given shapes and fill them with zeroes or ones.\n",
        "\n",
        "```python\n",
        "np.zeroes(5)  # shape, dtype=float\n",
        "np.ones((3,2))  # shape, dtype=float\n",
        "```\n",
        "Let's try out!"
      ]
    },
    {
      "cell_type": "code",
      "execution_count": null,
      "metadata": {
        "id": "DR6u-TblxdQl"
      },
      "outputs": [],
      "source": []
    },
    {
      "cell_type": "markdown",
      "source": [],
      "metadata": {
        "id": "XG0MfVQzrGMA"
      }
    },
    {
      "cell_type": "code",
      "execution_count": null,
      "metadata": {
        "id": "PMksIoHixdQm"
      },
      "outputs": [],
      "source": []
    },
    {
      "cell_type": "markdown",
      "metadata": {
        "id": "wQXRSaX_xdQm"
      },
      "source": [
        "## File I/O"
      ]
    },
    {
      "cell_type": "markdown",
      "metadata": {
        "id": "MGJLAu6OxdQm"
      },
      "source": [
        "### Comma-separated values (CSV)"
      ]
    },
    {
      "cell_type": "markdown",
      "metadata": {
        "id": "eOuSHwh4xdQm"
      },
      "source": [
        "A very common file format for data files is comma-separated values (CSV), or related formats such as TSV (tab-separated values). To read data from such files into Numpy arrays we can use the [`numpy.genfromtxt`](https://numpy.org/doc/stable/reference/generated/numpy.genfromtxt.html) function.\n",
        "\n",
        "Let's check how this works using the california_housing_train.csv that you can fnid in the sample_data folder from your Google Colab environment.\n",
        "\n",
        "Let's first check the contents of the file, and then load into a new object with the following code:\n",
        "\n",
        "```python\n",
        "data = np.genfromtxt('sample_data/california_housing_train.csv', delimiter=',', skip_header=1)\n",
        "```"
      ]
    },
    {
      "cell_type": "code",
      "execution_count": 30,
      "metadata": {
        "id": "xwLJZWXjxdQm"
      },
      "outputs": [],
      "source": [
        "data = np.genfromtxt('sample_data/california_housing_train.csv', delimiter=',', skip_header=1)"
      ]
    },
    {
      "cell_type": "code",
      "execution_count": null,
      "metadata": {
        "id": "olFppDxUxdQm"
      },
      "outputs": [],
      "source": []
    },
    {
      "cell_type": "markdown",
      "metadata": {
        "id": "EnQ1t-n-xdQn"
      },
      "source": [
        "Using `numpy.savetxt` we can store a Numpy array to a file in CSV format:\n",
        "\n",
        "```python\n",
        "mat = np.random.rand(3,3)\n",
        "np.savetxt('random-matrix.csv',mat)\n",
        "```"
      ]
    },
    {
      "cell_type": "code",
      "execution_count": null,
      "metadata": {
        "id": "o7TbZkxQxdQn"
      },
      "outputs": [],
      "source": []
    },
    {
      "cell_type": "code",
      "source": [],
      "metadata": {
        "id": "ERWs92uDPEt7"
      },
      "execution_count": null,
      "outputs": []
    },
    {
      "cell_type": "code",
      "source": [],
      "metadata": {
        "id": "ziTtZ2f2t-wm"
      },
      "execution_count": null,
      "outputs": []
    },
    {
      "cell_type": "markdown",
      "metadata": {
        "id": "oA2VfCaWxdQo"
      },
      "source": [
        "## Manipulating arrays"
      ]
    },
    {
      "cell_type": "markdown",
      "metadata": {
        "id": "GkTil5xnxdQo"
      },
      "source": [
        "### Indexing"
      ]
    },
    {
      "cell_type": "markdown",
      "metadata": {
        "id": "OpicWY3NxdQp"
      },
      "source": [
        "We can index elements in an array using square brackets and indices:\n",
        "\n",
        "```python\n",
        "# vec is a vector, and has only one dimension, taking one index\n",
        "vec[0]\n",
        "\n",
        "# mat is a matrix, or a 2 dimensional array, taking two indices\n",
        "mat[1,1]\n",
        "mat[1][1]\n",
        "```"
      ]
    },
    {
      "cell_type": "code",
      "execution_count": null,
      "metadata": {
        "id": "Gd6dHrybxdQp"
      },
      "outputs": [],
      "source": []
    },
    {
      "cell_type": "code",
      "execution_count": null,
      "metadata": {
        "id": "J0fjrys1xdQp"
      },
      "outputs": [],
      "source": []
    },
    {
      "cell_type": "code",
      "source": [],
      "metadata": {
        "id": "UU5gA4SUR-PN"
      },
      "execution_count": null,
      "outputs": []
    },
    {
      "cell_type": "code",
      "source": [],
      "metadata": {
        "id": "ocbggSzMSCyL"
      },
      "execution_count": null,
      "outputs": []
    },
    {
      "cell_type": "markdown",
      "metadata": {
        "id": "0_2YomOMxdQp"
      },
      "source": [
        "If we omit an index of a multidimensional array it returns the whole row (or, in general, a N-1 dimensional array)\n",
        "\n",
        "```python\n",
        "mat[1]  # row 1\n",
        "```"
      ]
    },
    {
      "cell_type": "code",
      "execution_count": null,
      "metadata": {
        "id": "fnJy0Lp-xdQp"
      },
      "outputs": [],
      "source": []
    },
    {
      "cell_type": "code",
      "execution_count": null,
      "metadata": {
        "id": "mCOuKIkIxdQp"
      },
      "outputs": [],
      "source": []
    },
    {
      "cell_type": "markdown",
      "metadata": {
        "id": "440mi1vKxdQp"
      },
      "source": [
        "The same thing can be achieved with using `:` instead of an index:\n",
        "\n",
        "```python\n",
        "mat[1,:] # row 1\n",
        "mat[0,:] # row 0\n",
        "mat[:,1] # column 1\n",
        "```"
      ]
    },
    {
      "cell_type": "code",
      "execution_count": null,
      "metadata": {
        "id": "4BlwDbANxdQp"
      },
      "outputs": [],
      "source": []
    },
    {
      "cell_type": "code",
      "execution_count": null,
      "metadata": {
        "id": "6IeODia3xdQp"
      },
      "outputs": [],
      "source": []
    },
    {
      "cell_type": "markdown",
      "metadata": {
        "id": "CEIONzcGxdQq"
      },
      "source": [
        "We can assign new values to elements in an array using indexing:\n",
        "\n",
        "```python\n",
        "mat[0,0] = 1  # assing the value of 1 to the first row, first column element\n",
        "\n",
        "```\n",
        "\n",
        "It also works for rows and columns\n",
        "\n",
        "```python\n",
        "mat[1,:] = 0  # assing the value of 0 to the the second row\n",
        "mat[:,2] = -1 # assign the value of -1 to the third column\n",
        "```\n",
        "\n",
        "Let's explore this"
      ]
    },
    {
      "cell_type": "code",
      "execution_count": null,
      "metadata": {
        "id": "LoyRHxUFxdQq"
      },
      "outputs": [],
      "source": []
    },
    {
      "cell_type": "code",
      "execution_count": null,
      "metadata": {
        "id": "jpzyfLHmxdQq"
      },
      "outputs": [],
      "source": []
    },
    {
      "cell_type": "code",
      "execution_count": null,
      "metadata": {
        "id": "Hqu4sPLuxdQq"
      },
      "outputs": [],
      "source": []
    },
    {
      "cell_type": "code",
      "execution_count": null,
      "metadata": {
        "id": "SKvkwYbvxdQq"
      },
      "outputs": [],
      "source": []
    },
    {
      "cell_type": "code",
      "source": [],
      "metadata": {
        "id": "Ygg67Tex0Onq"
      },
      "execution_count": null,
      "outputs": []
    },
    {
      "cell_type": "markdown",
      "metadata": {
        "id": "iedasW-hxdQq"
      },
      "source": [
        "### Index slicing"
      ]
    },
    {
      "cell_type": "markdown",
      "metadata": {
        "id": "PqSf5FaXxdQq"
      },
      "source": [
        "Index slicing is the technical name for the syntax `mat[lower:upper:step]` to extract part of an array:\n",
        "\n",
        "Let's create the following array:\n",
        "\n",
        "```python\n",
        "a = np.array([1,2,3,4,5])\n",
        "```\n",
        "\n",
        "After that, let's try the previous sintax as follows:\n",
        "\n",
        "```python\n",
        "a[1:3]\n",
        "```\n"
      ]
    },
    {
      "cell_type": "code",
      "execution_count": 9,
      "metadata": {
        "id": "fZsOsP6exdQq"
      },
      "outputs": [],
      "source": [
        "a=np.array([10,24,34,49,58,89,67])"
      ]
    },
    {
      "cell_type": "code",
      "execution_count": 10,
      "metadata": {
        "id": "CUZ9HkH1xdQr",
        "outputId": "8f9924dc-850a-4da0-9baf-7601f311a127",
        "colab": {
          "base_uri": "https://localhost:8080/"
        }
      },
      "outputs": [
        {
          "output_type": "execute_result",
          "data": {
            "text/plain": [
              "(7,)"
            ]
          },
          "metadata": {},
          "execution_count": 10
        }
      ],
      "source": [
        "a.shape"
      ]
    },
    {
      "cell_type": "markdown",
      "metadata": {
        "id": "fl2WhWSYxdQr"
      },
      "source": [
        "Array slices are *mutable*: if they are assigned a new value the original array from which the slice was extracted is modified:\n",
        "\n",
        "```python\n",
        "a[1:3] = [-2,-3]\n",
        "```"
      ]
    },
    {
      "cell_type": "code",
      "execution_count": 12,
      "metadata": {
        "id": "GSENzcnhxdQr",
        "outputId": "8e169a1d-e8e0-47e6-e7ec-921eba1036e8",
        "colab": {
          "base_uri": "https://localhost:8080/"
        }
      },
      "outputs": [
        {
          "output_type": "execute_result",
          "data": {
            "text/plain": [
              "array([10, 24, 34,  1,  2,  3, 67])"
            ]
          },
          "metadata": {},
          "execution_count": 12
        }
      ],
      "source": [
        "a[3:6]=[1,2,3]\n",
        "a"
      ]
    },
    {
      "cell_type": "code",
      "source": [
        "a[1:7:2]"
      ],
      "metadata": {
        "id": "xOn7u3FOvAM-",
        "outputId": "aaf5cc95-1fba-4450-e4f8-70727ba0fdbc",
        "colab": {
          "base_uri": "https://localhost:8080/"
        }
      },
      "execution_count": 14,
      "outputs": [
        {
          "output_type": "execute_result",
          "data": {
            "text/plain": [
              "array([24,  1,  3])"
            ]
          },
          "metadata": {},
          "execution_count": 14
        }
      ]
    },
    {
      "cell_type": "markdown",
      "metadata": {
        "id": "AhYf19Q7xdQr"
      },
      "source": [
        "We can omit any of the three parameters in `M[lower:upper:step]`:\n",
        "\n",
        "```python\n",
        "a[::] # lower, upper, step all take the default values\n",
        "a[::2] # step is 2, lower and upper defaults to the beginning and end of the array\n",
        "a[:3] # first three elements\n",
        "a[3:] # elements from index 3\n",
        "```\n",
        "\n",
        "Let's try out\n"
      ]
    },
    {
      "cell_type": "code",
      "execution_count": 15,
      "metadata": {
        "id": "RcRlmYyxxdQr",
        "outputId": "d5e677a0-d0ac-4aec-8421-2f7d0efd0927",
        "colab": {
          "base_uri": "https://localhost:8080/"
        }
      },
      "outputs": [
        {
          "output_type": "execute_result",
          "data": {
            "text/plain": [
              "array([10, 34,  2, 67])"
            ]
          },
          "metadata": {},
          "execution_count": 15
        }
      ],
      "source": [
        "a[::2]"
      ]
    },
    {
      "cell_type": "code",
      "execution_count": null,
      "metadata": {
        "id": "Y2hK-SLrxdQr"
      },
      "outputs": [],
      "source": []
    },
    {
      "cell_type": "code",
      "execution_count": null,
      "metadata": {
        "id": "6nnCNM7YxdQr"
      },
      "outputs": [],
      "source": []
    },
    {
      "cell_type": "code",
      "execution_count": null,
      "metadata": {
        "id": "Wcwxf8cwxdQr"
      },
      "outputs": [],
      "source": []
    },
    {
      "cell_type": "markdown",
      "metadata": {
        "id": "bCCrXLiaxdQs"
      },
      "source": [
        "Negative indices counts from the end of the array (positive index from the begining):\n",
        "\n",
        "```python\n",
        "a[-1] # the last element in the array\n",
        "a[-3:] # the last three elements\n",
        "```"
      ]
    },
    {
      "cell_type": "code",
      "source": [],
      "metadata": {
        "id": "80tViY6L1Ngf"
      },
      "execution_count": null,
      "outputs": []
    },
    {
      "cell_type": "code",
      "execution_count": null,
      "metadata": {
        "id": "IIdHvAA_xdQs"
      },
      "outputs": [],
      "source": []
    },
    {
      "cell_type": "code",
      "execution_count": null,
      "metadata": {
        "id": "svqjfQd0xdQs"
      },
      "outputs": [],
      "source": []
    },
    {
      "cell_type": "code",
      "execution_count": null,
      "metadata": {
        "id": "I272_n-DxdQs"
      },
      "outputs": [],
      "source": []
    },
    {
      "cell_type": "markdown",
      "metadata": {
        "id": "3y4TcYvsxdQs"
      },
      "source": [
        "Index slicing works exactly the same way for multidimensional arrays:\n",
        "\n",
        "Let's create the following array:\n",
        "\n",
        "```python\n",
        "a = np.array(np.arange(25)).reshape(5,5)\n",
        "```\n",
        "\n",
        "And then, let's get a block and some strides from the original array\n",
        "\n",
        "```python\n",
        "# a block from the original array\n",
        "a[1:4, 1:4]\n",
        "\n",
        "# strides\n",
        "a[::2, ::2]\n",
        "```\n",
        "\n",
        "Let's try out this. Can you guess what will be the output of both statements?"
      ]
    },
    {
      "cell_type": "code",
      "execution_count": 16,
      "metadata": {
        "id": "I4M9Zdd7xdQs"
      },
      "outputs": [],
      "source": [
        "a = np.array(np.arange(25)).reshape(5,5)"
      ]
    },
    {
      "cell_type": "code",
      "source": [
        "a[2:4,0:3]"
      ],
      "metadata": {
        "id": "Wfa_omdRV3Zg",
        "outputId": "9cf7fb8a-f2d7-4a24-eb08-bf04ec92d4a8",
        "colab": {
          "base_uri": "https://localhost:8080/"
        }
      },
      "execution_count": 17,
      "outputs": [
        {
          "output_type": "execute_result",
          "data": {
            "text/plain": [
              "array([[10, 11, 12],\n",
              "       [15, 16, 17]])"
            ]
          },
          "metadata": {},
          "execution_count": 17
        }
      ]
    },
    {
      "cell_type": "code",
      "execution_count": null,
      "metadata": {
        "id": "3HZavUsCxdQs"
      },
      "outputs": [],
      "source": []
    },
    {
      "cell_type": "code",
      "execution_count": null,
      "metadata": {
        "id": "26WrTv1QxdQs"
      },
      "outputs": [],
      "source": []
    },
    {
      "cell_type": "markdown",
      "source": [
        "### Fancy indexing\n",
        "\n",
        "We can use array or lists for slicing an array. For example:\n",
        "\n",
        "```python\n",
        "row_indices = [1, 2, 3] # a list of row indexes that we want to keep\n",
        "col_indices = [1, 2, -1] # a list of column indexes that we want to keep\n",
        "a[row_indices, col_indices]\n",
        "\n",
        "```\n",
        "\n",
        "Let's see this:\n"
      ],
      "metadata": {
        "id": "M1D1IMjEDZvF"
      }
    },
    {
      "cell_type": "code",
      "source": [
        "a"
      ],
      "metadata": {
        "id": "AwsfGZbAEDWE",
        "outputId": "3beafd4b-fdc0-4c15-ce12-92328e5f4451",
        "colab": {
          "base_uri": "https://localhost:8080/"
        }
      },
      "execution_count": 18,
      "outputs": [
        {
          "output_type": "execute_result",
          "data": {
            "text/plain": [
              "array([[ 0,  1,  2,  3,  4],\n",
              "       [ 5,  6,  7,  8,  9],\n",
              "       [10, 11, 12, 13, 14],\n",
              "       [15, 16, 17, 18, 19],\n",
              "       [20, 21, 22, 23, 24]])"
            ]
          },
          "metadata": {},
          "execution_count": 18
        }
      ]
    },
    {
      "cell_type": "code",
      "source": [
        "row_indices = [1, 2, 3] # a list of row indexes that we want to keep\n",
        "col_indices = [1, 2, -1] # a list of column indexes that we want to keep\n",
        "a[row_indices, col_indices]"
      ],
      "metadata": {
        "id": "WtEGZpWsD8aj",
        "outputId": "1a6b1352-2dbd-4fe5-d955-e50a5de8807f",
        "colab": {
          "base_uri": "https://localhost:8080/"
        }
      },
      "execution_count": 19,
      "outputs": [
        {
          "output_type": "execute_result",
          "data": {
            "text/plain": [
              "array([ 6, 12, 19])"
            ]
          },
          "metadata": {},
          "execution_count": 19
        }
      ]
    },
    {
      "cell_type": "code",
      "source": [],
      "metadata": {
        "id": "ZQWcJ2OID8dU"
      },
      "execution_count": null,
      "outputs": []
    },
    {
      "cell_type": "markdown",
      "source": [
        "We can also use index masks: If the index mask is an Numpy array of data type bool, then an element is selected (True) or not (False) depending on the value of the index mask at the position of each element:\n",
        "\n",
        "```python\n",
        "b = np.array([n for n in range(5)])\n",
        "row_mask = np.array([True, False, True, False, False])\n",
        "b[row_mask]\n",
        "```\n",
        "\n",
        "Try it by yourself!"
      ],
      "metadata": {
        "id": "BmolcaQcEdxz"
      }
    },
    {
      "cell_type": "code",
      "source": [
        "b = np.array([n for n in range(5)])\n",
        "row_mask = np.array([True, False, True, False, False])\n",
        "b[row_mask]"
      ],
      "metadata": {
        "id": "xUSqDCfYEnYV",
        "outputId": "997fe442-e76c-48f3-f61a-4273b1889ec4",
        "colab": {
          "base_uri": "https://localhost:8080/"
        }
      },
      "execution_count": 20,
      "outputs": [
        {
          "output_type": "execute_result",
          "data": {
            "text/plain": [
              "array([0, 2])"
            ]
          },
          "metadata": {},
          "execution_count": 20
        }
      ]
    },
    {
      "cell_type": "code",
      "source": [],
      "metadata": {
        "id": "_EHG2BMREnbb"
      },
      "execution_count": null,
      "outputs": []
    },
    {
      "cell_type": "code",
      "source": [],
      "metadata": {
        "id": "5zF8_u5r2Veg"
      },
      "execution_count": null,
      "outputs": []
    },
    {
      "cell_type": "markdown",
      "source": [
        "This feature is very useful to conditionally select elements from an array, using for example comparison operators:\n",
        "\n",
        "For example:\n",
        "\n",
        "```python\n",
        "x = np.arange(0, 10, 0.5)\n",
        "mask = (5 < x) * (x < 7.5)\n",
        "x[mask]\n",
        "\n",
        "```"
      ],
      "metadata": {
        "id": "0nIVOQgkE8of"
      }
    },
    {
      "cell_type": "code",
      "source": [
        "x = np.arange(0, 10, 0.5)"
      ],
      "metadata": {
        "id": "e6-mjCPtFHD8"
      },
      "execution_count": 21,
      "outputs": []
    },
    {
      "cell_type": "code",
      "source": [
        "mask = (8 < x)\n",
        "mask"
      ],
      "metadata": {
        "id": "tfecVYpJFHGY",
        "outputId": "dd4cb891-a6dd-4ce3-9bf4-7351c2ecbe99",
        "colab": {
          "base_uri": "https://localhost:8080/"
        }
      },
      "execution_count": 26,
      "outputs": [
        {
          "output_type": "execute_result",
          "data": {
            "text/plain": [
              "array([False, False, False, False, False, False, False, False, False,\n",
              "       False, False, False, False, False, False, False, False,  True,\n",
              "        True,  True])"
            ]
          },
          "metadata": {},
          "execution_count": 26
        }
      ]
    },
    {
      "cell_type": "code",
      "source": [
        "x[mask]"
      ],
      "metadata": {
        "id": "mOjX6jwOFHIb",
        "outputId": "59a921a2-4bf9-4eb8-e359-0dbde1d36ada",
        "colab": {
          "base_uri": "https://localhost:8080/"
        }
      },
      "execution_count": 27,
      "outputs": [
        {
          "output_type": "execute_result",
          "data": {
            "text/plain": [
              "array([8.5, 9. , 9.5])"
            ]
          },
          "metadata": {},
          "execution_count": 27
        }
      ]
    },
    {
      "cell_type": "markdown",
      "metadata": {
        "id": "6szSalh1xdQ3"
      },
      "source": [
        "### Data processing"
      ]
    },
    {
      "cell_type": "markdown",
      "metadata": {
        "id": "sGBMrV_RxdQ3"
      },
      "source": [
        "Often it is useful to store datasets in Numpy arrays. Numpy provides a number of functions to calculate statistics of datasets in arrays.\n",
        "\n",
        "For example, let's calculate some properties from the California Housing dataset used above.\n",
        "\n",
        "```python\n",
        "# Check the shape of the dataset is stored in the data variable:\n",
        "np.shape(data)  # => (17,000 , 9)\n",
        "```\n",
        "\n",
        "Every one of the 9 columns (8 features + response variable) is listed below:\n",
        "\n",
        "* longitude\t(0)\n",
        "* latitude\t(1)\n",
        "* housing_median_age\t(2)\n",
        "* total_rooms\t(3)\n",
        "* total_bedrooms  (4)\n",
        "* population\t(5)\n",
        "* households\t(6)\n",
        "* median_income\t (7)\n",
        "* median_house_value  (8)\n",
        "\n",
        "Let's compute different statistics using this dataset"
      ]
    },
    {
      "cell_type": "code",
      "execution_count": 31,
      "metadata": {
        "id": "a5lhDhAOxdQ3",
        "outputId": "2a9c3893-9d1b-4079-aa20-113636ae3657",
        "colab": {
          "base_uri": "https://localhost:8080/"
        }
      },
      "outputs": [
        {
          "output_type": "execute_result",
          "data": {
            "text/plain": [
              "(17000, 9)"
            ]
          },
          "metadata": {},
          "execution_count": 31
        }
      ],
      "source": [
        "data.shape"
      ]
    },
    {
      "cell_type": "markdown",
      "metadata": {
        "id": "c-gmLDXwxdQ3"
      },
      "source": [
        "#### mean\n",
        "\n",
        "We can compute the arithmetic mean of a numpy array with the `mean` function. We can choose the axis (0 = by rows, 1 = by columns)\n",
        "\n",
        "```python\n",
        "np.mean(data[:,3])  # compute the mean of the fourth column\n",
        "data[:,3].mean()    \n",
        "```\n",
        "\n",
        "Using the `axis` argument we can specify to what dimension we apply the function:\n",
        "\n",
        "```pyhthon\n",
        "np.mean(axis=1)     # compute the mean of all the columns\n",
        "```\n",
        "\n",
        "Let's explore this function:"
      ]
    },
    {
      "cell_type": "code",
      "source": [],
      "metadata": {
        "id": "vexPLW1liwh-"
      },
      "execution_count": null,
      "outputs": []
    },
    {
      "cell_type": "code",
      "execution_count": null,
      "metadata": {
        "id": "JjAQkGmgxdQ3"
      },
      "outputs": [],
      "source": []
    },
    {
      "cell_type": "code",
      "source": [],
      "metadata": {
        "id": "AAmNnrXWBTIR"
      },
      "execution_count": null,
      "outputs": []
    },
    {
      "cell_type": "code",
      "source": [],
      "metadata": {
        "id": "MLzt19hqBTLD"
      },
      "execution_count": null,
      "outputs": []
    },
    {
      "cell_type": "code",
      "source": [],
      "metadata": {
        "id": "0--nfmutBTN6"
      },
      "execution_count": null,
      "outputs": []
    },
    {
      "cell_type": "markdown",
      "metadata": {
        "id": "BmOCWUpPxdQ3"
      },
      "source": [
        "#### Other statistics\n",
        "\n",
        "We can compute other statistics i the same way, the most common are:\n",
        "\n",
        "* Standard deviation -- `np.std`\n",
        "* Variance -- `np.var`\n",
        "* Minimum -- `np.min`\n",
        "* Maximum -- `np.max`\n",
        "* Summation -- `np.sum`\n",
        "* Product -- `np.prod`\n",
        "* Cummulative summation -- `np.cumsum`\n",
        "* Unique values -- `np.unique`\n",
        "\n",
        "Let's try all of this functions~\n",
        "\n"
      ]
    },
    {
      "cell_type": "code",
      "execution_count": null,
      "metadata": {
        "id": "saQzo8PtxdQ4"
      },
      "outputs": [],
      "source": []
    },
    {
      "cell_type": "code",
      "source": [],
      "metadata": {
        "id": "db0knoHDCOKj"
      },
      "execution_count": null,
      "outputs": []
    },
    {
      "cell_type": "code",
      "source": [],
      "metadata": {
        "id": "1WbFheKoCONb"
      },
      "execution_count": null,
      "outputs": []
    },
    {
      "cell_type": "code",
      "source": [],
      "metadata": {
        "id": "Ad7U0gKUCOQX"
      },
      "execution_count": null,
      "outputs": []
    },
    {
      "cell_type": "code",
      "source": [],
      "metadata": {
        "id": "6xBXOAeWCOTF"
      },
      "execution_count": null,
      "outputs": []
    },
    {
      "cell_type": "code",
      "source": [],
      "metadata": {
        "id": "iJOoOij_COV_"
      },
      "execution_count": null,
      "outputs": []
    },
    {
      "cell_type": "code",
      "source": [],
      "metadata": {
        "id": "Nf8fkCPhCOYs"
      },
      "execution_count": null,
      "outputs": []
    },
    {
      "cell_type": "code",
      "source": [],
      "metadata": {
        "id": "PyS7zJ5BCObr"
      },
      "execution_count": null,
      "outputs": []
    },
    {
      "cell_type": "code",
      "source": [],
      "metadata": {
        "id": "TN4cyv7SCOgW"
      },
      "execution_count": null,
      "outputs": []
    },
    {
      "cell_type": "code",
      "source": [],
      "metadata": {
        "id": "b2WMW3LuCOic"
      },
      "execution_count": null,
      "outputs": []
    },
    {
      "cell_type": "markdown",
      "metadata": {
        "id": "53yEgc5_xdQ5"
      },
      "source": [
        "### Computations on subsets of arrays"
      ]
    },
    {
      "cell_type": "markdown",
      "metadata": {
        "id": "A9zdQksRxdQ5"
      },
      "source": [
        "We can compute with subsets of the data in an array using indexing, fancy indexing, and the other methods of extracting data from an array (described above).\n",
        "\n",
        "For example:\n",
        "\n",
        "```python\n",
        "\n",
        "mean_greater_than_mean_idx = data[:,8]>data[:,8].mean()\n",
        "data[:,8][mean_greater_than_mean_idx].mean()\n",
        "\n",
        "```\n",
        "Remember that the attribute of index 8 is median_house_value\n",
        "\n",
        "\n",
        "Can you explain what is the meaning of the output of that computation?\n",
        "\n",
        "Try!"
      ]
    },
    {
      "cell_type": "code",
      "source": [
        "mean_greater_than_mean_idx = data[:,8]>data[:,8].mean()\n",
        "mean_greater_than_mean_idx\n"
      ],
      "metadata": {
        "id": "L7JnXXUAkS5V",
        "outputId": "6b4bbc09-0a10-4e49-d8d5-ff534f8ac26b",
        "colab": {
          "base_uri": "https://localhost:8080/"
        }
      },
      "execution_count": 34,
      "outputs": [
        {
          "output_type": "execute_result",
          "data": {
            "text/plain": [
              "array([False, False, False, ..., False, False, False])"
            ]
          },
          "metadata": {},
          "execution_count": 34
        }
      ]
    },
    {
      "cell_type": "code",
      "source": [
        "data[:,8][mean_greater_than_mean_idx].mean()"
      ],
      "metadata": {
        "id": "bU5yCZGlU3L9",
        "outputId": "f84b338c-91f1-4fe1-dfde-9fe64efada78",
        "colab": {
          "base_uri": "https://localhost:8080/"
        }
      },
      "execution_count": 35,
      "outputs": [
        {
          "output_type": "execute_result",
          "data": {
            "text/plain": [
              "320345.1043389929"
            ]
          },
          "metadata": {},
          "execution_count": 35
        }
      ]
    },
    {
      "cell_type": "code",
      "execution_count": null,
      "metadata": {
        "id": "Z9UVc5puxdQ5"
      },
      "outputs": [],
      "source": []
    },
    {
      "cell_type": "code",
      "execution_count": null,
      "metadata": {
        "id": "XGzJfXsdxdQ5"
      },
      "outputs": [],
      "source": []
    },
    {
      "cell_type": "markdown",
      "metadata": {
        "id": "hFxrBDo-xdQ7"
      },
      "source": [
        "## Reshaping and resizing arrays"
      ]
    },
    {
      "cell_type": "markdown",
      "metadata": {
        "id": "BFXFpt8DxdQ7"
      },
      "source": [
        "The shape of an Numpy array can be modified without copying the underlaying data, which makes it a fast operation even for large arrays.\n",
        "\n",
        "Let's first get the size of matrix `a`, and store those values in n and m variabels.\n",
        "\n",
        "```python\n",
        "n, m = a.shape\n",
        "```\n",
        "\n",
        "Now we can use the reshape argument to change the shape of our matrix `a`.\n",
        "\n",
        "```python\n",
        "a.reshape((1,n*m))\n",
        "```\n",
        "\n",
        "The new shape should have the same size, for example (2,5) and (1,10)\n",
        "\n",
        "Let's try"
      ]
    },
    {
      "cell_type": "code",
      "execution_count": null,
      "metadata": {
        "id": "e0zhKOZqxdQ7"
      },
      "outputs": [],
      "source": []
    },
    {
      "cell_type": "code",
      "execution_count": null,
      "metadata": {
        "id": "iYv2bfx5xdQ7"
      },
      "outputs": [],
      "source": []
    },
    {
      "cell_type": "code",
      "execution_count": null,
      "metadata": {
        "id": "8A92e-5MxdQ7"
      },
      "outputs": [],
      "source": []
    },
    {
      "cell_type": "code",
      "execution_count": null,
      "metadata": {
        "id": "YIZUrnThxdQ7"
      },
      "outputs": [],
      "source": []
    },
    {
      "cell_type": "code",
      "execution_count": null,
      "metadata": {
        "id": "hkdlz2KMxdQ7"
      },
      "outputs": [],
      "source": []
    },
    {
      "cell_type": "markdown",
      "metadata": {
        "id": "sR7PAfhPxdQ7"
      },
      "source": [
        "We can also use the function `flatten` to make a higher-dimensional array into a vector.\n",
        "\n",
        "b = a.flatten()"
      ]
    },
    {
      "cell_type": "code",
      "execution_count": null,
      "metadata": {
        "id": "uVFXLz6jxdQ7"
      },
      "outputs": [],
      "source": []
    },
    {
      "cell_type": "code",
      "execution_count": null,
      "metadata": {
        "id": "M4YJrpwJxdQ8"
      },
      "outputs": [],
      "source": []
    },
    {
      "cell_type": "code",
      "execution_count": null,
      "metadata": {
        "id": "nsM5T7sgxdQ_"
      },
      "outputs": [],
      "source": []
    },
    {
      "cell_type": "code",
      "source": [],
      "metadata": {
        "id": "FCJphWuGIlmE"
      },
      "execution_count": null,
      "outputs": []
    },
    {
      "cell_type": "code",
      "execution_count": null,
      "metadata": {
        "id": "v8-k66AwC_To"
      },
      "outputs": [],
      "source": []
    },
    {
      "cell_type": "code",
      "source": [],
      "metadata": {
        "id": "PSjiRVBPDdIS"
      },
      "execution_count": null,
      "outputs": []
    },
    {
      "cell_type": "code",
      "source": [],
      "metadata": {
        "id": "AjmM6b0PHOCp"
      },
      "execution_count": null,
      "outputs": []
    },
    {
      "cell_type": "markdown",
      "source": [
        "# Pandas"
      ],
      "metadata": {
        "id": "ZF4FyUbSlYeM"
      }
    },
    {
      "cell_type": "markdown",
      "source": [
        "Now we'll build on the previous learned knowledge by looking in depth at the data structures provided by the Pandas library.\n",
        "Pandas is a newer package built on top of NumPy that provides an efficient implementation of a `DataFrame`.\n",
        "``DataFrame``s are essentially multidimensional arrays with attached row and column labels, often with heterogeneous types and/or missing data.\n",
        "As well as offering a convenient storage interface for labeled data, Pandas implements a number of powerful data operations familiar to users of both database frameworks and spreadsheet programs.\n",
        "\n",
        "As we've seen, NumPy's `ndarray` data structure provides essential features for the type of **clean, well-organized data typically seen in numerical computing tasks.**\n",
        "While it serves this purpose very well, its limitations become clear when we need more flexibility (e.g., attaching labels to data, working with missing data, etc.) and when attempting operations that do not map well to element-wise broadcasting (e.g., groupings, pivots, etc.), each of which is an important piece of analyzing the less structured data available in many forms in the world around us.\n",
        "Pandas, and in particular its `Series` and `DataFrame` objects, builds on the NumPy array structure and provides efficient access to these sorts of \"data munging\" tasks that occupy much of a data scientist's time.\n"
      ],
      "metadata": {
        "id": "bRoHRtmGlkf5"
      }
    },
    {
      "cell_type": "markdown",
      "metadata": {
        "id": "Ce6R_i3WqmOS"
      },
      "source": [
        "## Introducing Pandas Objects"
      ]
    },
    {
      "cell_type": "markdown",
      "metadata": {
        "id": "HIsz8vZOqmOU"
      },
      "source": [
        "At a very basic level, Pandas objects can be thought of as enhanced versions of NumPy structured arrays in which the rows and columns are identified with labels rather than simple integer indices.\n",
        "As we will see during the course of this session, Pandas provides a host of useful tools, methods, and functionality on top of the basic data structures, but nearly everything that follows will require an understanding of what these structures are.\n",
        "Thus, before we go any further, let's take a look at these three fundamental Pandas data structures: the `Series`, `DataFrame`, and `Index`.\n",
        "\n",
        "We will start our code sessions with the standard Pandas import:"
      ]
    },
    {
      "cell_type": "code",
      "execution_count": 36,
      "metadata": {
        "tags": [],
        "id": "qndi9JXKqmOV"
      },
      "outputs": [],
      "source": [
        "import pandas as pd"
      ]
    },
    {
      "cell_type": "markdown",
      "metadata": {
        "id": "i4kSBgR7qmOV"
      },
      "source": [
        "## The Pandas Series Object\n",
        "\n",
        "A Pandas `Series` is a one-dimensional array of indexed data.\n",
        "It can be created from a list or array as follows:"
      ]
    },
    {
      "cell_type": "code",
      "execution_count": 37,
      "metadata": {
        "jupyter": {
          "outputs_hidden": false
        },
        "id": "IWhjN0OZqmOW",
        "outputId": "07c4ce01-e1f9-45ab-91c2-f4e28cea2c86",
        "colab": {
          "base_uri": "https://localhost:8080/",
          "height": 210
        }
      },
      "outputs": [
        {
          "output_type": "execute_result",
          "data": {
            "text/plain": [
              "0    0.25\n",
              "1    0.50\n",
              "2    0.75\n",
              "3    1.00\n",
              "dtype: float64"
            ],
            "text/html": [
              "<div>\n",
              "<style scoped>\n",
              "    .dataframe tbody tr th:only-of-type {\n",
              "        vertical-align: middle;\n",
              "    }\n",
              "\n",
              "    .dataframe tbody tr th {\n",
              "        vertical-align: top;\n",
              "    }\n",
              "\n",
              "    .dataframe thead th {\n",
              "        text-align: right;\n",
              "    }\n",
              "</style>\n",
              "<table border=\"1\" class=\"dataframe\">\n",
              "  <thead>\n",
              "    <tr style=\"text-align: right;\">\n",
              "      <th></th>\n",
              "      <th>0</th>\n",
              "    </tr>\n",
              "  </thead>\n",
              "  <tbody>\n",
              "    <tr>\n",
              "      <th>0</th>\n",
              "      <td>0.25</td>\n",
              "    </tr>\n",
              "    <tr>\n",
              "      <th>1</th>\n",
              "      <td>0.50</td>\n",
              "    </tr>\n",
              "    <tr>\n",
              "      <th>2</th>\n",
              "      <td>0.75</td>\n",
              "    </tr>\n",
              "    <tr>\n",
              "      <th>3</th>\n",
              "      <td>1.00</td>\n",
              "    </tr>\n",
              "  </tbody>\n",
              "</table>\n",
              "</div><br><label><b>dtype:</b> float64</label>"
            ]
          },
          "metadata": {},
          "execution_count": 37
        }
      ],
      "source": [
        "data=pd.Series([0.25,0.5,0.75,1.0])\n",
        "data"
      ]
    },
    {
      "cell_type": "code",
      "source": [
        "data.values"
      ],
      "metadata": {
        "id": "PXDM4SncQ-9v",
        "outputId": "5ba34b01-b89d-4fa9-818f-b77847bf5435",
        "colab": {
          "base_uri": "https://localhost:8080/"
        }
      },
      "execution_count": 38,
      "outputs": [
        {
          "output_type": "execute_result",
          "data": {
            "text/plain": [
              "array([0.25, 0.5 , 0.75, 1.  ])"
            ]
          },
          "metadata": {},
          "execution_count": 38
        }
      ]
    },
    {
      "cell_type": "code",
      "source": [
        "data.index"
      ],
      "metadata": {
        "id": "aIw_uo4XRDKH",
        "outputId": "0af09070-67d1-4c29-ac9f-4e15e193fe65",
        "colab": {
          "base_uri": "https://localhost:8080/"
        }
      },
      "execution_count": 39,
      "outputs": [
        {
          "output_type": "execute_result",
          "data": {
            "text/plain": [
              "RangeIndex(start=0, stop=4, step=1)"
            ]
          },
          "metadata": {},
          "execution_count": 39
        }
      ]
    },
    {
      "cell_type": "markdown",
      "metadata": {
        "id": "vV7ILbiKqmOW"
      },
      "source": [
        "The `Series` combines a sequence of values with an explicit sequence of indices, which we can access with the `values` and `index` attributes.\n",
        "The `values` are simply a familiar NumPy array:"
      ]
    },
    {
      "cell_type": "code",
      "execution_count": null,
      "metadata": {
        "jupyter": {
          "outputs_hidden": false
        },
        "id": "8pH_HTQ9qmOW"
      },
      "outputs": [],
      "source": []
    },
    {
      "cell_type": "markdown",
      "metadata": {
        "id": "djRcjpGpqmOX"
      },
      "source": [
        "The `index` is an array-like object of type `pd.Index`, which we'll discuss in more detail momentarily:"
      ]
    },
    {
      "cell_type": "code",
      "execution_count": null,
      "metadata": {
        "jupyter": {
          "outputs_hidden": false
        },
        "id": "Z7UZ9__QqmOX"
      },
      "outputs": [],
      "source": []
    },
    {
      "cell_type": "markdown",
      "metadata": {
        "id": "ElYVmm9EqmOX"
      },
      "source": [
        "Like with a NumPy array, data can be accessed by the associated index via the familiar Python square-bracket notation:"
      ]
    },
    {
      "cell_type": "code",
      "execution_count": 40,
      "metadata": {
        "jupyter": {
          "outputs_hidden": false
        },
        "id": "tgEFR31vqmOX",
        "outputId": "1b71c943-46ba-4a71-e444-263596c0706b",
        "colab": {
          "base_uri": "https://localhost:8080/",
          "height": 210
        }
      },
      "outputs": [
        {
          "output_type": "execute_result",
          "data": {
            "text/plain": [
              "0    0.25\n",
              "1    0.50\n",
              "2    0.75\n",
              "3    1.00\n",
              "dtype: float64"
            ],
            "text/html": [
              "<div>\n",
              "<style scoped>\n",
              "    .dataframe tbody tr th:only-of-type {\n",
              "        vertical-align: middle;\n",
              "    }\n",
              "\n",
              "    .dataframe tbody tr th {\n",
              "        vertical-align: top;\n",
              "    }\n",
              "\n",
              "    .dataframe thead th {\n",
              "        text-align: right;\n",
              "    }\n",
              "</style>\n",
              "<table border=\"1\" class=\"dataframe\">\n",
              "  <thead>\n",
              "    <tr style=\"text-align: right;\">\n",
              "      <th></th>\n",
              "      <th>0</th>\n",
              "    </tr>\n",
              "  </thead>\n",
              "  <tbody>\n",
              "    <tr>\n",
              "      <th>0</th>\n",
              "      <td>0.25</td>\n",
              "    </tr>\n",
              "    <tr>\n",
              "      <th>1</th>\n",
              "      <td>0.50</td>\n",
              "    </tr>\n",
              "    <tr>\n",
              "      <th>2</th>\n",
              "      <td>0.75</td>\n",
              "    </tr>\n",
              "    <tr>\n",
              "      <th>3</th>\n",
              "      <td>1.00</td>\n",
              "    </tr>\n",
              "  </tbody>\n",
              "</table>\n",
              "</div><br><label><b>dtype:</b> float64</label>"
            ]
          },
          "metadata": {},
          "execution_count": 40
        }
      ],
      "source": [
        "data"
      ]
    },
    {
      "cell_type": "code",
      "execution_count": 41,
      "metadata": {
        "jupyter": {
          "outputs_hidden": false
        },
        "id": "twE9PVwaqmOY",
        "outputId": "d740c018-be16-4016-901a-44c0cdca8858",
        "colab": {
          "base_uri": "https://localhost:8080/"
        }
      },
      "outputs": [
        {
          "output_type": "execute_result",
          "data": {
            "text/plain": [
              "0.5"
            ]
          },
          "metadata": {},
          "execution_count": 41
        }
      ],
      "source": [
        "data[1]"
      ]
    },
    {
      "cell_type": "code",
      "source": [
        "data[1:3]"
      ],
      "metadata": {
        "id": "p8HD_I1_RYdK",
        "outputId": "93b45f6d-9069-45cd-ee22-547e775d7468",
        "colab": {
          "base_uri": "https://localhost:8080/",
          "height": 147
        }
      },
      "execution_count": 42,
      "outputs": [
        {
          "output_type": "execute_result",
          "data": {
            "text/plain": [
              "1    0.50\n",
              "2    0.75\n",
              "dtype: float64"
            ],
            "text/html": [
              "<div>\n",
              "<style scoped>\n",
              "    .dataframe tbody tr th:only-of-type {\n",
              "        vertical-align: middle;\n",
              "    }\n",
              "\n",
              "    .dataframe tbody tr th {\n",
              "        vertical-align: top;\n",
              "    }\n",
              "\n",
              "    .dataframe thead th {\n",
              "        text-align: right;\n",
              "    }\n",
              "</style>\n",
              "<table border=\"1\" class=\"dataframe\">\n",
              "  <thead>\n",
              "    <tr style=\"text-align: right;\">\n",
              "      <th></th>\n",
              "      <th>0</th>\n",
              "    </tr>\n",
              "  </thead>\n",
              "  <tbody>\n",
              "    <tr>\n",
              "      <th>1</th>\n",
              "      <td>0.50</td>\n",
              "    </tr>\n",
              "    <tr>\n",
              "      <th>2</th>\n",
              "      <td>0.75</td>\n",
              "    </tr>\n",
              "  </tbody>\n",
              "</table>\n",
              "</div><br><label><b>dtype:</b> float64</label>"
            ]
          },
          "metadata": {},
          "execution_count": 42
        }
      ]
    },
    {
      "cell_type": "markdown",
      "metadata": {
        "id": "FNxvOSnMqmOY"
      },
      "source": [
        "As we will see, though, the Pandas `Series` is much more general and flexible than the one-dimensional NumPy array that it emulates."
      ]
    },
    {
      "cell_type": "markdown",
      "metadata": {
        "id": "Q7WIctCCqmOY"
      },
      "source": [
        "### Series as Generalized NumPy Array"
      ]
    },
    {
      "cell_type": "markdown",
      "metadata": {
        "id": "xyeaznwMqmOY"
      },
      "source": [
        "From what we've seen so far, the `Series` object may appear to be basically interchangeable with a one-dimensional NumPy array.\n",
        "The essential difference is that while the NumPy array has an *implicitly defined* integer index used to access the values, the Pandas `Series` has an *explicitly defined* index associated with the values.\n",
        "\n",
        "This explicit index definition gives the `Series` object additional capabilities. For example, the index need not be an integer, but can consist of values of any desired type.\n",
        "So, if we wish, we can use strings as an index:"
      ]
    },
    {
      "cell_type": "code",
      "execution_count": 43,
      "metadata": {
        "jupyter": {
          "outputs_hidden": false
        },
        "id": "HFlg4wX-qmOY",
        "outputId": "019fbcec-f0dc-4375-930e-455bd61d9955",
        "colab": {
          "base_uri": "https://localhost:8080/",
          "height": 210
        }
      },
      "outputs": [
        {
          "output_type": "execute_result",
          "data": {
            "text/plain": [
              "a    0.25\n",
              "b    0.50\n",
              "c    0.75\n",
              "d    1.00\n",
              "dtype: float64"
            ],
            "text/html": [
              "<div>\n",
              "<style scoped>\n",
              "    .dataframe tbody tr th:only-of-type {\n",
              "        vertical-align: middle;\n",
              "    }\n",
              "\n",
              "    .dataframe tbody tr th {\n",
              "        vertical-align: top;\n",
              "    }\n",
              "\n",
              "    .dataframe thead th {\n",
              "        text-align: right;\n",
              "    }\n",
              "</style>\n",
              "<table border=\"1\" class=\"dataframe\">\n",
              "  <thead>\n",
              "    <tr style=\"text-align: right;\">\n",
              "      <th></th>\n",
              "      <th>0</th>\n",
              "    </tr>\n",
              "  </thead>\n",
              "  <tbody>\n",
              "    <tr>\n",
              "      <th>a</th>\n",
              "      <td>0.25</td>\n",
              "    </tr>\n",
              "    <tr>\n",
              "      <th>b</th>\n",
              "      <td>0.50</td>\n",
              "    </tr>\n",
              "    <tr>\n",
              "      <th>c</th>\n",
              "      <td>0.75</td>\n",
              "    </tr>\n",
              "    <tr>\n",
              "      <th>d</th>\n",
              "      <td>1.00</td>\n",
              "    </tr>\n",
              "  </tbody>\n",
              "</table>\n",
              "</div><br><label><b>dtype:</b> float64</label>"
            ]
          },
          "metadata": {},
          "execution_count": 43
        }
      ],
      "source": [
        "data = pd.Series([0.25, 0.5, 0.75, 1.0],\n",
        "                 index=['a', 'b', 'c', 'd'])\n",
        "data"
      ]
    },
    {
      "cell_type": "markdown",
      "metadata": {
        "id": "a3_ZlX0FqmOY"
      },
      "source": [
        "And the item access works as expected:"
      ]
    },
    {
      "cell_type": "code",
      "source": [
        "data['b']"
      ],
      "metadata": {
        "id": "vxcdWxTt_imC",
        "outputId": "5dec0188-697d-4d1c-b016-f4f69e824ec2",
        "colab": {
          "base_uri": "https://localhost:8080/"
        }
      },
      "execution_count": 44,
      "outputs": [
        {
          "output_type": "execute_result",
          "data": {
            "text/plain": [
              "0.5"
            ]
          },
          "metadata": {},
          "execution_count": 44
        }
      ]
    },
    {
      "cell_type": "code",
      "execution_count": 45,
      "metadata": {
        "jupyter": {
          "outputs_hidden": false
        },
        "id": "abLh7QfSqmOY",
        "outputId": "cf8173c1-efa8-433d-c848-96a26afcdf5a",
        "colab": {
          "base_uri": "https://localhost:8080/"
        }
      },
      "outputs": [
        {
          "output_type": "execute_result",
          "data": {
            "text/plain": [
              "Index(['a', 'b', 'c', 'd'], dtype='object')"
            ]
          },
          "metadata": {},
          "execution_count": 45
        }
      ],
      "source": [
        "data.index"
      ]
    },
    {
      "cell_type": "code",
      "source": [],
      "metadata": {
        "id": "BLkFO1J3SEP_"
      },
      "execution_count": null,
      "outputs": []
    },
    {
      "cell_type": "markdown",
      "metadata": {
        "id": "WpFm1CNdqmOY"
      },
      "source": [
        "We can even use noncontiguous or nonsequential indices:"
      ]
    },
    {
      "cell_type": "code",
      "execution_count": 46,
      "metadata": {
        "jupyter": {
          "outputs_hidden": false
        },
        "id": "If5yIzGXqmOY",
        "outputId": "503676da-88bd-4287-c722-84834ceb2b25",
        "colab": {
          "base_uri": "https://localhost:8080/",
          "height": 210
        }
      },
      "outputs": [
        {
          "output_type": "execute_result",
          "data": {
            "text/plain": [
              "2    0.25\n",
              "5    0.50\n",
              "3    0.75\n",
              "7    1.00\n",
              "dtype: float64"
            ],
            "text/html": [
              "<div>\n",
              "<style scoped>\n",
              "    .dataframe tbody tr th:only-of-type {\n",
              "        vertical-align: middle;\n",
              "    }\n",
              "\n",
              "    .dataframe tbody tr th {\n",
              "        vertical-align: top;\n",
              "    }\n",
              "\n",
              "    .dataframe thead th {\n",
              "        text-align: right;\n",
              "    }\n",
              "</style>\n",
              "<table border=\"1\" class=\"dataframe\">\n",
              "  <thead>\n",
              "    <tr style=\"text-align: right;\">\n",
              "      <th></th>\n",
              "      <th>0</th>\n",
              "    </tr>\n",
              "  </thead>\n",
              "  <tbody>\n",
              "    <tr>\n",
              "      <th>2</th>\n",
              "      <td>0.25</td>\n",
              "    </tr>\n",
              "    <tr>\n",
              "      <th>5</th>\n",
              "      <td>0.50</td>\n",
              "    </tr>\n",
              "    <tr>\n",
              "      <th>3</th>\n",
              "      <td>0.75</td>\n",
              "    </tr>\n",
              "    <tr>\n",
              "      <th>7</th>\n",
              "      <td>1.00</td>\n",
              "    </tr>\n",
              "  </tbody>\n",
              "</table>\n",
              "</div><br><label><b>dtype:</b> float64</label>"
            ]
          },
          "metadata": {},
          "execution_count": 46
        }
      ],
      "source": [
        "data = pd.Series([0.25, 0.5, 0.75, 1.0],\n",
        "                 index=[2, 5, 3, 7])\n",
        "data"
      ]
    },
    {
      "cell_type": "code",
      "execution_count": 47,
      "metadata": {
        "jupyter": {
          "outputs_hidden": false
        },
        "id": "Gj4nHi3qqmOY",
        "outputId": "4a6afeec-cfc1-4005-8f5e-5945b21af09b",
        "colab": {
          "base_uri": "https://localhost:8080/",
          "height": 210
        }
      },
      "outputs": [
        {
          "output_type": "execute_result",
          "data": {
            "text/plain": [
              "2    0.25\n",
              "5    0.50\n",
              "3    0.75\n",
              "7    1.00\n",
              "dtype: float64"
            ],
            "text/html": [
              "<div>\n",
              "<style scoped>\n",
              "    .dataframe tbody tr th:only-of-type {\n",
              "        vertical-align: middle;\n",
              "    }\n",
              "\n",
              "    .dataframe tbody tr th {\n",
              "        vertical-align: top;\n",
              "    }\n",
              "\n",
              "    .dataframe thead th {\n",
              "        text-align: right;\n",
              "    }\n",
              "</style>\n",
              "<table border=\"1\" class=\"dataframe\">\n",
              "  <thead>\n",
              "    <tr style=\"text-align: right;\">\n",
              "      <th></th>\n",
              "      <th>0</th>\n",
              "    </tr>\n",
              "  </thead>\n",
              "  <tbody>\n",
              "    <tr>\n",
              "      <th>2</th>\n",
              "      <td>0.25</td>\n",
              "    </tr>\n",
              "    <tr>\n",
              "      <th>5</th>\n",
              "      <td>0.50</td>\n",
              "    </tr>\n",
              "    <tr>\n",
              "      <th>3</th>\n",
              "      <td>0.75</td>\n",
              "    </tr>\n",
              "    <tr>\n",
              "      <th>7</th>\n",
              "      <td>1.00</td>\n",
              "    </tr>\n",
              "  </tbody>\n",
              "</table>\n",
              "</div><br><label><b>dtype:</b> float64</label>"
            ]
          },
          "metadata": {},
          "execution_count": 47
        }
      ],
      "source": [
        "data"
      ]
    },
    {
      "cell_type": "code",
      "source": [],
      "metadata": {
        "id": "5P5RVBLuSKr5"
      },
      "execution_count": null,
      "outputs": []
    },
    {
      "cell_type": "markdown",
      "metadata": {
        "id": "aghy7eUcqmOY"
      },
      "source": [
        "### Series as Specialized Dictionary\n",
        "\n",
        "In this way, you can think of a Pandas `Series` a bit like a specialization of a Python dictionary.\n",
        "A dictionary is a structure that maps arbitrary keys to a set of arbitrary values, and a `Series` is a structure that maps typed keys to a set of typed values.\n",
        "This typing is important: just as the type-specific compiled code behind a NumPy array makes it more efficient than a Python list for certain operations, the type information of a Pandas `Series` makes it more efficient than Python dictionaries for certain operations.\n",
        "\n",
        "The `Series`-as-dictionary analogy can be made even more clear by constructing a `Series` object directly from a Python dictionary, here the five most populous US states according to the 2020 census:"
      ]
    },
    {
      "cell_type": "code",
      "execution_count": 48,
      "metadata": {
        "jupyter": {
          "outputs_hidden": false
        },
        "id": "7DeaeqD8qmOZ",
        "outputId": "1e0736ec-e4a3-4770-a6c7-b3872d620ebe",
        "colab": {
          "base_uri": "https://localhost:8080/",
          "height": 241
        }
      },
      "outputs": [
        {
          "output_type": "execute_result",
          "data": {
            "text/plain": [
              "California      39538223\n",
              "Texas           29145505\n",
              "Florida         21538187\n",
              "New York        20201249\n",
              "Pennsylvania    13002700\n",
              "dtype: int64"
            ],
            "text/html": [
              "<div>\n",
              "<style scoped>\n",
              "    .dataframe tbody tr th:only-of-type {\n",
              "        vertical-align: middle;\n",
              "    }\n",
              "\n",
              "    .dataframe tbody tr th {\n",
              "        vertical-align: top;\n",
              "    }\n",
              "\n",
              "    .dataframe thead th {\n",
              "        text-align: right;\n",
              "    }\n",
              "</style>\n",
              "<table border=\"1\" class=\"dataframe\">\n",
              "  <thead>\n",
              "    <tr style=\"text-align: right;\">\n",
              "      <th></th>\n",
              "      <th>0</th>\n",
              "    </tr>\n",
              "  </thead>\n",
              "  <tbody>\n",
              "    <tr>\n",
              "      <th>California</th>\n",
              "      <td>39538223</td>\n",
              "    </tr>\n",
              "    <tr>\n",
              "      <th>Texas</th>\n",
              "      <td>29145505</td>\n",
              "    </tr>\n",
              "    <tr>\n",
              "      <th>Florida</th>\n",
              "      <td>21538187</td>\n",
              "    </tr>\n",
              "    <tr>\n",
              "      <th>New York</th>\n",
              "      <td>20201249</td>\n",
              "    </tr>\n",
              "    <tr>\n",
              "      <th>Pennsylvania</th>\n",
              "      <td>13002700</td>\n",
              "    </tr>\n",
              "  </tbody>\n",
              "</table>\n",
              "</div><br><label><b>dtype:</b> int64</label>"
            ]
          },
          "metadata": {},
          "execution_count": 48
        }
      ],
      "source": [
        "population_dict = {'California': 39538223, 'Texas': 29145505,\n",
        "                   'Florida': 21538187, 'New York': 20201249,\n",
        "                   'Pennsylvania': 13002700}\n",
        "population = pd.Series(population_dict)\n",
        "population"
      ]
    },
    {
      "cell_type": "markdown",
      "metadata": {
        "id": "Ur2yDC0KqmOZ"
      },
      "source": [
        "From here, typical dictionary-style item access can be performed:"
      ]
    },
    {
      "cell_type": "code",
      "execution_count": 51,
      "metadata": {
        "jupyter": {
          "outputs_hidden": false
        },
        "id": "ckuqJn_vqmOZ",
        "outputId": "68d1a3a0-e9fc-4dab-f05f-de58d737eed8",
        "colab": {
          "base_uri": "https://localhost:8080/",
          "height": 178
        }
      },
      "outputs": [
        {
          "output_type": "execute_result",
          "data": {
            "text/plain": [
              "Florida         21538187\n",
              "New York        20201249\n",
              "Pennsylvania    13002700\n",
              "dtype: int64"
            ],
            "text/html": [
              "<div>\n",
              "<style scoped>\n",
              "    .dataframe tbody tr th:only-of-type {\n",
              "        vertical-align: middle;\n",
              "    }\n",
              "\n",
              "    .dataframe tbody tr th {\n",
              "        vertical-align: top;\n",
              "    }\n",
              "\n",
              "    .dataframe thead th {\n",
              "        text-align: right;\n",
              "    }\n",
              "</style>\n",
              "<table border=\"1\" class=\"dataframe\">\n",
              "  <thead>\n",
              "    <tr style=\"text-align: right;\">\n",
              "      <th></th>\n",
              "      <th>0</th>\n",
              "    </tr>\n",
              "  </thead>\n",
              "  <tbody>\n",
              "    <tr>\n",
              "      <th>Florida</th>\n",
              "      <td>21538187</td>\n",
              "    </tr>\n",
              "    <tr>\n",
              "      <th>New York</th>\n",
              "      <td>20201249</td>\n",
              "    </tr>\n",
              "    <tr>\n",
              "      <th>Pennsylvania</th>\n",
              "      <td>13002700</td>\n",
              "    </tr>\n",
              "  </tbody>\n",
              "</table>\n",
              "</div><br><label><b>dtype:</b> int64</label>"
            ]
          },
          "metadata": {},
          "execution_count": 51
        }
      ],
      "source": [
        "population['Florida':\"Pennsylvania\"]"
      ]
    },
    {
      "cell_type": "markdown",
      "metadata": {
        "id": "28IPv3_HqmOZ"
      },
      "source": [
        "Unlike a dictionary, though, the `Series` also supports array-style operations such as slicing:"
      ]
    },
    {
      "cell_type": "code",
      "execution_count": null,
      "metadata": {
        "jupyter": {
          "outputs_hidden": false
        },
        "id": "JlqZDvk-qmOZ"
      },
      "outputs": [],
      "source": []
    },
    {
      "cell_type": "markdown",
      "metadata": {
        "id": "nLaqD0JTqmOZ"
      },
      "source": [
        "We'll discuss some of the quirks of Pandas indexing and slicing later."
      ]
    },
    {
      "cell_type": "markdown",
      "metadata": {
        "id": "4N6dB4cuqmOZ"
      },
      "source": [
        "### Constructing Series Objects\n",
        "\n",
        "We've already seen a few ways of constructing a Pandas `Series` from scratch. All of them are some version of the following:\n",
        "\n",
        "```python\n",
        "pd.Series(data, index=index)\n",
        "```\n",
        "\n",
        "where `index` is an optional argument, and `data` can be one of many entities.\n",
        "\n",
        "For example, `data` can be a list or NumPy array, in which case `index` defaults to an integer sequence:"
      ]
    },
    {
      "cell_type": "code",
      "execution_count": null,
      "metadata": {
        "jupyter": {
          "outputs_hidden": false
        },
        "id": "ssw-O_eqqmOZ"
      },
      "outputs": [],
      "source": [
        "pd.Series([2, 4, 6])"
      ]
    },
    {
      "cell_type": "markdown",
      "metadata": {
        "id": "feM1C_ZkqmOZ"
      },
      "source": [
        "Or `data` can be a scalar, which is repeated to fill the specified index:"
      ]
    },
    {
      "cell_type": "code",
      "execution_count": null,
      "metadata": {
        "jupyter": {
          "outputs_hidden": false
        },
        "id": "kqfSAxTDqmOZ"
      },
      "outputs": [],
      "source": [
        "pd.Series(5, index=[100, 200, 300])"
      ]
    },
    {
      "cell_type": "markdown",
      "metadata": {
        "id": "mYNv78kQqmOZ"
      },
      "source": [
        "Or it can be a dictionary, in which case `index` defaults to the dictionary keys:"
      ]
    },
    {
      "cell_type": "code",
      "execution_count": null,
      "metadata": {
        "jupyter": {
          "outputs_hidden": false
        },
        "id": "cj6DJ4LvqmOZ"
      },
      "outputs": [],
      "source": []
    },
    {
      "cell_type": "markdown",
      "metadata": {
        "id": "7ElZy6ZLqmOZ"
      },
      "source": [
        "In each case, the index can be explicitly set to control the order or the subset of keys used:"
      ]
    },
    {
      "cell_type": "code",
      "execution_count": null,
      "metadata": {
        "jupyter": {
          "outputs_hidden": false
        },
        "id": "RC2bQk0sqmOZ"
      },
      "outputs": [],
      "source": []
    },
    {
      "cell_type": "markdown",
      "metadata": {
        "id": "rFIhNS6TqmOZ"
      },
      "source": [
        "## The Pandas DataFrame Object\n",
        "\n",
        "The next fundamental structure in Pandas is the `DataFrame`.\n",
        "Like the `Series` object discussed in the previous section, the `DataFrame` can be thought of either as a generalization of a NumPy array, or as a specialization of a Python dictionary.\n",
        "We'll now take a look at each of these perspectives."
      ]
    },
    {
      "cell_type": "markdown",
      "metadata": {
        "id": "v8BtV3DyqmOZ"
      },
      "source": [
        "### DataFrame as Generalized NumPy Array\n",
        "If a `Series` is an analog of a one-dimensional array with explicit indices, a `DataFrame` is an analog of a two-dimensional array with explicit row and column indices.\n",
        "Just as you might think of a two-dimensional array as an ordered sequence of aligned one-dimensional columns, you can think of a `DataFrame` as a sequence of aligned `Series` objects.\n",
        "Here, by \"aligned\" we mean that they share the same index.\n",
        "\n",
        "To demonstrate this, let's first construct a new `Series` listing the area of each of the five states discussed in the previous section (in square kilometers):"
      ]
    },
    {
      "cell_type": "code",
      "execution_count": 53,
      "metadata": {
        "jupyter": {
          "outputs_hidden": false
        },
        "id": "X4PwZPgxqmOa",
        "outputId": "41427848-35a1-4bd0-80c9-24e9dd2b8aa0",
        "colab": {
          "base_uri": "https://localhost:8080/",
          "height": 241
        }
      },
      "outputs": [
        {
          "output_type": "execute_result",
          "data": {
            "text/plain": [
              "California      423967\n",
              "Texas           695662\n",
              "Florida         170312\n",
              "New York        141297\n",
              "Pennsylvania    119280\n",
              "dtype: int64"
            ],
            "text/html": [
              "<div>\n",
              "<style scoped>\n",
              "    .dataframe tbody tr th:only-of-type {\n",
              "        vertical-align: middle;\n",
              "    }\n",
              "\n",
              "    .dataframe tbody tr th {\n",
              "        vertical-align: top;\n",
              "    }\n",
              "\n",
              "    .dataframe thead th {\n",
              "        text-align: right;\n",
              "    }\n",
              "</style>\n",
              "<table border=\"1\" class=\"dataframe\">\n",
              "  <thead>\n",
              "    <tr style=\"text-align: right;\">\n",
              "      <th></th>\n",
              "      <th>0</th>\n",
              "    </tr>\n",
              "  </thead>\n",
              "  <tbody>\n",
              "    <tr>\n",
              "      <th>California</th>\n",
              "      <td>423967</td>\n",
              "    </tr>\n",
              "    <tr>\n",
              "      <th>Texas</th>\n",
              "      <td>695662</td>\n",
              "    </tr>\n",
              "    <tr>\n",
              "      <th>Florida</th>\n",
              "      <td>170312</td>\n",
              "    </tr>\n",
              "    <tr>\n",
              "      <th>New York</th>\n",
              "      <td>141297</td>\n",
              "    </tr>\n",
              "    <tr>\n",
              "      <th>Pennsylvania</th>\n",
              "      <td>119280</td>\n",
              "    </tr>\n",
              "  </tbody>\n",
              "</table>\n",
              "</div><br><label><b>dtype:</b> int64</label>"
            ]
          },
          "metadata": {},
          "execution_count": 53
        }
      ],
      "source": [
        "area_dict = {'California': 423967, 'Texas': 695662, 'Florida': 170312,\n",
        "             'New York': 141297, 'Pennsylvania': 119280}\n",
        "area = pd.Series(area_dict)\n",
        "area"
      ]
    },
    {
      "cell_type": "markdown",
      "metadata": {
        "id": "3o4eXlz8qmOa"
      },
      "source": [
        "Now that we have this along with the `population` Series from before, we can use a dictionary to construct a single two-dimensional object containing this information:"
      ]
    },
    {
      "cell_type": "code",
      "execution_count": 54,
      "metadata": {
        "jupyter": {
          "outputs_hidden": false
        },
        "id": "8eLS8Q3MqmOa",
        "outputId": "f59691b8-771f-43fa-ede3-6a87e0fbfc67",
        "colab": {
          "base_uri": "https://localhost:8080/",
          "height": 206
        }
      },
      "outputs": [
        {
          "output_type": "execute_result",
          "data": {
            "text/plain": [
              "              population    area\n",
              "California      39538223  423967\n",
              "Texas           29145505  695662\n",
              "Florida         21538187  170312\n",
              "New York        20201249  141297\n",
              "Pennsylvania    13002700  119280"
            ],
            "text/html": [
              "\n",
              "  <div id=\"df-1379979e-c84e-4ff2-a818-e07eaa0b44ef\" class=\"colab-df-container\">\n",
              "    <div>\n",
              "<style scoped>\n",
              "    .dataframe tbody tr th:only-of-type {\n",
              "        vertical-align: middle;\n",
              "    }\n",
              "\n",
              "    .dataframe tbody tr th {\n",
              "        vertical-align: top;\n",
              "    }\n",
              "\n",
              "    .dataframe thead th {\n",
              "        text-align: right;\n",
              "    }\n",
              "</style>\n",
              "<table border=\"1\" class=\"dataframe\">\n",
              "  <thead>\n",
              "    <tr style=\"text-align: right;\">\n",
              "      <th></th>\n",
              "      <th>population</th>\n",
              "      <th>area</th>\n",
              "    </tr>\n",
              "  </thead>\n",
              "  <tbody>\n",
              "    <tr>\n",
              "      <th>California</th>\n",
              "      <td>39538223</td>\n",
              "      <td>423967</td>\n",
              "    </tr>\n",
              "    <tr>\n",
              "      <th>Texas</th>\n",
              "      <td>29145505</td>\n",
              "      <td>695662</td>\n",
              "    </tr>\n",
              "    <tr>\n",
              "      <th>Florida</th>\n",
              "      <td>21538187</td>\n",
              "      <td>170312</td>\n",
              "    </tr>\n",
              "    <tr>\n",
              "      <th>New York</th>\n",
              "      <td>20201249</td>\n",
              "      <td>141297</td>\n",
              "    </tr>\n",
              "    <tr>\n",
              "      <th>Pennsylvania</th>\n",
              "      <td>13002700</td>\n",
              "      <td>119280</td>\n",
              "    </tr>\n",
              "  </tbody>\n",
              "</table>\n",
              "</div>\n",
              "    <div class=\"colab-df-buttons\">\n",
              "\n",
              "  <div class=\"colab-df-container\">\n",
              "    <button class=\"colab-df-convert\" onclick=\"convertToInteractive('df-1379979e-c84e-4ff2-a818-e07eaa0b44ef')\"\n",
              "            title=\"Convert this dataframe to an interactive table.\"\n",
              "            style=\"display:none;\">\n",
              "\n",
              "  <svg xmlns=\"http://www.w3.org/2000/svg\" height=\"24px\" viewBox=\"0 -960 960 960\">\n",
              "    <path d=\"M120-120v-720h720v720H120Zm60-500h600v-160H180v160Zm220 220h160v-160H400v160Zm0 220h160v-160H400v160ZM180-400h160v-160H180v160Zm440 0h160v-160H620v160ZM180-180h160v-160H180v160Zm440 0h160v-160H620v160Z\"/>\n",
              "  </svg>\n",
              "    </button>\n",
              "\n",
              "  <style>\n",
              "    .colab-df-container {\n",
              "      display:flex;\n",
              "      gap: 12px;\n",
              "    }\n",
              "\n",
              "    .colab-df-convert {\n",
              "      background-color: #E8F0FE;\n",
              "      border: none;\n",
              "      border-radius: 50%;\n",
              "      cursor: pointer;\n",
              "      display: none;\n",
              "      fill: #1967D2;\n",
              "      height: 32px;\n",
              "      padding: 0 0 0 0;\n",
              "      width: 32px;\n",
              "    }\n",
              "\n",
              "    .colab-df-convert:hover {\n",
              "      background-color: #E2EBFA;\n",
              "      box-shadow: 0px 1px 2px rgba(60, 64, 67, 0.3), 0px 1px 3px 1px rgba(60, 64, 67, 0.15);\n",
              "      fill: #174EA6;\n",
              "    }\n",
              "\n",
              "    .colab-df-buttons div {\n",
              "      margin-bottom: 4px;\n",
              "    }\n",
              "\n",
              "    [theme=dark] .colab-df-convert {\n",
              "      background-color: #3B4455;\n",
              "      fill: #D2E3FC;\n",
              "    }\n",
              "\n",
              "    [theme=dark] .colab-df-convert:hover {\n",
              "      background-color: #434B5C;\n",
              "      box-shadow: 0px 1px 3px 1px rgba(0, 0, 0, 0.15);\n",
              "      filter: drop-shadow(0px 1px 2px rgba(0, 0, 0, 0.3));\n",
              "      fill: #FFFFFF;\n",
              "    }\n",
              "  </style>\n",
              "\n",
              "    <script>\n",
              "      const buttonEl =\n",
              "        document.querySelector('#df-1379979e-c84e-4ff2-a818-e07eaa0b44ef button.colab-df-convert');\n",
              "      buttonEl.style.display =\n",
              "        google.colab.kernel.accessAllowed ? 'block' : 'none';\n",
              "\n",
              "      async function convertToInteractive(key) {\n",
              "        const element = document.querySelector('#df-1379979e-c84e-4ff2-a818-e07eaa0b44ef');\n",
              "        const dataTable =\n",
              "          await google.colab.kernel.invokeFunction('convertToInteractive',\n",
              "                                                    [key], {});\n",
              "        if (!dataTable) return;\n",
              "\n",
              "        const docLinkHtml = 'Like what you see? Visit the ' +\n",
              "          '<a target=\"_blank\" href=https://colab.research.google.com/notebooks/data_table.ipynb>data table notebook</a>'\n",
              "          + ' to learn more about interactive tables.';\n",
              "        element.innerHTML = '';\n",
              "        dataTable['output_type'] = 'display_data';\n",
              "        await google.colab.output.renderOutput(dataTable, element);\n",
              "        const docLink = document.createElement('div');\n",
              "        docLink.innerHTML = docLinkHtml;\n",
              "        element.appendChild(docLink);\n",
              "      }\n",
              "    </script>\n",
              "  </div>\n",
              "\n",
              "\n",
              "<div id=\"df-743759ac-c10d-42e6-88bd-7c3f57a2301c\">\n",
              "  <button class=\"colab-df-quickchart\" onclick=\"quickchart('df-743759ac-c10d-42e6-88bd-7c3f57a2301c')\"\n",
              "            title=\"Suggest charts\"\n",
              "            style=\"display:none;\">\n",
              "\n",
              "<svg xmlns=\"http://www.w3.org/2000/svg\" height=\"24px\"viewBox=\"0 0 24 24\"\n",
              "     width=\"24px\">\n",
              "    <g>\n",
              "        <path d=\"M19 3H5c-1.1 0-2 .9-2 2v14c0 1.1.9 2 2 2h14c1.1 0 2-.9 2-2V5c0-1.1-.9-2-2-2zM9 17H7v-7h2v7zm4 0h-2V7h2v10zm4 0h-2v-4h2v4z\"/>\n",
              "    </g>\n",
              "</svg>\n",
              "  </button>\n",
              "\n",
              "<style>\n",
              "  .colab-df-quickchart {\n",
              "      --bg-color: #E8F0FE;\n",
              "      --fill-color: #1967D2;\n",
              "      --hover-bg-color: #E2EBFA;\n",
              "      --hover-fill-color: #174EA6;\n",
              "      --disabled-fill-color: #AAA;\n",
              "      --disabled-bg-color: #DDD;\n",
              "  }\n",
              "\n",
              "  [theme=dark] .colab-df-quickchart {\n",
              "      --bg-color: #3B4455;\n",
              "      --fill-color: #D2E3FC;\n",
              "      --hover-bg-color: #434B5C;\n",
              "      --hover-fill-color: #FFFFFF;\n",
              "      --disabled-bg-color: #3B4455;\n",
              "      --disabled-fill-color: #666;\n",
              "  }\n",
              "\n",
              "  .colab-df-quickchart {\n",
              "    background-color: var(--bg-color);\n",
              "    border: none;\n",
              "    border-radius: 50%;\n",
              "    cursor: pointer;\n",
              "    display: none;\n",
              "    fill: var(--fill-color);\n",
              "    height: 32px;\n",
              "    padding: 0;\n",
              "    width: 32px;\n",
              "  }\n",
              "\n",
              "  .colab-df-quickchart:hover {\n",
              "    background-color: var(--hover-bg-color);\n",
              "    box-shadow: 0 1px 2px rgba(60, 64, 67, 0.3), 0 1px 3px 1px rgba(60, 64, 67, 0.15);\n",
              "    fill: var(--button-hover-fill-color);\n",
              "  }\n",
              "\n",
              "  .colab-df-quickchart-complete:disabled,\n",
              "  .colab-df-quickchart-complete:disabled:hover {\n",
              "    background-color: var(--disabled-bg-color);\n",
              "    fill: var(--disabled-fill-color);\n",
              "    box-shadow: none;\n",
              "  }\n",
              "\n",
              "  .colab-df-spinner {\n",
              "    border: 2px solid var(--fill-color);\n",
              "    border-color: transparent;\n",
              "    border-bottom-color: var(--fill-color);\n",
              "    animation:\n",
              "      spin 1s steps(1) infinite;\n",
              "  }\n",
              "\n",
              "  @keyframes spin {\n",
              "    0% {\n",
              "      border-color: transparent;\n",
              "      border-bottom-color: var(--fill-color);\n",
              "      border-left-color: var(--fill-color);\n",
              "    }\n",
              "    20% {\n",
              "      border-color: transparent;\n",
              "      border-left-color: var(--fill-color);\n",
              "      border-top-color: var(--fill-color);\n",
              "    }\n",
              "    30% {\n",
              "      border-color: transparent;\n",
              "      border-left-color: var(--fill-color);\n",
              "      border-top-color: var(--fill-color);\n",
              "      border-right-color: var(--fill-color);\n",
              "    }\n",
              "    40% {\n",
              "      border-color: transparent;\n",
              "      border-right-color: var(--fill-color);\n",
              "      border-top-color: var(--fill-color);\n",
              "    }\n",
              "    60% {\n",
              "      border-color: transparent;\n",
              "      border-right-color: var(--fill-color);\n",
              "    }\n",
              "    80% {\n",
              "      border-color: transparent;\n",
              "      border-right-color: var(--fill-color);\n",
              "      border-bottom-color: var(--fill-color);\n",
              "    }\n",
              "    90% {\n",
              "      border-color: transparent;\n",
              "      border-bottom-color: var(--fill-color);\n",
              "    }\n",
              "  }\n",
              "</style>\n",
              "\n",
              "  <script>\n",
              "    async function quickchart(key) {\n",
              "      const quickchartButtonEl =\n",
              "        document.querySelector('#' + key + ' button');\n",
              "      quickchartButtonEl.disabled = true;  // To prevent multiple clicks.\n",
              "      quickchartButtonEl.classList.add('colab-df-spinner');\n",
              "      try {\n",
              "        const charts = await google.colab.kernel.invokeFunction(\n",
              "            'suggestCharts', [key], {});\n",
              "      } catch (error) {\n",
              "        console.error('Error during call to suggestCharts:', error);\n",
              "      }\n",
              "      quickchartButtonEl.classList.remove('colab-df-spinner');\n",
              "      quickchartButtonEl.classList.add('colab-df-quickchart-complete');\n",
              "    }\n",
              "    (() => {\n",
              "      let quickchartButtonEl =\n",
              "        document.querySelector('#df-743759ac-c10d-42e6-88bd-7c3f57a2301c button');\n",
              "      quickchartButtonEl.style.display =\n",
              "        google.colab.kernel.accessAllowed ? 'block' : 'none';\n",
              "    })();\n",
              "  </script>\n",
              "</div>\n",
              "\n",
              "  <div id=\"id_e2df745b-cbad-45bf-8a98-8d43e9e168e4\">\n",
              "    <style>\n",
              "      .colab-df-generate {\n",
              "        background-color: #E8F0FE;\n",
              "        border: none;\n",
              "        border-radius: 50%;\n",
              "        cursor: pointer;\n",
              "        display: none;\n",
              "        fill: #1967D2;\n",
              "        height: 32px;\n",
              "        padding: 0 0 0 0;\n",
              "        width: 32px;\n",
              "      }\n",
              "\n",
              "      .colab-df-generate:hover {\n",
              "        background-color: #E2EBFA;\n",
              "        box-shadow: 0px 1px 2px rgba(60, 64, 67, 0.3), 0px 1px 3px 1px rgba(60, 64, 67, 0.15);\n",
              "        fill: #174EA6;\n",
              "      }\n",
              "\n",
              "      [theme=dark] .colab-df-generate {\n",
              "        background-color: #3B4455;\n",
              "        fill: #D2E3FC;\n",
              "      }\n",
              "\n",
              "      [theme=dark] .colab-df-generate:hover {\n",
              "        background-color: #434B5C;\n",
              "        box-shadow: 0px 1px 3px 1px rgba(0, 0, 0, 0.15);\n",
              "        filter: drop-shadow(0px 1px 2px rgba(0, 0, 0, 0.3));\n",
              "        fill: #FFFFFF;\n",
              "      }\n",
              "    </style>\n",
              "    <button class=\"colab-df-generate\" onclick=\"generateWithVariable('states')\"\n",
              "            title=\"Generate code using this dataframe.\"\n",
              "            style=\"display:none;\">\n",
              "\n",
              "  <svg xmlns=\"http://www.w3.org/2000/svg\" height=\"24px\"viewBox=\"0 0 24 24\"\n",
              "       width=\"24px\">\n",
              "    <path d=\"M7,19H8.4L18.45,9,17,7.55,7,17.6ZM5,21V16.75L18.45,3.32a2,2,0,0,1,2.83,0l1.4,1.43a1.91,1.91,0,0,1,.58,1.4,1.91,1.91,0,0,1-.58,1.4L9.25,21ZM18.45,9,17,7.55Zm-12,3A5.31,5.31,0,0,0,4.9,8.1,5.31,5.31,0,0,0,1,6.5,5.31,5.31,0,0,0,4.9,4.9,5.31,5.31,0,0,0,6.5,1,5.31,5.31,0,0,0,8.1,4.9,5.31,5.31,0,0,0,12,6.5,5.46,5.46,0,0,0,6.5,12Z\"/>\n",
              "  </svg>\n",
              "    </button>\n",
              "    <script>\n",
              "      (() => {\n",
              "      const buttonEl =\n",
              "        document.querySelector('#id_e2df745b-cbad-45bf-8a98-8d43e9e168e4 button.colab-df-generate');\n",
              "      buttonEl.style.display =\n",
              "        google.colab.kernel.accessAllowed ? 'block' : 'none';\n",
              "\n",
              "      buttonEl.onclick = () => {\n",
              "        google.colab.notebook.generateWithVariable('states');\n",
              "      }\n",
              "      })();\n",
              "    </script>\n",
              "  </div>\n",
              "\n",
              "    </div>\n",
              "  </div>\n"
            ],
            "application/vnd.google.colaboratory.intrinsic+json": {
              "type": "dataframe",
              "variable_name": "states",
              "summary": "{\n  \"name\": \"states\",\n  \"rows\": 5,\n  \"fields\": [\n    {\n      \"column\": \"population\",\n      \"properties\": {\n        \"dtype\": \"number\",\n        \"std\": 10087082,\n        \"min\": 13002700,\n        \"max\": 39538223,\n        \"num_unique_values\": 5,\n        \"samples\": [\n          29145505,\n          13002700,\n          21538187\n        ],\n        \"semantic_type\": \"\",\n        \"description\": \"\"\n      }\n    },\n    {\n      \"column\": \"area\",\n      \"properties\": {\n        \"dtype\": \"number\",\n        \"std\": 248027,\n        \"min\": 119280,\n        \"max\": 695662,\n        \"num_unique_values\": 5,\n        \"samples\": [\n          695662,\n          119280,\n          170312\n        ],\n        \"semantic_type\": \"\",\n        \"description\": \"\"\n      }\n    }\n  ]\n}"
            }
          },
          "metadata": {},
          "execution_count": 54
        }
      ],
      "source": [
        "states=pd.DataFrame({'population':population,'area':area})\n",
        "states"
      ]
    },
    {
      "cell_type": "markdown",
      "metadata": {
        "id": "gEMyY2H2qmOa"
      },
      "source": [
        "Like the `Series` object, the `DataFrame` has an `index` attribute that gives access to the index labels:"
      ]
    },
    {
      "cell_type": "code",
      "execution_count": 55,
      "metadata": {
        "jupyter": {
          "outputs_hidden": false
        },
        "id": "WjBEPeXJqmOa",
        "outputId": "3af04acb-3781-484e-a793-ab06ba8bbbce",
        "colab": {
          "base_uri": "https://localhost:8080/"
        }
      },
      "outputs": [
        {
          "output_type": "execute_result",
          "data": {
            "text/plain": [
              "Index(['California', 'Texas', 'Florida', 'New York', 'Pennsylvania'], dtype='object')"
            ]
          },
          "metadata": {},
          "execution_count": 55
        }
      ],
      "source": [
        "states.index"
      ]
    },
    {
      "cell_type": "markdown",
      "metadata": {
        "id": "NvpRHQFBqmOa"
      },
      "source": [
        "Additionally, the `DataFrame` has a `columns` attribute, which is an `Index` object holding the column labels:"
      ]
    },
    {
      "cell_type": "code",
      "execution_count": 56,
      "metadata": {
        "jupyter": {
          "outputs_hidden": false
        },
        "id": "hcM6VgzfqmOb",
        "outputId": "2e66bee9-4b3d-4915-9584-06c103367e3d",
        "colab": {
          "base_uri": "https://localhost:8080/",
          "height": 241
        }
      },
      "outputs": [
        {
          "output_type": "execute_result",
          "data": {
            "text/plain": [
              "California      423967\n",
              "Texas           695662\n",
              "Florida         170312\n",
              "New York        141297\n",
              "Pennsylvania    119280\n",
              "Name: area, dtype: int64"
            ],
            "text/html": [
              "<div>\n",
              "<style scoped>\n",
              "    .dataframe tbody tr th:only-of-type {\n",
              "        vertical-align: middle;\n",
              "    }\n",
              "\n",
              "    .dataframe tbody tr th {\n",
              "        vertical-align: top;\n",
              "    }\n",
              "\n",
              "    .dataframe thead th {\n",
              "        text-align: right;\n",
              "    }\n",
              "</style>\n",
              "<table border=\"1\" class=\"dataframe\">\n",
              "  <thead>\n",
              "    <tr style=\"text-align: right;\">\n",
              "      <th></th>\n",
              "      <th>area</th>\n",
              "    </tr>\n",
              "  </thead>\n",
              "  <tbody>\n",
              "    <tr>\n",
              "      <th>California</th>\n",
              "      <td>423967</td>\n",
              "    </tr>\n",
              "    <tr>\n",
              "      <th>Texas</th>\n",
              "      <td>695662</td>\n",
              "    </tr>\n",
              "    <tr>\n",
              "      <th>Florida</th>\n",
              "      <td>170312</td>\n",
              "    </tr>\n",
              "    <tr>\n",
              "      <th>New York</th>\n",
              "      <td>141297</td>\n",
              "    </tr>\n",
              "    <tr>\n",
              "      <th>Pennsylvania</th>\n",
              "      <td>119280</td>\n",
              "    </tr>\n",
              "  </tbody>\n",
              "</table>\n",
              "</div><br><label><b>dtype:</b> int64</label>"
            ]
          },
          "metadata": {},
          "execution_count": 56
        }
      ],
      "source": [
        "states['area']"
      ]
    },
    {
      "cell_type": "markdown",
      "metadata": {
        "id": "Nf5hlRLRqmOb"
      },
      "source": [
        "Thus the `DataFrame` can be thought of as a generalization of a two-dimensional NumPy array, where both the rows and columns have a generalized index for accessing the data."
      ]
    },
    {
      "cell_type": "markdown",
      "metadata": {
        "id": "w8cfaS5RqmOb"
      },
      "source": [
        "### DataFrame as Specialized Dictionary\n",
        "\n",
        "Similarly, we can also think of a `DataFrame` as a specialization of a dictionary.\n",
        "Where a dictionary maps a key to a value, a `DataFrame` maps a column name to a `Series` of column data.\n",
        "For example, asking for the `'area'` attribute returns the `Series` object containing the areas we saw earlier:"
      ]
    },
    {
      "cell_type": "code",
      "execution_count": 61,
      "metadata": {
        "jupyter": {
          "outputs_hidden": false
        },
        "id": "h754NKYBqmOb",
        "outputId": "ea4ca768-d8d5-410f-9ea2-7d9fc3c0c097",
        "colab": {
          "base_uri": "https://localhost:8080/",
          "height": 241
        }
      },
      "outputs": [
        {
          "output_type": "execute_result",
          "data": {
            "text/plain": [
              "California      CA\n",
              "Texas           TX\n",
              "Florida         Fl\n",
              "New York        Ny\n",
              "Pennsylvania    PN\n",
              "dtype: object"
            ],
            "text/html": [
              "<div>\n",
              "<style scoped>\n",
              "    .dataframe tbody tr th:only-of-type {\n",
              "        vertical-align: middle;\n",
              "    }\n",
              "\n",
              "    .dataframe tbody tr th {\n",
              "        vertical-align: top;\n",
              "    }\n",
              "\n",
              "    .dataframe thead th {\n",
              "        text-align: right;\n",
              "    }\n",
              "</style>\n",
              "<table border=\"1\" class=\"dataframe\">\n",
              "  <thead>\n",
              "    <tr style=\"text-align: right;\">\n",
              "      <th></th>\n",
              "      <th>0</th>\n",
              "    </tr>\n",
              "  </thead>\n",
              "  <tbody>\n",
              "    <tr>\n",
              "      <th>California</th>\n",
              "      <td>CA</td>\n",
              "    </tr>\n",
              "    <tr>\n",
              "      <th>Texas</th>\n",
              "      <td>TX</td>\n",
              "    </tr>\n",
              "    <tr>\n",
              "      <th>Florida</th>\n",
              "      <td>Fl</td>\n",
              "    </tr>\n",
              "    <tr>\n",
              "      <th>New York</th>\n",
              "      <td>Ny</td>\n",
              "    </tr>\n",
              "    <tr>\n",
              "      <th>Pennsylvania</th>\n",
              "      <td>PN</td>\n",
              "    </tr>\n",
              "  </tbody>\n",
              "</table>\n",
              "</div><br><label><b>dtype:</b> object</label>"
            ]
          },
          "metadata": {},
          "execution_count": 61
        }
      ],
      "source": [
        "area_dict = {'California': \"CA\", 'Texas': \"TX\", 'Florida': 'Fl',\n",
        "             'New York': \"Ny\", 'Pennsylvania': \"PN\"}\n",
        "short_name = pd.Series(area_dict)\n",
        "short_name"
      ]
    },
    {
      "cell_type": "code",
      "source": [
        "states['short name']=short_name\n",
        "states"
      ],
      "metadata": {
        "id": "dQB8QnXfDJaT",
        "outputId": "74664132-78f1-4e09-bfde-e63baf17e26c",
        "colab": {
          "base_uri": "https://localhost:8080/",
          "height": 206
        }
      },
      "execution_count": 64,
      "outputs": [
        {
          "output_type": "execute_result",
          "data": {
            "text/plain": [
              "              population    area short name\n",
              "California      39538223  423967         CA\n",
              "Texas           29145505  695662         TX\n",
              "Florida         21538187  170312         Fl\n",
              "New York        20201249  141297         Ny\n",
              "Pennsylvania    13002700  119280         PN"
            ],
            "text/html": [
              "\n",
              "  <div id=\"df-f254c948-eff2-4eda-85b7-4cae0b51d796\" class=\"colab-df-container\">\n",
              "    <div>\n",
              "<style scoped>\n",
              "    .dataframe tbody tr th:only-of-type {\n",
              "        vertical-align: middle;\n",
              "    }\n",
              "\n",
              "    .dataframe tbody tr th {\n",
              "        vertical-align: top;\n",
              "    }\n",
              "\n",
              "    .dataframe thead th {\n",
              "        text-align: right;\n",
              "    }\n",
              "</style>\n",
              "<table border=\"1\" class=\"dataframe\">\n",
              "  <thead>\n",
              "    <tr style=\"text-align: right;\">\n",
              "      <th></th>\n",
              "      <th>population</th>\n",
              "      <th>area</th>\n",
              "      <th>short name</th>\n",
              "    </tr>\n",
              "  </thead>\n",
              "  <tbody>\n",
              "    <tr>\n",
              "      <th>California</th>\n",
              "      <td>39538223</td>\n",
              "      <td>423967</td>\n",
              "      <td>CA</td>\n",
              "    </tr>\n",
              "    <tr>\n",
              "      <th>Texas</th>\n",
              "      <td>29145505</td>\n",
              "      <td>695662</td>\n",
              "      <td>TX</td>\n",
              "    </tr>\n",
              "    <tr>\n",
              "      <th>Florida</th>\n",
              "      <td>21538187</td>\n",
              "      <td>170312</td>\n",
              "      <td>Fl</td>\n",
              "    </tr>\n",
              "    <tr>\n",
              "      <th>New York</th>\n",
              "      <td>20201249</td>\n",
              "      <td>141297</td>\n",
              "      <td>Ny</td>\n",
              "    </tr>\n",
              "    <tr>\n",
              "      <th>Pennsylvania</th>\n",
              "      <td>13002700</td>\n",
              "      <td>119280</td>\n",
              "      <td>PN</td>\n",
              "    </tr>\n",
              "  </tbody>\n",
              "</table>\n",
              "</div>\n",
              "    <div class=\"colab-df-buttons\">\n",
              "\n",
              "  <div class=\"colab-df-container\">\n",
              "    <button class=\"colab-df-convert\" onclick=\"convertToInteractive('df-f254c948-eff2-4eda-85b7-4cae0b51d796')\"\n",
              "            title=\"Convert this dataframe to an interactive table.\"\n",
              "            style=\"display:none;\">\n",
              "\n",
              "  <svg xmlns=\"http://www.w3.org/2000/svg\" height=\"24px\" viewBox=\"0 -960 960 960\">\n",
              "    <path d=\"M120-120v-720h720v720H120Zm60-500h600v-160H180v160Zm220 220h160v-160H400v160Zm0 220h160v-160H400v160ZM180-400h160v-160H180v160Zm440 0h160v-160H620v160ZM180-180h160v-160H180v160Zm440 0h160v-160H620v160Z\"/>\n",
              "  </svg>\n",
              "    </button>\n",
              "\n",
              "  <style>\n",
              "    .colab-df-container {\n",
              "      display:flex;\n",
              "      gap: 12px;\n",
              "    }\n",
              "\n",
              "    .colab-df-convert {\n",
              "      background-color: #E8F0FE;\n",
              "      border: none;\n",
              "      border-radius: 50%;\n",
              "      cursor: pointer;\n",
              "      display: none;\n",
              "      fill: #1967D2;\n",
              "      height: 32px;\n",
              "      padding: 0 0 0 0;\n",
              "      width: 32px;\n",
              "    }\n",
              "\n",
              "    .colab-df-convert:hover {\n",
              "      background-color: #E2EBFA;\n",
              "      box-shadow: 0px 1px 2px rgba(60, 64, 67, 0.3), 0px 1px 3px 1px rgba(60, 64, 67, 0.15);\n",
              "      fill: #174EA6;\n",
              "    }\n",
              "\n",
              "    .colab-df-buttons div {\n",
              "      margin-bottom: 4px;\n",
              "    }\n",
              "\n",
              "    [theme=dark] .colab-df-convert {\n",
              "      background-color: #3B4455;\n",
              "      fill: #D2E3FC;\n",
              "    }\n",
              "\n",
              "    [theme=dark] .colab-df-convert:hover {\n",
              "      background-color: #434B5C;\n",
              "      box-shadow: 0px 1px 3px 1px rgba(0, 0, 0, 0.15);\n",
              "      filter: drop-shadow(0px 1px 2px rgba(0, 0, 0, 0.3));\n",
              "      fill: #FFFFFF;\n",
              "    }\n",
              "  </style>\n",
              "\n",
              "    <script>\n",
              "      const buttonEl =\n",
              "        document.querySelector('#df-f254c948-eff2-4eda-85b7-4cae0b51d796 button.colab-df-convert');\n",
              "      buttonEl.style.display =\n",
              "        google.colab.kernel.accessAllowed ? 'block' : 'none';\n",
              "\n",
              "      async function convertToInteractive(key) {\n",
              "        const element = document.querySelector('#df-f254c948-eff2-4eda-85b7-4cae0b51d796');\n",
              "        const dataTable =\n",
              "          await google.colab.kernel.invokeFunction('convertToInteractive',\n",
              "                                                    [key], {});\n",
              "        if (!dataTable) return;\n",
              "\n",
              "        const docLinkHtml = 'Like what you see? Visit the ' +\n",
              "          '<a target=\"_blank\" href=https://colab.research.google.com/notebooks/data_table.ipynb>data table notebook</a>'\n",
              "          + ' to learn more about interactive tables.';\n",
              "        element.innerHTML = '';\n",
              "        dataTable['output_type'] = 'display_data';\n",
              "        await google.colab.output.renderOutput(dataTable, element);\n",
              "        const docLink = document.createElement('div');\n",
              "        docLink.innerHTML = docLinkHtml;\n",
              "        element.appendChild(docLink);\n",
              "      }\n",
              "    </script>\n",
              "  </div>\n",
              "\n",
              "\n",
              "<div id=\"df-4bd86297-080b-4025-9993-8035c52f8e8c\">\n",
              "  <button class=\"colab-df-quickchart\" onclick=\"quickchart('df-4bd86297-080b-4025-9993-8035c52f8e8c')\"\n",
              "            title=\"Suggest charts\"\n",
              "            style=\"display:none;\">\n",
              "\n",
              "<svg xmlns=\"http://www.w3.org/2000/svg\" height=\"24px\"viewBox=\"0 0 24 24\"\n",
              "     width=\"24px\">\n",
              "    <g>\n",
              "        <path d=\"M19 3H5c-1.1 0-2 .9-2 2v14c0 1.1.9 2 2 2h14c1.1 0 2-.9 2-2V5c0-1.1-.9-2-2-2zM9 17H7v-7h2v7zm4 0h-2V7h2v10zm4 0h-2v-4h2v4z\"/>\n",
              "    </g>\n",
              "</svg>\n",
              "  </button>\n",
              "\n",
              "<style>\n",
              "  .colab-df-quickchart {\n",
              "      --bg-color: #E8F0FE;\n",
              "      --fill-color: #1967D2;\n",
              "      --hover-bg-color: #E2EBFA;\n",
              "      --hover-fill-color: #174EA6;\n",
              "      --disabled-fill-color: #AAA;\n",
              "      --disabled-bg-color: #DDD;\n",
              "  }\n",
              "\n",
              "  [theme=dark] .colab-df-quickchart {\n",
              "      --bg-color: #3B4455;\n",
              "      --fill-color: #D2E3FC;\n",
              "      --hover-bg-color: #434B5C;\n",
              "      --hover-fill-color: #FFFFFF;\n",
              "      --disabled-bg-color: #3B4455;\n",
              "      --disabled-fill-color: #666;\n",
              "  }\n",
              "\n",
              "  .colab-df-quickchart {\n",
              "    background-color: var(--bg-color);\n",
              "    border: none;\n",
              "    border-radius: 50%;\n",
              "    cursor: pointer;\n",
              "    display: none;\n",
              "    fill: var(--fill-color);\n",
              "    height: 32px;\n",
              "    padding: 0;\n",
              "    width: 32px;\n",
              "  }\n",
              "\n",
              "  .colab-df-quickchart:hover {\n",
              "    background-color: var(--hover-bg-color);\n",
              "    box-shadow: 0 1px 2px rgba(60, 64, 67, 0.3), 0 1px 3px 1px rgba(60, 64, 67, 0.15);\n",
              "    fill: var(--button-hover-fill-color);\n",
              "  }\n",
              "\n",
              "  .colab-df-quickchart-complete:disabled,\n",
              "  .colab-df-quickchart-complete:disabled:hover {\n",
              "    background-color: var(--disabled-bg-color);\n",
              "    fill: var(--disabled-fill-color);\n",
              "    box-shadow: none;\n",
              "  }\n",
              "\n",
              "  .colab-df-spinner {\n",
              "    border: 2px solid var(--fill-color);\n",
              "    border-color: transparent;\n",
              "    border-bottom-color: var(--fill-color);\n",
              "    animation:\n",
              "      spin 1s steps(1) infinite;\n",
              "  }\n",
              "\n",
              "  @keyframes spin {\n",
              "    0% {\n",
              "      border-color: transparent;\n",
              "      border-bottom-color: var(--fill-color);\n",
              "      border-left-color: var(--fill-color);\n",
              "    }\n",
              "    20% {\n",
              "      border-color: transparent;\n",
              "      border-left-color: var(--fill-color);\n",
              "      border-top-color: var(--fill-color);\n",
              "    }\n",
              "    30% {\n",
              "      border-color: transparent;\n",
              "      border-left-color: var(--fill-color);\n",
              "      border-top-color: var(--fill-color);\n",
              "      border-right-color: var(--fill-color);\n",
              "    }\n",
              "    40% {\n",
              "      border-color: transparent;\n",
              "      border-right-color: var(--fill-color);\n",
              "      border-top-color: var(--fill-color);\n",
              "    }\n",
              "    60% {\n",
              "      border-color: transparent;\n",
              "      border-right-color: var(--fill-color);\n",
              "    }\n",
              "    80% {\n",
              "      border-color: transparent;\n",
              "      border-right-color: var(--fill-color);\n",
              "      border-bottom-color: var(--fill-color);\n",
              "    }\n",
              "    90% {\n",
              "      border-color: transparent;\n",
              "      border-bottom-color: var(--fill-color);\n",
              "    }\n",
              "  }\n",
              "</style>\n",
              "\n",
              "  <script>\n",
              "    async function quickchart(key) {\n",
              "      const quickchartButtonEl =\n",
              "        document.querySelector('#' + key + ' button');\n",
              "      quickchartButtonEl.disabled = true;  // To prevent multiple clicks.\n",
              "      quickchartButtonEl.classList.add('colab-df-spinner');\n",
              "      try {\n",
              "        const charts = await google.colab.kernel.invokeFunction(\n",
              "            'suggestCharts', [key], {});\n",
              "      } catch (error) {\n",
              "        console.error('Error during call to suggestCharts:', error);\n",
              "      }\n",
              "      quickchartButtonEl.classList.remove('colab-df-spinner');\n",
              "      quickchartButtonEl.classList.add('colab-df-quickchart-complete');\n",
              "    }\n",
              "    (() => {\n",
              "      let quickchartButtonEl =\n",
              "        document.querySelector('#df-4bd86297-080b-4025-9993-8035c52f8e8c button');\n",
              "      quickchartButtonEl.style.display =\n",
              "        google.colab.kernel.accessAllowed ? 'block' : 'none';\n",
              "    })();\n",
              "  </script>\n",
              "</div>\n",
              "\n",
              "  <div id=\"id_07b4ec49-0a2a-4045-9365-d23c21b2abe6\">\n",
              "    <style>\n",
              "      .colab-df-generate {\n",
              "        background-color: #E8F0FE;\n",
              "        border: none;\n",
              "        border-radius: 50%;\n",
              "        cursor: pointer;\n",
              "        display: none;\n",
              "        fill: #1967D2;\n",
              "        height: 32px;\n",
              "        padding: 0 0 0 0;\n",
              "        width: 32px;\n",
              "      }\n",
              "\n",
              "      .colab-df-generate:hover {\n",
              "        background-color: #E2EBFA;\n",
              "        box-shadow: 0px 1px 2px rgba(60, 64, 67, 0.3), 0px 1px 3px 1px rgba(60, 64, 67, 0.15);\n",
              "        fill: #174EA6;\n",
              "      }\n",
              "\n",
              "      [theme=dark] .colab-df-generate {\n",
              "        background-color: #3B4455;\n",
              "        fill: #D2E3FC;\n",
              "      }\n",
              "\n",
              "      [theme=dark] .colab-df-generate:hover {\n",
              "        background-color: #434B5C;\n",
              "        box-shadow: 0px 1px 3px 1px rgba(0, 0, 0, 0.15);\n",
              "        filter: drop-shadow(0px 1px 2px rgba(0, 0, 0, 0.3));\n",
              "        fill: #FFFFFF;\n",
              "      }\n",
              "    </style>\n",
              "    <button class=\"colab-df-generate\" onclick=\"generateWithVariable('states')\"\n",
              "            title=\"Generate code using this dataframe.\"\n",
              "            style=\"display:none;\">\n",
              "\n",
              "  <svg xmlns=\"http://www.w3.org/2000/svg\" height=\"24px\"viewBox=\"0 0 24 24\"\n",
              "       width=\"24px\">\n",
              "    <path d=\"M7,19H8.4L18.45,9,17,7.55,7,17.6ZM5,21V16.75L18.45,3.32a2,2,0,0,1,2.83,0l1.4,1.43a1.91,1.91,0,0,1,.58,1.4,1.91,1.91,0,0,1-.58,1.4L9.25,21ZM18.45,9,17,7.55Zm-12,3A5.31,5.31,0,0,0,4.9,8.1,5.31,5.31,0,0,0,1,6.5,5.31,5.31,0,0,0,4.9,4.9,5.31,5.31,0,0,0,6.5,1,5.31,5.31,0,0,0,8.1,4.9,5.31,5.31,0,0,0,12,6.5,5.46,5.46,0,0,0,6.5,12Z\"/>\n",
              "  </svg>\n",
              "    </button>\n",
              "    <script>\n",
              "      (() => {\n",
              "      const buttonEl =\n",
              "        document.querySelector('#id_07b4ec49-0a2a-4045-9365-d23c21b2abe6 button.colab-df-generate');\n",
              "      buttonEl.style.display =\n",
              "        google.colab.kernel.accessAllowed ? 'block' : 'none';\n",
              "\n",
              "      buttonEl.onclick = () => {\n",
              "        google.colab.notebook.generateWithVariable('states');\n",
              "      }\n",
              "      })();\n",
              "    </script>\n",
              "  </div>\n",
              "\n",
              "    </div>\n",
              "  </div>\n"
            ],
            "application/vnd.google.colaboratory.intrinsic+json": {
              "type": "dataframe",
              "variable_name": "states",
              "summary": "{\n  \"name\": \"states\",\n  \"rows\": 5,\n  \"fields\": [\n    {\n      \"column\": \"population\",\n      \"properties\": {\n        \"dtype\": \"number\",\n        \"std\": 10087082,\n        \"min\": 13002700,\n        \"max\": 39538223,\n        \"num_unique_values\": 5,\n        \"samples\": [\n          29145505,\n          13002700,\n          21538187\n        ],\n        \"semantic_type\": \"\",\n        \"description\": \"\"\n      }\n    },\n    {\n      \"column\": \"area\",\n      \"properties\": {\n        \"dtype\": \"number\",\n        \"std\": 248027,\n        \"min\": 119280,\n        \"max\": 695662,\n        \"num_unique_values\": 5,\n        \"samples\": [\n          695662,\n          119280,\n          170312\n        ],\n        \"semantic_type\": \"\",\n        \"description\": \"\"\n      }\n    },\n    {\n      \"column\": \"short name\",\n      \"properties\": {\n        \"dtype\": \"string\",\n        \"num_unique_values\": 5,\n        \"samples\": [\n          \"TX\",\n          \"PN\",\n          \"Fl\"\n        ],\n        \"semantic_type\": \"\",\n        \"description\": \"\"\n      }\n    }\n  ]\n}"
            }
          },
          "metadata": {},
          "execution_count": 64
        }
      ]
    },
    {
      "cell_type": "code",
      "source": [
        "states[['population','area']]"
      ],
      "metadata": {
        "id": "aP-lx4fLDaw5",
        "outputId": "f9e8fcff-cec8-43d0-e315-8e90568454e8",
        "colab": {
          "base_uri": "https://localhost:8080/",
          "height": 206
        }
      },
      "execution_count": 67,
      "outputs": [
        {
          "output_type": "execute_result",
          "data": {
            "text/plain": [
              "              population    area\n",
              "California      39538223  423967\n",
              "Texas           29145505  695662\n",
              "Florida         21538187  170312\n",
              "New York        20201249  141297\n",
              "Pennsylvania    13002700  119280"
            ],
            "text/html": [
              "\n",
              "  <div id=\"df-b4892a56-ae36-426b-afde-1dba868d13e5\" class=\"colab-df-container\">\n",
              "    <div>\n",
              "<style scoped>\n",
              "    .dataframe tbody tr th:only-of-type {\n",
              "        vertical-align: middle;\n",
              "    }\n",
              "\n",
              "    .dataframe tbody tr th {\n",
              "        vertical-align: top;\n",
              "    }\n",
              "\n",
              "    .dataframe thead th {\n",
              "        text-align: right;\n",
              "    }\n",
              "</style>\n",
              "<table border=\"1\" class=\"dataframe\">\n",
              "  <thead>\n",
              "    <tr style=\"text-align: right;\">\n",
              "      <th></th>\n",
              "      <th>population</th>\n",
              "      <th>area</th>\n",
              "    </tr>\n",
              "  </thead>\n",
              "  <tbody>\n",
              "    <tr>\n",
              "      <th>California</th>\n",
              "      <td>39538223</td>\n",
              "      <td>423967</td>\n",
              "    </tr>\n",
              "    <tr>\n",
              "      <th>Texas</th>\n",
              "      <td>29145505</td>\n",
              "      <td>695662</td>\n",
              "    </tr>\n",
              "    <tr>\n",
              "      <th>Florida</th>\n",
              "      <td>21538187</td>\n",
              "      <td>170312</td>\n",
              "    </tr>\n",
              "    <tr>\n",
              "      <th>New York</th>\n",
              "      <td>20201249</td>\n",
              "      <td>141297</td>\n",
              "    </tr>\n",
              "    <tr>\n",
              "      <th>Pennsylvania</th>\n",
              "      <td>13002700</td>\n",
              "      <td>119280</td>\n",
              "    </tr>\n",
              "  </tbody>\n",
              "</table>\n",
              "</div>\n",
              "    <div class=\"colab-df-buttons\">\n",
              "\n",
              "  <div class=\"colab-df-container\">\n",
              "    <button class=\"colab-df-convert\" onclick=\"convertToInteractive('df-b4892a56-ae36-426b-afde-1dba868d13e5')\"\n",
              "            title=\"Convert this dataframe to an interactive table.\"\n",
              "            style=\"display:none;\">\n",
              "\n",
              "  <svg xmlns=\"http://www.w3.org/2000/svg\" height=\"24px\" viewBox=\"0 -960 960 960\">\n",
              "    <path d=\"M120-120v-720h720v720H120Zm60-500h600v-160H180v160Zm220 220h160v-160H400v160Zm0 220h160v-160H400v160ZM180-400h160v-160H180v160Zm440 0h160v-160H620v160ZM180-180h160v-160H180v160Zm440 0h160v-160H620v160Z\"/>\n",
              "  </svg>\n",
              "    </button>\n",
              "\n",
              "  <style>\n",
              "    .colab-df-container {\n",
              "      display:flex;\n",
              "      gap: 12px;\n",
              "    }\n",
              "\n",
              "    .colab-df-convert {\n",
              "      background-color: #E8F0FE;\n",
              "      border: none;\n",
              "      border-radius: 50%;\n",
              "      cursor: pointer;\n",
              "      display: none;\n",
              "      fill: #1967D2;\n",
              "      height: 32px;\n",
              "      padding: 0 0 0 0;\n",
              "      width: 32px;\n",
              "    }\n",
              "\n",
              "    .colab-df-convert:hover {\n",
              "      background-color: #E2EBFA;\n",
              "      box-shadow: 0px 1px 2px rgba(60, 64, 67, 0.3), 0px 1px 3px 1px rgba(60, 64, 67, 0.15);\n",
              "      fill: #174EA6;\n",
              "    }\n",
              "\n",
              "    .colab-df-buttons div {\n",
              "      margin-bottom: 4px;\n",
              "    }\n",
              "\n",
              "    [theme=dark] .colab-df-convert {\n",
              "      background-color: #3B4455;\n",
              "      fill: #D2E3FC;\n",
              "    }\n",
              "\n",
              "    [theme=dark] .colab-df-convert:hover {\n",
              "      background-color: #434B5C;\n",
              "      box-shadow: 0px 1px 3px 1px rgba(0, 0, 0, 0.15);\n",
              "      filter: drop-shadow(0px 1px 2px rgba(0, 0, 0, 0.3));\n",
              "      fill: #FFFFFF;\n",
              "    }\n",
              "  </style>\n",
              "\n",
              "    <script>\n",
              "      const buttonEl =\n",
              "        document.querySelector('#df-b4892a56-ae36-426b-afde-1dba868d13e5 button.colab-df-convert');\n",
              "      buttonEl.style.display =\n",
              "        google.colab.kernel.accessAllowed ? 'block' : 'none';\n",
              "\n",
              "      async function convertToInteractive(key) {\n",
              "        const element = document.querySelector('#df-b4892a56-ae36-426b-afde-1dba868d13e5');\n",
              "        const dataTable =\n",
              "          await google.colab.kernel.invokeFunction('convertToInteractive',\n",
              "                                                    [key], {});\n",
              "        if (!dataTable) return;\n",
              "\n",
              "        const docLinkHtml = 'Like what you see? Visit the ' +\n",
              "          '<a target=\"_blank\" href=https://colab.research.google.com/notebooks/data_table.ipynb>data table notebook</a>'\n",
              "          + ' to learn more about interactive tables.';\n",
              "        element.innerHTML = '';\n",
              "        dataTable['output_type'] = 'display_data';\n",
              "        await google.colab.output.renderOutput(dataTable, element);\n",
              "        const docLink = document.createElement('div');\n",
              "        docLink.innerHTML = docLinkHtml;\n",
              "        element.appendChild(docLink);\n",
              "      }\n",
              "    </script>\n",
              "  </div>\n",
              "\n",
              "\n",
              "<div id=\"df-932b2acc-6e06-400d-8d8d-dd4c7000c312\">\n",
              "  <button class=\"colab-df-quickchart\" onclick=\"quickchart('df-932b2acc-6e06-400d-8d8d-dd4c7000c312')\"\n",
              "            title=\"Suggest charts\"\n",
              "            style=\"display:none;\">\n",
              "\n",
              "<svg xmlns=\"http://www.w3.org/2000/svg\" height=\"24px\"viewBox=\"0 0 24 24\"\n",
              "     width=\"24px\">\n",
              "    <g>\n",
              "        <path d=\"M19 3H5c-1.1 0-2 .9-2 2v14c0 1.1.9 2 2 2h14c1.1 0 2-.9 2-2V5c0-1.1-.9-2-2-2zM9 17H7v-7h2v7zm4 0h-2V7h2v10zm4 0h-2v-4h2v4z\"/>\n",
              "    </g>\n",
              "</svg>\n",
              "  </button>\n",
              "\n",
              "<style>\n",
              "  .colab-df-quickchart {\n",
              "      --bg-color: #E8F0FE;\n",
              "      --fill-color: #1967D2;\n",
              "      --hover-bg-color: #E2EBFA;\n",
              "      --hover-fill-color: #174EA6;\n",
              "      --disabled-fill-color: #AAA;\n",
              "      --disabled-bg-color: #DDD;\n",
              "  }\n",
              "\n",
              "  [theme=dark] .colab-df-quickchart {\n",
              "      --bg-color: #3B4455;\n",
              "      --fill-color: #D2E3FC;\n",
              "      --hover-bg-color: #434B5C;\n",
              "      --hover-fill-color: #FFFFFF;\n",
              "      --disabled-bg-color: #3B4455;\n",
              "      --disabled-fill-color: #666;\n",
              "  }\n",
              "\n",
              "  .colab-df-quickchart {\n",
              "    background-color: var(--bg-color);\n",
              "    border: none;\n",
              "    border-radius: 50%;\n",
              "    cursor: pointer;\n",
              "    display: none;\n",
              "    fill: var(--fill-color);\n",
              "    height: 32px;\n",
              "    padding: 0;\n",
              "    width: 32px;\n",
              "  }\n",
              "\n",
              "  .colab-df-quickchart:hover {\n",
              "    background-color: var(--hover-bg-color);\n",
              "    box-shadow: 0 1px 2px rgba(60, 64, 67, 0.3), 0 1px 3px 1px rgba(60, 64, 67, 0.15);\n",
              "    fill: var(--button-hover-fill-color);\n",
              "  }\n",
              "\n",
              "  .colab-df-quickchart-complete:disabled,\n",
              "  .colab-df-quickchart-complete:disabled:hover {\n",
              "    background-color: var(--disabled-bg-color);\n",
              "    fill: var(--disabled-fill-color);\n",
              "    box-shadow: none;\n",
              "  }\n",
              "\n",
              "  .colab-df-spinner {\n",
              "    border: 2px solid var(--fill-color);\n",
              "    border-color: transparent;\n",
              "    border-bottom-color: var(--fill-color);\n",
              "    animation:\n",
              "      spin 1s steps(1) infinite;\n",
              "  }\n",
              "\n",
              "  @keyframes spin {\n",
              "    0% {\n",
              "      border-color: transparent;\n",
              "      border-bottom-color: var(--fill-color);\n",
              "      border-left-color: var(--fill-color);\n",
              "    }\n",
              "    20% {\n",
              "      border-color: transparent;\n",
              "      border-left-color: var(--fill-color);\n",
              "      border-top-color: var(--fill-color);\n",
              "    }\n",
              "    30% {\n",
              "      border-color: transparent;\n",
              "      border-left-color: var(--fill-color);\n",
              "      border-top-color: var(--fill-color);\n",
              "      border-right-color: var(--fill-color);\n",
              "    }\n",
              "    40% {\n",
              "      border-color: transparent;\n",
              "      border-right-color: var(--fill-color);\n",
              "      border-top-color: var(--fill-color);\n",
              "    }\n",
              "    60% {\n",
              "      border-color: transparent;\n",
              "      border-right-color: var(--fill-color);\n",
              "    }\n",
              "    80% {\n",
              "      border-color: transparent;\n",
              "      border-right-color: var(--fill-color);\n",
              "      border-bottom-color: var(--fill-color);\n",
              "    }\n",
              "    90% {\n",
              "      border-color: transparent;\n",
              "      border-bottom-color: var(--fill-color);\n",
              "    }\n",
              "  }\n",
              "</style>\n",
              "\n",
              "  <script>\n",
              "    async function quickchart(key) {\n",
              "      const quickchartButtonEl =\n",
              "        document.querySelector('#' + key + ' button');\n",
              "      quickchartButtonEl.disabled = true;  // To prevent multiple clicks.\n",
              "      quickchartButtonEl.classList.add('colab-df-spinner');\n",
              "      try {\n",
              "        const charts = await google.colab.kernel.invokeFunction(\n",
              "            'suggestCharts', [key], {});\n",
              "      } catch (error) {\n",
              "        console.error('Error during call to suggestCharts:', error);\n",
              "      }\n",
              "      quickchartButtonEl.classList.remove('colab-df-spinner');\n",
              "      quickchartButtonEl.classList.add('colab-df-quickchart-complete');\n",
              "    }\n",
              "    (() => {\n",
              "      let quickchartButtonEl =\n",
              "        document.querySelector('#df-932b2acc-6e06-400d-8d8d-dd4c7000c312 button');\n",
              "      quickchartButtonEl.style.display =\n",
              "        google.colab.kernel.accessAllowed ? 'block' : 'none';\n",
              "    })();\n",
              "  </script>\n",
              "</div>\n",
              "\n",
              "    </div>\n",
              "  </div>\n"
            ],
            "application/vnd.google.colaboratory.intrinsic+json": {
              "type": "dataframe",
              "summary": "{\n  \"name\": \"states[['population','area']]\",\n  \"rows\": 5,\n  \"fields\": [\n    {\n      \"column\": \"population\",\n      \"properties\": {\n        \"dtype\": \"number\",\n        \"std\": 10087082,\n        \"min\": 13002700,\n        \"max\": 39538223,\n        \"num_unique_values\": 5,\n        \"samples\": [\n          29145505,\n          13002700,\n          21538187\n        ],\n        \"semantic_type\": \"\",\n        \"description\": \"\"\n      }\n    },\n    {\n      \"column\": \"area\",\n      \"properties\": {\n        \"dtype\": \"number\",\n        \"std\": 248027,\n        \"min\": 119280,\n        \"max\": 695662,\n        \"num_unique_values\": 5,\n        \"samples\": [\n          695662,\n          119280,\n          170312\n        ],\n        \"semantic_type\": \"\",\n        \"description\": \"\"\n      }\n    }\n  ]\n}"
            }
          },
          "metadata": {},
          "execution_count": 67
        }
      ]
    },
    {
      "cell_type": "markdown",
      "metadata": {
        "id": "sCuLzmdQqmOb"
      },
      "source": [
        "Notice the potential point of confusion here: in a two-dimensional NumPy array, `data[0]` will return the first *row*. For a `DataFrame`, `data['col0']` will return the first *column*.\n",
        "Because of this, it is probably better to think about ``DataFrame``s as generalized dictionaries rather than generalized arrays, though both ways of looking at the situation can be useful.\n",
        "We'll explore more flexible means of indexing ``DataFrame``s later"
      ]
    },
    {
      "cell_type": "markdown",
      "metadata": {
        "id": "iE4XP7FNqmOb"
      },
      "source": [
        "### Constructing DataFrame Objects\n",
        "\n",
        "A Pandas `DataFrame` can be constructed in a variety of ways.\n",
        "Here we'll explore several examples."
      ]
    },
    {
      "cell_type": "markdown",
      "metadata": {
        "id": "IK4rubdVqmOb"
      },
      "source": [
        "#### From a single Series object\n",
        "\n",
        "A `DataFrame` is a collection of `Series` objects, and a single-column `DataFrame` can be constructed from a single `Series`:"
      ]
    },
    {
      "cell_type": "code",
      "execution_count": 68,
      "metadata": {
        "jupyter": {
          "outputs_hidden": false
        },
        "id": "ZMw_4PcbqmOb",
        "outputId": "985d44f4-2617-458c-bbaa-e2e75d135a12",
        "colab": {
          "base_uri": "https://localhost:8080/",
          "height": 206
        }
      },
      "outputs": [
        {
          "output_type": "execute_result",
          "data": {
            "text/plain": [
              "              population\n",
              "California      39538223\n",
              "Texas           29145505\n",
              "Florida         21538187\n",
              "New York        20201249\n",
              "Pennsylvania    13002700"
            ],
            "text/html": [
              "\n",
              "  <div id=\"df-9b17675a-9a49-461e-bd3a-3f3a05c12831\" class=\"colab-df-container\">\n",
              "    <div>\n",
              "<style scoped>\n",
              "    .dataframe tbody tr th:only-of-type {\n",
              "        vertical-align: middle;\n",
              "    }\n",
              "\n",
              "    .dataframe tbody tr th {\n",
              "        vertical-align: top;\n",
              "    }\n",
              "\n",
              "    .dataframe thead th {\n",
              "        text-align: right;\n",
              "    }\n",
              "</style>\n",
              "<table border=\"1\" class=\"dataframe\">\n",
              "  <thead>\n",
              "    <tr style=\"text-align: right;\">\n",
              "      <th></th>\n",
              "      <th>population</th>\n",
              "    </tr>\n",
              "  </thead>\n",
              "  <tbody>\n",
              "    <tr>\n",
              "      <th>California</th>\n",
              "      <td>39538223</td>\n",
              "    </tr>\n",
              "    <tr>\n",
              "      <th>Texas</th>\n",
              "      <td>29145505</td>\n",
              "    </tr>\n",
              "    <tr>\n",
              "      <th>Florida</th>\n",
              "      <td>21538187</td>\n",
              "    </tr>\n",
              "    <tr>\n",
              "      <th>New York</th>\n",
              "      <td>20201249</td>\n",
              "    </tr>\n",
              "    <tr>\n",
              "      <th>Pennsylvania</th>\n",
              "      <td>13002700</td>\n",
              "    </tr>\n",
              "  </tbody>\n",
              "</table>\n",
              "</div>\n",
              "    <div class=\"colab-df-buttons\">\n",
              "\n",
              "  <div class=\"colab-df-container\">\n",
              "    <button class=\"colab-df-convert\" onclick=\"convertToInteractive('df-9b17675a-9a49-461e-bd3a-3f3a05c12831')\"\n",
              "            title=\"Convert this dataframe to an interactive table.\"\n",
              "            style=\"display:none;\">\n",
              "\n",
              "  <svg xmlns=\"http://www.w3.org/2000/svg\" height=\"24px\" viewBox=\"0 -960 960 960\">\n",
              "    <path d=\"M120-120v-720h720v720H120Zm60-500h600v-160H180v160Zm220 220h160v-160H400v160Zm0 220h160v-160H400v160ZM180-400h160v-160H180v160Zm440 0h160v-160H620v160ZM180-180h160v-160H180v160Zm440 0h160v-160H620v160Z\"/>\n",
              "  </svg>\n",
              "    </button>\n",
              "\n",
              "  <style>\n",
              "    .colab-df-container {\n",
              "      display:flex;\n",
              "      gap: 12px;\n",
              "    }\n",
              "\n",
              "    .colab-df-convert {\n",
              "      background-color: #E8F0FE;\n",
              "      border: none;\n",
              "      border-radius: 50%;\n",
              "      cursor: pointer;\n",
              "      display: none;\n",
              "      fill: #1967D2;\n",
              "      height: 32px;\n",
              "      padding: 0 0 0 0;\n",
              "      width: 32px;\n",
              "    }\n",
              "\n",
              "    .colab-df-convert:hover {\n",
              "      background-color: #E2EBFA;\n",
              "      box-shadow: 0px 1px 2px rgba(60, 64, 67, 0.3), 0px 1px 3px 1px rgba(60, 64, 67, 0.15);\n",
              "      fill: #174EA6;\n",
              "    }\n",
              "\n",
              "    .colab-df-buttons div {\n",
              "      margin-bottom: 4px;\n",
              "    }\n",
              "\n",
              "    [theme=dark] .colab-df-convert {\n",
              "      background-color: #3B4455;\n",
              "      fill: #D2E3FC;\n",
              "    }\n",
              "\n",
              "    [theme=dark] .colab-df-convert:hover {\n",
              "      background-color: #434B5C;\n",
              "      box-shadow: 0px 1px 3px 1px rgba(0, 0, 0, 0.15);\n",
              "      filter: drop-shadow(0px 1px 2px rgba(0, 0, 0, 0.3));\n",
              "      fill: #FFFFFF;\n",
              "    }\n",
              "  </style>\n",
              "\n",
              "    <script>\n",
              "      const buttonEl =\n",
              "        document.querySelector('#df-9b17675a-9a49-461e-bd3a-3f3a05c12831 button.colab-df-convert');\n",
              "      buttonEl.style.display =\n",
              "        google.colab.kernel.accessAllowed ? 'block' : 'none';\n",
              "\n",
              "      async function convertToInteractive(key) {\n",
              "        const element = document.querySelector('#df-9b17675a-9a49-461e-bd3a-3f3a05c12831');\n",
              "        const dataTable =\n",
              "          await google.colab.kernel.invokeFunction('convertToInteractive',\n",
              "                                                    [key], {});\n",
              "        if (!dataTable) return;\n",
              "\n",
              "        const docLinkHtml = 'Like what you see? Visit the ' +\n",
              "          '<a target=\"_blank\" href=https://colab.research.google.com/notebooks/data_table.ipynb>data table notebook</a>'\n",
              "          + ' to learn more about interactive tables.';\n",
              "        element.innerHTML = '';\n",
              "        dataTable['output_type'] = 'display_data';\n",
              "        await google.colab.output.renderOutput(dataTable, element);\n",
              "        const docLink = document.createElement('div');\n",
              "        docLink.innerHTML = docLinkHtml;\n",
              "        element.appendChild(docLink);\n",
              "      }\n",
              "    </script>\n",
              "  </div>\n",
              "\n",
              "\n",
              "<div id=\"df-0ff871e8-8952-4c23-aa91-6f0109ac412f\">\n",
              "  <button class=\"colab-df-quickchart\" onclick=\"quickchart('df-0ff871e8-8952-4c23-aa91-6f0109ac412f')\"\n",
              "            title=\"Suggest charts\"\n",
              "            style=\"display:none;\">\n",
              "\n",
              "<svg xmlns=\"http://www.w3.org/2000/svg\" height=\"24px\"viewBox=\"0 0 24 24\"\n",
              "     width=\"24px\">\n",
              "    <g>\n",
              "        <path d=\"M19 3H5c-1.1 0-2 .9-2 2v14c0 1.1.9 2 2 2h14c1.1 0 2-.9 2-2V5c0-1.1-.9-2-2-2zM9 17H7v-7h2v7zm4 0h-2V7h2v10zm4 0h-2v-4h2v4z\"/>\n",
              "    </g>\n",
              "</svg>\n",
              "  </button>\n",
              "\n",
              "<style>\n",
              "  .colab-df-quickchart {\n",
              "      --bg-color: #E8F0FE;\n",
              "      --fill-color: #1967D2;\n",
              "      --hover-bg-color: #E2EBFA;\n",
              "      --hover-fill-color: #174EA6;\n",
              "      --disabled-fill-color: #AAA;\n",
              "      --disabled-bg-color: #DDD;\n",
              "  }\n",
              "\n",
              "  [theme=dark] .colab-df-quickchart {\n",
              "      --bg-color: #3B4455;\n",
              "      --fill-color: #D2E3FC;\n",
              "      --hover-bg-color: #434B5C;\n",
              "      --hover-fill-color: #FFFFFF;\n",
              "      --disabled-bg-color: #3B4455;\n",
              "      --disabled-fill-color: #666;\n",
              "  }\n",
              "\n",
              "  .colab-df-quickchart {\n",
              "    background-color: var(--bg-color);\n",
              "    border: none;\n",
              "    border-radius: 50%;\n",
              "    cursor: pointer;\n",
              "    display: none;\n",
              "    fill: var(--fill-color);\n",
              "    height: 32px;\n",
              "    padding: 0;\n",
              "    width: 32px;\n",
              "  }\n",
              "\n",
              "  .colab-df-quickchart:hover {\n",
              "    background-color: var(--hover-bg-color);\n",
              "    box-shadow: 0 1px 2px rgba(60, 64, 67, 0.3), 0 1px 3px 1px rgba(60, 64, 67, 0.15);\n",
              "    fill: var(--button-hover-fill-color);\n",
              "  }\n",
              "\n",
              "  .colab-df-quickchart-complete:disabled,\n",
              "  .colab-df-quickchart-complete:disabled:hover {\n",
              "    background-color: var(--disabled-bg-color);\n",
              "    fill: var(--disabled-fill-color);\n",
              "    box-shadow: none;\n",
              "  }\n",
              "\n",
              "  .colab-df-spinner {\n",
              "    border: 2px solid var(--fill-color);\n",
              "    border-color: transparent;\n",
              "    border-bottom-color: var(--fill-color);\n",
              "    animation:\n",
              "      spin 1s steps(1) infinite;\n",
              "  }\n",
              "\n",
              "  @keyframes spin {\n",
              "    0% {\n",
              "      border-color: transparent;\n",
              "      border-bottom-color: var(--fill-color);\n",
              "      border-left-color: var(--fill-color);\n",
              "    }\n",
              "    20% {\n",
              "      border-color: transparent;\n",
              "      border-left-color: var(--fill-color);\n",
              "      border-top-color: var(--fill-color);\n",
              "    }\n",
              "    30% {\n",
              "      border-color: transparent;\n",
              "      border-left-color: var(--fill-color);\n",
              "      border-top-color: var(--fill-color);\n",
              "      border-right-color: var(--fill-color);\n",
              "    }\n",
              "    40% {\n",
              "      border-color: transparent;\n",
              "      border-right-color: var(--fill-color);\n",
              "      border-top-color: var(--fill-color);\n",
              "    }\n",
              "    60% {\n",
              "      border-color: transparent;\n",
              "      border-right-color: var(--fill-color);\n",
              "    }\n",
              "    80% {\n",
              "      border-color: transparent;\n",
              "      border-right-color: var(--fill-color);\n",
              "      border-bottom-color: var(--fill-color);\n",
              "    }\n",
              "    90% {\n",
              "      border-color: transparent;\n",
              "      border-bottom-color: var(--fill-color);\n",
              "    }\n",
              "  }\n",
              "</style>\n",
              "\n",
              "  <script>\n",
              "    async function quickchart(key) {\n",
              "      const quickchartButtonEl =\n",
              "        document.querySelector('#' + key + ' button');\n",
              "      quickchartButtonEl.disabled = true;  // To prevent multiple clicks.\n",
              "      quickchartButtonEl.classList.add('colab-df-spinner');\n",
              "      try {\n",
              "        const charts = await google.colab.kernel.invokeFunction(\n",
              "            'suggestCharts', [key], {});\n",
              "      } catch (error) {\n",
              "        console.error('Error during call to suggestCharts:', error);\n",
              "      }\n",
              "      quickchartButtonEl.classList.remove('colab-df-spinner');\n",
              "      quickchartButtonEl.classList.add('colab-df-quickchart-complete');\n",
              "    }\n",
              "    (() => {\n",
              "      let quickchartButtonEl =\n",
              "        document.querySelector('#df-0ff871e8-8952-4c23-aa91-6f0109ac412f button');\n",
              "      quickchartButtonEl.style.display =\n",
              "        google.colab.kernel.accessAllowed ? 'block' : 'none';\n",
              "    })();\n",
              "  </script>\n",
              "</div>\n",
              "\n",
              "  <div id=\"id_605db7da-1e9c-45b8-9ce7-69f89971d502\">\n",
              "    <style>\n",
              "      .colab-df-generate {\n",
              "        background-color: #E8F0FE;\n",
              "        border: none;\n",
              "        border-radius: 50%;\n",
              "        cursor: pointer;\n",
              "        display: none;\n",
              "        fill: #1967D2;\n",
              "        height: 32px;\n",
              "        padding: 0 0 0 0;\n",
              "        width: 32px;\n",
              "      }\n",
              "\n",
              "      .colab-df-generate:hover {\n",
              "        background-color: #E2EBFA;\n",
              "        box-shadow: 0px 1px 2px rgba(60, 64, 67, 0.3), 0px 1px 3px 1px rgba(60, 64, 67, 0.15);\n",
              "        fill: #174EA6;\n",
              "      }\n",
              "\n",
              "      [theme=dark] .colab-df-generate {\n",
              "        background-color: #3B4455;\n",
              "        fill: #D2E3FC;\n",
              "      }\n",
              "\n",
              "      [theme=dark] .colab-df-generate:hover {\n",
              "        background-color: #434B5C;\n",
              "        box-shadow: 0px 1px 3px 1px rgba(0, 0, 0, 0.15);\n",
              "        filter: drop-shadow(0px 1px 2px rgba(0, 0, 0, 0.3));\n",
              "        fill: #FFFFFF;\n",
              "      }\n",
              "    </style>\n",
              "    <button class=\"colab-df-generate\" onclick=\"generateWithVariable('data2')\"\n",
              "            title=\"Generate code using this dataframe.\"\n",
              "            style=\"display:none;\">\n",
              "\n",
              "  <svg xmlns=\"http://www.w3.org/2000/svg\" height=\"24px\"viewBox=\"0 0 24 24\"\n",
              "       width=\"24px\">\n",
              "    <path d=\"M7,19H8.4L18.45,9,17,7.55,7,17.6ZM5,21V16.75L18.45,3.32a2,2,0,0,1,2.83,0l1.4,1.43a1.91,1.91,0,0,1,.58,1.4,1.91,1.91,0,0,1-.58,1.4L9.25,21ZM18.45,9,17,7.55Zm-12,3A5.31,5.31,0,0,0,4.9,8.1,5.31,5.31,0,0,0,1,6.5,5.31,5.31,0,0,0,4.9,4.9,5.31,5.31,0,0,0,6.5,1,5.31,5.31,0,0,0,8.1,4.9,5.31,5.31,0,0,0,12,6.5,5.46,5.46,0,0,0,6.5,12Z\"/>\n",
              "  </svg>\n",
              "    </button>\n",
              "    <script>\n",
              "      (() => {\n",
              "      const buttonEl =\n",
              "        document.querySelector('#id_605db7da-1e9c-45b8-9ce7-69f89971d502 button.colab-df-generate');\n",
              "      buttonEl.style.display =\n",
              "        google.colab.kernel.accessAllowed ? 'block' : 'none';\n",
              "\n",
              "      buttonEl.onclick = () => {\n",
              "        google.colab.notebook.generateWithVariable('data2');\n",
              "      }\n",
              "      })();\n",
              "    </script>\n",
              "  </div>\n",
              "\n",
              "    </div>\n",
              "  </div>\n"
            ],
            "application/vnd.google.colaboratory.intrinsic+json": {
              "type": "dataframe",
              "variable_name": "data2",
              "summary": "{\n  \"name\": \"data2\",\n  \"rows\": 5,\n  \"fields\": [\n    {\n      \"column\": \"population\",\n      \"properties\": {\n        \"dtype\": \"number\",\n        \"std\": 10087082,\n        \"min\": 13002700,\n        \"max\": 39538223,\n        \"num_unique_values\": 5,\n        \"samples\": [\n          29145505,\n          13002700,\n          21538187\n        ],\n        \"semantic_type\": \"\",\n        \"description\": \"\"\n      }\n    }\n  ]\n}"
            }
          },
          "metadata": {},
          "execution_count": 68
        }
      ],
      "source": [
        "data2=pd.DataFrame(population,columns=['population'])\n",
        "data2"
      ]
    },
    {
      "cell_type": "markdown",
      "metadata": {
        "id": "4iIObMlzqmOb"
      },
      "source": [
        "#### From a list of dicts\n",
        "\n",
        "Any list of dictionaries can be made into a `DataFrame`.\n",
        "We'll use a simple list comprehension to create some data:"
      ]
    },
    {
      "cell_type": "code",
      "execution_count": null,
      "metadata": {
        "jupyter": {
          "outputs_hidden": false
        },
        "id": "uBLTKm-rqmOb"
      },
      "outputs": [],
      "source": [
        "ind=p"
      ]
    },
    {
      "cell_type": "code",
      "source": [],
      "metadata": {
        "id": "4zfcS6RjVflw"
      },
      "execution_count": null,
      "outputs": []
    },
    {
      "cell_type": "markdown",
      "metadata": {
        "id": "hbWX5zPmqmOb"
      },
      "source": [
        "Even if some keys in the dictionary are missing, Pandas will fill them in with `NaN` values (i.e., \"Not a Number\"):"
      ]
    },
    {
      "cell_type": "code",
      "execution_count": null,
      "metadata": {
        "jupyter": {
          "outputs_hidden": false
        },
        "id": "SPQtJ0BmqmOb"
      },
      "outputs": [],
      "source": [
        "pd.DataFrame([{'a': 1, 'b': 2}, {'b': 3, 'c': 4}])"
      ]
    },
    {
      "cell_type": "markdown",
      "metadata": {
        "id": "02XkfSHuqmOb"
      },
      "source": [
        "#### From a dictionary of Series objects\n",
        "\n",
        "As we saw before, a `DataFrame` can be constructed from a dictionary of `Series` objects as well:"
      ]
    },
    {
      "cell_type": "code",
      "execution_count": null,
      "metadata": {
        "jupyter": {
          "outputs_hidden": false
        },
        "id": "nEdofmJxqmOc"
      },
      "outputs": [],
      "source": [
        "pd.DataFrame({'population': population,\n",
        "              'area': area})"
      ]
    },
    {
      "cell_type": "markdown",
      "metadata": {
        "id": "CT_9LlBnqmOc"
      },
      "source": [
        "#### From a two-dimensional NumPy array\n",
        "\n",
        "Given a two-dimensional array of data, we can create a `DataFrame` with any specified column and index names.\n",
        "If omitted, an integer index will be used for each:"
      ]
    },
    {
      "cell_type": "code",
      "execution_count": null,
      "metadata": {
        "jupyter": {
          "outputs_hidden": false
        },
        "id": "7yHG_zkYqmOc"
      },
      "outputs": [],
      "source": []
    },
    {
      "cell_type": "markdown",
      "metadata": {
        "id": "HjAvPDoDqmOc"
      },
      "source": [
        "## The Pandas Index Object\n",
        "\n",
        "As you've seen, the `Series` and `DataFrame` objects both contain an explicit *index* that lets you reference and modify data.\n",
        "This `Index` object is an interesting structure in itself, and it can be thought of either as an *immutable array* or as an *ordered set* (technically a multiset, as `Index` objects may contain repeated values).\n",
        "Those views have some interesting consequences in terms of the operations available on `Index` objects.\n",
        "As a simple example, let's construct an `Index` from a list of integers:"
      ]
    },
    {
      "cell_type": "code",
      "execution_count": 69,
      "metadata": {
        "jupyter": {
          "outputs_hidden": false
        },
        "id": "6Eiiwfi3qmOc",
        "outputId": "2936b20f-0578-43fe-8301-56693aa1824e",
        "colab": {
          "base_uri": "https://localhost:8080/"
        }
      },
      "outputs": [
        {
          "output_type": "execute_result",
          "data": {
            "text/plain": [
              "Index([2, 3, 5, 7, 11], dtype='int64')"
            ]
          },
          "metadata": {},
          "execution_count": 69
        }
      ],
      "source": [
        "ind=pd.Index([2,3,5,7,11])\n",
        "ind"
      ]
    },
    {
      "cell_type": "markdown",
      "metadata": {
        "id": "NCKgWAd3qmOc"
      },
      "source": [
        "### Index as Immutable Array\n",
        "\n",
        "The `Index` in many ways operates like an array.\n",
        "For example, we can use standard Python indexing notation to retrieve values or slices:"
      ]
    },
    {
      "cell_type": "code",
      "execution_count": 70,
      "metadata": {
        "jupyter": {
          "outputs_hidden": false
        },
        "id": "KHnu5dqzqmOc",
        "outputId": "9e912897-a5ca-4e04-f843-43f21f44de1c",
        "colab": {
          "base_uri": "https://localhost:8080/"
        }
      },
      "outputs": [
        {
          "output_type": "execute_result",
          "data": {
            "text/plain": [
              "3"
            ]
          },
          "metadata": {},
          "execution_count": 70
        }
      ],
      "source": [
        "ind[1]"
      ]
    },
    {
      "cell_type": "code",
      "execution_count": 71,
      "metadata": {
        "jupyter": {
          "outputs_hidden": false
        },
        "id": "LA5PLwxpqmOc",
        "outputId": "bcd573c6-aff5-4c9c-ebef-ff3fb7b9d79d",
        "colab": {
          "base_uri": "https://localhost:8080/"
        }
      },
      "outputs": [
        {
          "output_type": "execute_result",
          "data": {
            "text/plain": [
              "Index([2, 3, 5, 7, 11], dtype='int64')"
            ]
          },
          "metadata": {},
          "execution_count": 71
        }
      ],
      "source": [
        "ind[::]"
      ]
    },
    {
      "cell_type": "markdown",
      "metadata": {
        "id": "BSb7TeI8qmOc"
      },
      "source": [
        "`Index` objects also have many of the attributes familiar from NumPy arrays:"
      ]
    },
    {
      "cell_type": "code",
      "execution_count": 73,
      "metadata": {
        "jupyter": {
          "outputs_hidden": false
        },
        "id": "wjVPvKyFqmOc",
        "outputId": "8c1103a2-f24e-4559-d2f6-21b3f783dc8a",
        "colab": {
          "base_uri": "https://localhost:8080/"
        }
      },
      "outputs": [
        {
          "output_type": "execute_result",
          "data": {
            "text/plain": [
              "Index([3, 5], dtype='int64')"
            ]
          },
          "metadata": {},
          "execution_count": 73
        }
      ],
      "source": [
        "ind[1:3:]"
      ]
    },
    {
      "cell_type": "markdown",
      "metadata": {
        "id": "bjHGh4XrqmOc"
      },
      "source": [
        "One difference between `Index` objects and NumPy arrays is that the indices are immutable—that is, they cannot be modified via the normal means:"
      ]
    },
    {
      "cell_type": "code",
      "execution_count": 75,
      "metadata": {
        "jupyter": {
          "outputs_hidden": false
        },
        "id": "GhFM4rH9qmOd",
        "outputId": "d1c83664-4b30-4732-8c7b-42f0dcc044ee",
        "colab": {
          "base_uri": "https://localhost:8080/"
        }
      },
      "outputs": [
        {
          "output_type": "stream",
          "name": "stdout",
          "text": [
            "5 (5,) 1 int64\n"
          ]
        }
      ],
      "source": [
        "print(ind.size,ind.shape,ind.ndim,ind.dtype)"
      ]
    },
    {
      "cell_type": "markdown",
      "metadata": {
        "id": "PfTAGQUSqmOd"
      },
      "source": [
        "This immutability makes it safer to share indices between multiple ``DataFrame``s and arrays, without the potential for side effects from inadvertent index modification."
      ]
    },
    {
      "cell_type": "markdown",
      "source": [
        "# Data Indexing and Selection"
      ],
      "metadata": {
        "id": "NE7yn5agbzSV"
      }
    },
    {
      "cell_type": "markdown",
      "metadata": {
        "id": "rza559ULn5sE"
      },
      "source": [
        "## Data Selection in Series\n",
        "\n",
        "As learned before, a `Series` object acts in many ways like a one-dimensional NumPy array, and in many ways like a standard Python dictionary.\n",
        "If you keep these two overlapping analogies in mind, it will help you understand the patterns of data indexing and selection in these arrays."
      ]
    },
    {
      "cell_type": "markdown",
      "metadata": {
        "id": "0DwZrOvGn5sE"
      },
      "source": [
        "### Series as Dictionary\n",
        "\n",
        "Like a dictionary, the `Series` object provides a mapping from a collection of keys to a collection of values:"
      ]
    },
    {
      "cell_type": "code",
      "execution_count": 76,
      "metadata": {
        "jupyter": {
          "outputs_hidden": false
        },
        "id": "0ALLSGjNn5sF",
        "outputId": "0095b5a6-ad67-424e-8fbd-2dc17af3b892",
        "colab": {
          "base_uri": "https://localhost:8080/",
          "height": 210
        }
      },
      "outputs": [
        {
          "output_type": "execute_result",
          "data": {
            "text/plain": [
              "a    0.25\n",
              "b    0.50\n",
              "c    0.75\n",
              "d    1.00\n",
              "dtype: float64"
            ],
            "text/html": [
              "<div>\n",
              "<style scoped>\n",
              "    .dataframe tbody tr th:only-of-type {\n",
              "        vertical-align: middle;\n",
              "    }\n",
              "\n",
              "    .dataframe tbody tr th {\n",
              "        vertical-align: top;\n",
              "    }\n",
              "\n",
              "    .dataframe thead th {\n",
              "        text-align: right;\n",
              "    }\n",
              "</style>\n",
              "<table border=\"1\" class=\"dataframe\">\n",
              "  <thead>\n",
              "    <tr style=\"text-align: right;\">\n",
              "      <th></th>\n",
              "      <th>0</th>\n",
              "    </tr>\n",
              "  </thead>\n",
              "  <tbody>\n",
              "    <tr>\n",
              "      <th>a</th>\n",
              "      <td>0.25</td>\n",
              "    </tr>\n",
              "    <tr>\n",
              "      <th>b</th>\n",
              "      <td>0.50</td>\n",
              "    </tr>\n",
              "    <tr>\n",
              "      <th>c</th>\n",
              "      <td>0.75</td>\n",
              "    </tr>\n",
              "    <tr>\n",
              "      <th>d</th>\n",
              "      <td>1.00</td>\n",
              "    </tr>\n",
              "  </tbody>\n",
              "</table>\n",
              "</div><br><label><b>dtype:</b> float64</label>"
            ]
          },
          "metadata": {},
          "execution_count": 76
        }
      ],
      "source": [
        "data = pd.Series([0.25, 0.5, 0.75, 1.0],\n",
        "                 index=['a', 'b', 'c', 'd'])\n",
        "data"
      ]
    },
    {
      "cell_type": "code",
      "execution_count": 77,
      "metadata": {
        "jupyter": {
          "outputs_hidden": false
        },
        "id": "SWtbdwpJn5sG",
        "outputId": "c5962a5d-f7c3-4225-91db-5a7ec848193d",
        "colab": {
          "base_uri": "https://localhost:8080/"
        }
      },
      "outputs": [
        {
          "output_type": "execute_result",
          "data": {
            "text/plain": [
              "0.25"
            ]
          },
          "metadata": {},
          "execution_count": 77
        }
      ],
      "source": [
        "data['a']"
      ]
    },
    {
      "cell_type": "markdown",
      "metadata": {
        "id": "G_mYOLpOn5sG"
      },
      "source": [
        "We can also use dictionary-like Python expressions and methods to examine the keys/indices and values:"
      ]
    },
    {
      "cell_type": "code",
      "execution_count": 78,
      "metadata": {
        "jupyter": {
          "outputs_hidden": false
        },
        "id": "iefPoXTHn5sG",
        "outputId": "ece91356-4a97-4838-8795-a2e89603c340",
        "colab": {
          "base_uri": "https://localhost:8080/"
        }
      },
      "outputs": [
        {
          "output_type": "execute_result",
          "data": {
            "text/plain": [
              "True"
            ]
          },
          "metadata": {},
          "execution_count": 78
        }
      ],
      "source": [
        "'a' in data"
      ]
    },
    {
      "cell_type": "code",
      "execution_count": 79,
      "metadata": {
        "jupyter": {
          "outputs_hidden": false
        },
        "id": "-Ob8XMD1n5sH",
        "outputId": "e983a776-ffee-450e-d525-20428deb93b7",
        "colab": {
          "base_uri": "https://localhost:8080/"
        }
      },
      "outputs": [
        {
          "output_type": "execute_result",
          "data": {
            "text/plain": [
              "Index(['a', 'b', 'c', 'd'], dtype='object')"
            ]
          },
          "metadata": {},
          "execution_count": 79
        }
      ],
      "source": [
        "data.keys()"
      ]
    },
    {
      "cell_type": "code",
      "execution_count": 81,
      "metadata": {
        "jupyter": {
          "outputs_hidden": false
        },
        "id": "dveKQ3mCn5sH",
        "outputId": "bbeff636-49a2-4f24-fb3c-25ffd45da7b9",
        "colab": {
          "base_uri": "https://localhost:8080/"
        }
      },
      "outputs": [
        {
          "output_type": "execute_result",
          "data": {
            "text/plain": [
              "[('a', 0.25), ('b', 0.5), ('c', 0.75), ('d', 1.0)]"
            ]
          },
          "metadata": {},
          "execution_count": 81
        }
      ],
      "source": [
        "list(data.items())"
      ]
    },
    {
      "cell_type": "markdown",
      "metadata": {
        "id": "oVpyFfFIn5sH"
      },
      "source": [
        "`Series` objects can also be modified with a dictionary-like syntax.\n",
        "Just as you can extend a dictionary by assigning to a new key, you can extend a `Series` by assigning to a new index value:"
      ]
    },
    {
      "cell_type": "code",
      "execution_count": null,
      "metadata": {
        "jupyter": {
          "outputs_hidden": false
        },
        "id": "LUo9QdbEn5sH"
      },
      "outputs": [],
      "source": []
    },
    {
      "cell_type": "markdown",
      "metadata": {
        "id": "8G33boG1n5sH"
      },
      "source": [
        "This easy mutability of the objects is a convenient feature: under the hood, Pandas is making decisions about memory layout and data copying that might need to take place, and the user generally does not need to worry about these issues."
      ]
    },
    {
      "cell_type": "markdown",
      "metadata": {
        "id": "qfFlYa-Ln5sH"
      },
      "source": [
        "### Series as One-Dimensional Array"
      ]
    },
    {
      "cell_type": "markdown",
      "metadata": {
        "id": "2PTUJYYfn5sH"
      },
      "source": [
        "A `Series` builds on this dictionary-like interface and provides array-style item selection via the same basic mechanisms as NumPy arrays—that is, slices, masking, and fancy indexing.\n",
        "Examples of these are as follows:"
      ]
    },
    {
      "cell_type": "code",
      "execution_count": 84,
      "metadata": {
        "jupyter": {
          "outputs_hidden": false
        },
        "id": "0StQ_ykgn5sI",
        "outputId": "0493e5ae-d02f-4faa-8511-769edc210cf4",
        "colab": {
          "base_uri": "https://localhost:8080/",
          "height": 178
        }
      },
      "outputs": [
        {
          "output_type": "execute_result",
          "data": {
            "text/plain": [
              "a    0.25\n",
              "b    0.50\n",
              "c    0.75\n",
              "dtype: float64"
            ],
            "text/html": [
              "<div>\n",
              "<style scoped>\n",
              "    .dataframe tbody tr th:only-of-type {\n",
              "        vertical-align: middle;\n",
              "    }\n",
              "\n",
              "    .dataframe tbody tr th {\n",
              "        vertical-align: top;\n",
              "    }\n",
              "\n",
              "    .dataframe thead th {\n",
              "        text-align: right;\n",
              "    }\n",
              "</style>\n",
              "<table border=\"1\" class=\"dataframe\">\n",
              "  <thead>\n",
              "    <tr style=\"text-align: right;\">\n",
              "      <th></th>\n",
              "      <th>0</th>\n",
              "    </tr>\n",
              "  </thead>\n",
              "  <tbody>\n",
              "    <tr>\n",
              "      <th>a</th>\n",
              "      <td>0.25</td>\n",
              "    </tr>\n",
              "    <tr>\n",
              "      <th>b</th>\n",
              "      <td>0.50</td>\n",
              "    </tr>\n",
              "    <tr>\n",
              "      <th>c</th>\n",
              "      <td>0.75</td>\n",
              "    </tr>\n",
              "  </tbody>\n",
              "</table>\n",
              "</div><br><label><b>dtype:</b> float64</label>"
            ]
          },
          "metadata": {},
          "execution_count": 84
        }
      ],
      "source": [
        "# slicing by explicit index\n",
        "data['a':'c']"
      ]
    },
    {
      "cell_type": "code",
      "execution_count": 89,
      "metadata": {
        "jupyter": {
          "outputs_hidden": false
        },
        "id": "nufMcY_on5sI",
        "outputId": "c994e4f6-a37d-4144-eb00-f9dcca750fda",
        "colab": {
          "base_uri": "https://localhost:8080/",
          "height": 147
        }
      },
      "outputs": [
        {
          "output_type": "execute_result",
          "data": {
            "text/plain": [
              "c    0.75\n",
              "d    1.00\n",
              "dtype: float64"
            ],
            "text/html": [
              "<div>\n",
              "<style scoped>\n",
              "    .dataframe tbody tr th:only-of-type {\n",
              "        vertical-align: middle;\n",
              "    }\n",
              "\n",
              "    .dataframe tbody tr th {\n",
              "        vertical-align: top;\n",
              "    }\n",
              "\n",
              "    .dataframe thead th {\n",
              "        text-align: right;\n",
              "    }\n",
              "</style>\n",
              "<table border=\"1\" class=\"dataframe\">\n",
              "  <thead>\n",
              "    <tr style=\"text-align: right;\">\n",
              "      <th></th>\n",
              "      <th>0</th>\n",
              "    </tr>\n",
              "  </thead>\n",
              "  <tbody>\n",
              "    <tr>\n",
              "      <th>c</th>\n",
              "      <td>0.75</td>\n",
              "    </tr>\n",
              "    <tr>\n",
              "      <th>d</th>\n",
              "      <td>1.00</td>\n",
              "    </tr>\n",
              "  </tbody>\n",
              "</table>\n",
              "</div><br><label><b>dtype:</b> float64</label>"
            ]
          },
          "metadata": {},
          "execution_count": 89
        }
      ],
      "source": [
        "# slicing by implicit integer index\n",
        "data[2:4]"
      ]
    },
    {
      "cell_type": "code",
      "execution_count": 92,
      "metadata": {
        "jupyter": {
          "outputs_hidden": false
        },
        "id": "r3FJJPjin5sI",
        "outputId": "c06c7cc9-a54a-490f-c2de-9e71d8558e4d",
        "colab": {
          "base_uri": "https://localhost:8080/",
          "height": 115
        }
      },
      "outputs": [
        {
          "output_type": "execute_result",
          "data": {
            "text/plain": [
              "c    0.75\n",
              "dtype: float64"
            ],
            "text/html": [
              "<div>\n",
              "<style scoped>\n",
              "    .dataframe tbody tr th:only-of-type {\n",
              "        vertical-align: middle;\n",
              "    }\n",
              "\n",
              "    .dataframe tbody tr th {\n",
              "        vertical-align: top;\n",
              "    }\n",
              "\n",
              "    .dataframe thead th {\n",
              "        text-align: right;\n",
              "    }\n",
              "</style>\n",
              "<table border=\"1\" class=\"dataframe\">\n",
              "  <thead>\n",
              "    <tr style=\"text-align: right;\">\n",
              "      <th></th>\n",
              "      <th>0</th>\n",
              "    </tr>\n",
              "  </thead>\n",
              "  <tbody>\n",
              "    <tr>\n",
              "      <th>c</th>\n",
              "      <td>0.75</td>\n",
              "    </tr>\n",
              "  </tbody>\n",
              "</table>\n",
              "</div><br><label><b>dtype:</b> float64</label>"
            ]
          },
          "metadata": {},
          "execution_count": 92
        }
      ],
      "source": [
        "# masking\n",
        "make= (data>0.6) & (data<0.8)\n",
        "data[make]"
      ]
    },
    {
      "cell_type": "code",
      "execution_count": null,
      "metadata": {
        "jupyter": {
          "outputs_hidden": false
        },
        "id": "fTPTtSbwn5sI"
      },
      "outputs": [],
      "source": [
        "# fancy indexing\n"
      ]
    },
    {
      "cell_type": "markdown",
      "metadata": {
        "id": "ntXPcJUBn5sI"
      },
      "source": [
        "Of these, slicing may be the source of the most confusion.\n",
        "Notice that when slicing with an explicit index (e.g., `data['a':'c']`), the final index is *included* in the slice, while when slicing with an implicit index (e.g., `data[0:2]`), the final index is *excluded* from the slice."
      ]
    },
    {
      "cell_type": "markdown",
      "metadata": {
        "id": "Zvq6tNVmn5sI"
      },
      "source": [
        "### Indexers: loc and iloc\n",
        "\n",
        "If your `Series` has an explicit integer index, an indexing operation such as `data[1]` will use the explicit indices, while a slicing operation like `data[1:3]` will use the implicit Python-style indices:"
      ]
    },
    {
      "cell_type": "code",
      "execution_count": null,
      "metadata": {
        "jupyter": {
          "outputs_hidden": false
        },
        "id": "EHVvPtKtn5sJ"
      },
      "outputs": [],
      "source": [
        "data = pd.Series(['a', 'b', 'c'], index=[1, 3, 5])\n",
        "data"
      ]
    },
    {
      "cell_type": "code",
      "execution_count": null,
      "metadata": {
        "jupyter": {
          "outputs_hidden": false
        },
        "id": "PS6x9hcbn5sJ"
      },
      "outputs": [],
      "source": [
        "# explicit index when indexing\n"
      ]
    },
    {
      "cell_type": "code",
      "execution_count": null,
      "metadata": {
        "jupyter": {
          "outputs_hidden": false
        },
        "id": "WDrQv_Iyn5sJ"
      },
      "outputs": [],
      "source": [
        "# implicit index when slicing\n"
      ]
    },
    {
      "cell_type": "markdown",
      "metadata": {
        "id": "ulIMXlFyn5sJ"
      },
      "source": [
        "Because of this potential confusion in the case of integer indexes, Pandas provides some special *indexer* attributes that explicitly expose certain indexing schemes.\n",
        "These are not functional methods, but attributes that expose a particular slicing interface to the data in the `Series`.\n",
        "\n",
        "First, the `loc` attribute allows indexing and slicing that always references the explicit index:"
      ]
    },
    {
      "cell_type": "code",
      "execution_count": null,
      "metadata": {
        "jupyter": {
          "outputs_hidden": false
        },
        "id": "ETxLlnV7n5sJ"
      },
      "outputs": [],
      "source": []
    },
    {
      "cell_type": "code",
      "execution_count": null,
      "metadata": {
        "jupyter": {
          "outputs_hidden": false
        },
        "id": "Lnh2VjByn5sJ"
      },
      "outputs": [],
      "source": []
    },
    {
      "cell_type": "markdown",
      "metadata": {
        "id": "VIyoIYfDn5sJ"
      },
      "source": [
        "The `iloc` attribute allows indexing and slicing that always references the implicit Python-style index:"
      ]
    },
    {
      "cell_type": "code",
      "execution_count": null,
      "metadata": {
        "jupyter": {
          "outputs_hidden": false
        },
        "id": "-W_jDQofn5sJ"
      },
      "outputs": [],
      "source": []
    },
    {
      "cell_type": "code",
      "execution_count": null,
      "metadata": {
        "jupyter": {
          "outputs_hidden": false
        },
        "id": "yVmHdkpNn5sJ"
      },
      "outputs": [],
      "source": []
    },
    {
      "cell_type": "markdown",
      "metadata": {
        "id": "YUyJMakon5sJ"
      },
      "source": [
        "One guiding principle of Python code is that \"explicit is better than implicit.\"\n",
        "The explicit nature of `loc` and `iloc` makes them helpful in maintaining clean and readable code; especially in the case of integer indexes, using them consistently can prevent subtle bugs due to the mixed indexing/slicing convention."
      ]
    },
    {
      "cell_type": "markdown",
      "metadata": {
        "id": "rs7-NERgn5sJ"
      },
      "source": [
        "## Data Selection in DataFrames\n",
        "\n",
        "Recall that a `DataFrame` acts in many ways like a two-dimensional or structured array, and in other ways like a dictionary of `Series` structures sharing the same index.\n",
        "These analogies can be helpful to keep in mind as we explore data selection within this structure."
      ]
    },
    {
      "cell_type": "markdown",
      "metadata": {
        "id": "mBYxsDSTn5sJ"
      },
      "source": [
        "### DataFrame as Dictionary\n",
        "\n",
        "The first analogy we will consider is the `DataFrame` as a dictionary of related `Series` objects.\n",
        "Let's return to our example of areas and populations of states:"
      ]
    },
    {
      "cell_type": "code",
      "execution_count": null,
      "metadata": {
        "jupyter": {
          "outputs_hidden": false
        },
        "id": "oFTXIetFn5sJ"
      },
      "outputs": [],
      "source": [
        "area = pd.Series({'California': 423967, 'Texas': 695662,\n",
        "                  'Florida': 170312, 'New York': 141297,\n",
        "                  'Pennsylvania': 119280})\n",
        "pop = pd.Series({'California': 39538223, 'Texas': 29145505,\n",
        "                 'Florida': 21538187, 'New York': 20201249,\n",
        "                 'Pennsylvania': 13002700})\n",
        "data = pd.DataFrame({'area':area, 'pop':pop})\n",
        "data"
      ]
    },
    {
      "cell_type": "markdown",
      "metadata": {
        "id": "9mQcPKfqn5sJ"
      },
      "source": [
        "The individual `Series` that make up the columns of the `DataFrame` can be accessed via dictionary-style indexing of the column name:"
      ]
    },
    {
      "cell_type": "code",
      "execution_count": null,
      "metadata": {
        "jupyter": {
          "outputs_hidden": false
        },
        "id": "ok1FeIOin5sJ"
      },
      "outputs": [],
      "source": []
    },
    {
      "cell_type": "markdown",
      "metadata": {
        "id": "jwUqJ5w5n5sJ"
      },
      "source": [
        "Equivalently, we can use attribute-style access with column names that are strings:"
      ]
    },
    {
      "cell_type": "code",
      "execution_count": null,
      "metadata": {
        "jupyter": {
          "outputs_hidden": false
        },
        "id": "IKy3QBx7n5sJ"
      },
      "outputs": [],
      "source": []
    },
    {
      "cell_type": "markdown",
      "metadata": {
        "id": "wvrAgeu-n5sK"
      },
      "source": [
        "Though this is a useful shorthand, keep in mind that it does not work for all cases!\n",
        "For example, if the column names are not strings, or if the column names conflict with methods of the `DataFrame`, this attribute-style access is not possible.\n",
        "For example, the `DataFrame` has a `pop` method, so `data.pop` will point to this rather than the `pop` column:"
      ]
    },
    {
      "cell_type": "code",
      "execution_count": null,
      "metadata": {
        "jupyter": {
          "outputs_hidden": false
        },
        "id": "SnBqSKjGn5sN"
      },
      "outputs": [],
      "source": []
    },
    {
      "cell_type": "markdown",
      "metadata": {
        "id": "cZsxLWKRn5sN"
      },
      "source": [
        "In particular, you should avoid the temptation to try column assignment via attributes (i.e., use `data['pop'] = z` rather than `data.pop = z`).\n",
        "\n",
        "Like with the `Series` objects discussed earlier, this dictionary-style syntax can also be used to modify the object, in this case adding a new column:"
      ]
    },
    {
      "cell_type": "code",
      "execution_count": null,
      "metadata": {
        "jupyter": {
          "outputs_hidden": false
        },
        "id": "0dqcGexjn5sN"
      },
      "outputs": [],
      "source": []
    },
    {
      "cell_type": "markdown",
      "metadata": {
        "id": "MLYHDgrIn5sN"
      },
      "source": [
        "This shows a preview of the straightforward syntax of element-by-element arithmetic between `Series` objects; we'll dig into this further in a bit"
      ]
    },
    {
      "cell_type": "markdown",
      "metadata": {
        "id": "OOmPAKRrn5sN"
      },
      "source": [
        "### DataFrame as Two-Dimensional Array\n",
        "\n",
        "As mentioned previously, we can also view the `DataFrame` as an enhanced two-dimensional array.\n",
        "We can examine the raw underlying data array using the `values` attribute:"
      ]
    },
    {
      "cell_type": "code",
      "execution_count": null,
      "metadata": {
        "jupyter": {
          "outputs_hidden": false
        },
        "id": "dxw9e5PTn5sN"
      },
      "outputs": [],
      "source": []
    },
    {
      "cell_type": "markdown",
      "metadata": {
        "id": "Cgwtuh0On5sN"
      },
      "source": [
        "With this picture in mind, many familiar array-like operations can be done on the `DataFrame` itself.\n",
        "For example, we can transpose the full `DataFrame` to swap rows and columns:"
      ]
    },
    {
      "cell_type": "code",
      "execution_count": null,
      "metadata": {
        "jupyter": {
          "outputs_hidden": false
        },
        "id": "OQ8l6GIPn5sO"
      },
      "outputs": [],
      "source": []
    },
    {
      "cell_type": "markdown",
      "metadata": {
        "id": "-5fAPPSSn5sO"
      },
      "source": [
        "When it comes to indexing of a `DataFrame` object, however, it is clear that the dictionary-style indexing of columns precludes our ability to simply treat it as a NumPy array.\n",
        "In particular, passing a single index to an array accesses a row:"
      ]
    },
    {
      "cell_type": "code",
      "execution_count": null,
      "metadata": {
        "jupyter": {
          "outputs_hidden": false
        },
        "id": "kU50lqILn5sO"
      },
      "outputs": [],
      "source": []
    },
    {
      "cell_type": "markdown",
      "metadata": {
        "id": "IZzh2UfTn5sO"
      },
      "source": [
        "and passing a single \"index\" to a `DataFrame` accesses a column:"
      ]
    },
    {
      "cell_type": "code",
      "execution_count": null,
      "metadata": {
        "jupyter": {
          "outputs_hidden": false
        },
        "id": "sR26jGg6n5sO"
      },
      "outputs": [],
      "source": []
    },
    {
      "cell_type": "markdown",
      "metadata": {
        "id": "ZzHq7Jcdn5sO"
      },
      "source": [
        "Thus, for array-style indexing, we need another convention.\n",
        "Here Pandas again uses the `loc` and `iloc` indexers mentioned earlier.\n",
        "Using the `iloc` indexer, we can index the underlying array as if it were a simple NumPy array (using the implicit Python-style index), but the `DataFrame` index and column labels are maintained in the result:"
      ]
    },
    {
      "cell_type": "code",
      "execution_count": null,
      "metadata": {
        "jupyter": {
          "outputs_hidden": false
        },
        "id": "HedpAwQjn5sO"
      },
      "outputs": [],
      "source": []
    },
    {
      "cell_type": "markdown",
      "metadata": {
        "id": "iT_NRT0hn5sO"
      },
      "source": [
        "Similarly, using the `loc` indexer we can index the underlying data in an array-like style but using the explicit index and column names:"
      ]
    },
    {
      "cell_type": "code",
      "execution_count": null,
      "metadata": {
        "jupyter": {
          "outputs_hidden": false
        },
        "id": "LzoEQhOpn5sO"
      },
      "outputs": [],
      "source": []
    },
    {
      "cell_type": "code",
      "source": [],
      "metadata": {
        "id": "nJv9QfJHg5Qy"
      },
      "execution_count": null,
      "outputs": []
    },
    {
      "cell_type": "code",
      "source": [],
      "metadata": {
        "id": "li0VPGDQhB6a"
      },
      "execution_count": null,
      "outputs": []
    },
    {
      "cell_type": "markdown",
      "metadata": {
        "id": "cqDo2JmCn5sO"
      },
      "source": [
        "Any of the familiar NumPy-style data access patterns can be used within these indexers.\n",
        "For example, in the `loc` indexer we can combine masking and fancy indexing as follows:"
      ]
    },
    {
      "cell_type": "code",
      "execution_count": null,
      "metadata": {
        "jupyter": {
          "outputs_hidden": false
        },
        "id": "4Tt4MErcn5sO"
      },
      "outputs": [],
      "source": []
    },
    {
      "cell_type": "markdown",
      "metadata": {
        "id": "VQFd-Hnan5sO"
      },
      "source": [
        "Any of these indexing conventions may also be used to set or modify values; this is done in the standard way that you might be accustomed to from working with NumPy:"
      ]
    },
    {
      "cell_type": "code",
      "execution_count": null,
      "metadata": {
        "jupyter": {
          "outputs_hidden": false
        },
        "id": "neHFKdtun5sO"
      },
      "outputs": [],
      "source": []
    },
    {
      "cell_type": "markdown",
      "metadata": {
        "id": "Pn56ASg9n5sO"
      },
      "source": [
        "To build up your fluency in Pandas data manipulation, I suggest spending some time with a simple `DataFrame` and exploring the types of indexing, slicing, masking, and fancy indexing that are allowed by these various indexing approaches."
      ]
    },
    {
      "cell_type": "markdown",
      "metadata": {
        "id": "lkrgsrw-i7KO"
      },
      "source": [
        "# Operating on Data in Pandas"
      ]
    },
    {
      "cell_type": "markdown",
      "metadata": {
        "id": "BIkOk7zni7KQ"
      },
      "source": [
        "One of the strengths of NumPy is that it allows us to perform quick element-wise operations, both with basic arithmetic (addition, subtraction, multiplication, etc.) and with more complicated operations (trigonometric functions, exponential and logarithmic functions, etc.).\n",
        "Pandas inherits much of this functionality from NumPy.\n",
        "\n",
        "Pandas includes a couple of useful twists, however: for unary operations like negation and trigonometric functions, these ufuncs will *preserve index and column labels* in the output, and for binary operations such as addition and multiplication, Pandas will automatically *align indices* when passing the objects to the ufunc.\n",
        "This means that keeping the context of data and combining data from different sources—both potentially error-prone tasks with raw NumPy arrays—become essentially foolproof with Pandas.\n",
        "We will additionally see that there are well-defined operations between one-dimensional `Series` structures and two-dimensional `DataFrame` structures."
      ]
    },
    {
      "cell_type": "markdown",
      "metadata": {
        "id": "h8G_gZxgi7KR"
      },
      "source": [
        "## Ufuncs: Index Preservation\n",
        "\n",
        "Because Pandas is designed to work with NumPy, any NumPy ufunc will work on Pandas `Series` and `DataFrame` objects.\n",
        "Let's start by defining a simple `Series` and `DataFrame` on which to demonstrate this:"
      ]
    },
    {
      "cell_type": "code",
      "execution_count": null,
      "metadata": {
        "jupyter": {
          "outputs_hidden": false
        },
        "id": "aATMTYJpi7KS"
      },
      "outputs": [],
      "source": [
        "rng = np.random.default_rng(42)\n",
        "ser = pd.Series(rng.integers(0, 10, 4))\n",
        "ser"
      ]
    },
    {
      "cell_type": "code",
      "execution_count": null,
      "metadata": {
        "jupyter": {
          "outputs_hidden": false
        },
        "id": "w7ChFCvfi7KT"
      },
      "outputs": [],
      "source": [
        "df = pd.DataFrame(rng.integers(0, 10, (3, 4)),\n",
        "                  columns=['A', 'B', 'C', 'D'])\n",
        "df"
      ]
    },
    {
      "cell_type": "markdown",
      "metadata": {
        "id": "qrN-YakIi7KT"
      },
      "source": [
        "If we apply a NumPy ufunc on either of these objects, the result will be another Pandas object *with the indices preserved:*"
      ]
    },
    {
      "cell_type": "code",
      "execution_count": null,
      "metadata": {
        "jupyter": {
          "outputs_hidden": false
        },
        "id": "m6_7yr87i7KT"
      },
      "outputs": [],
      "source": []
    },
    {
      "cell_type": "markdown",
      "metadata": {
        "id": "MketSMNgi7KU"
      },
      "source": [
        "This is true also for more involved sequences of operations:"
      ]
    },
    {
      "cell_type": "code",
      "execution_count": null,
      "metadata": {
        "jupyter": {
          "outputs_hidden": false
        },
        "id": "qEGz4LWHi7KU"
      },
      "outputs": [],
      "source": []
    },
    {
      "cell_type": "markdown",
      "metadata": {
        "id": "v-Tsce9wi7KU"
      },
      "source": [
        "Any of the numpy ufuncs can be used in a similar manner (e.g., add, substract, negative, positive, absolute, log, log2, log10, sqrt, etc).\n",
        "\n",
        "Try it!"
      ]
    },
    {
      "cell_type": "code",
      "source": [],
      "metadata": {
        "id": "HQsWs0lamJ0B"
      },
      "execution_count": null,
      "outputs": []
    },
    {
      "cell_type": "code",
      "source": [],
      "metadata": {
        "id": "STDd7G7AmJ5U"
      },
      "execution_count": null,
      "outputs": []
    },
    {
      "cell_type": "markdown",
      "metadata": {
        "id": "J2evcz2ri7KU"
      },
      "source": [
        "## Ufuncs: Index Alignment\n",
        "\n",
        "For binary operations on two `Series` or `DataFrame` objects, Pandas will align indices in the process of performing the operation.\n",
        "This is very convenient when working with incomplete data, as we'll see in some of the examples that follow."
      ]
    },
    {
      "cell_type": "markdown",
      "metadata": {
        "id": "cQzSCWe9i7KU"
      },
      "source": [
        "### Index Alignment in Series\n",
        "\n",
        "As an example, suppose we are combining two different data sources and wish to find only the top three US states by *area* and the top three US states by *population*:"
      ]
    },
    {
      "cell_type": "code",
      "execution_count": null,
      "metadata": {
        "jupyter": {
          "outputs_hidden": false
        },
        "id": "ApN1If8ti7KU"
      },
      "outputs": [],
      "source": [
        "area = pd.Series({'Alaska': 1723337, 'Texas': 695662,\n",
        "                  'California': 423967}, name='area')\n",
        "population = pd.Series({'California': 39538223, 'Texas': 29145505,\n",
        "                        'Florida': 21538187}, name='population')"
      ]
    },
    {
      "cell_type": "markdown",
      "metadata": {
        "id": "95Qo_sQji7KV"
      },
      "source": [
        "Let's see what happens when we divide these to compute the population density:"
      ]
    },
    {
      "cell_type": "code",
      "execution_count": null,
      "metadata": {
        "jupyter": {
          "outputs_hidden": false
        },
        "id": "Sqjx3k71i7KV"
      },
      "outputs": [],
      "source": []
    },
    {
      "cell_type": "markdown",
      "metadata": {
        "id": "M8dvfY2Mi7KV"
      },
      "source": [
        "The resulting array contains the *union* of indices of the two input arrays, which could be determined directly from these indices:"
      ]
    },
    {
      "cell_type": "code",
      "execution_count": null,
      "metadata": {
        "jupyter": {
          "outputs_hidden": false
        },
        "id": "JeFVcS9Yi7KV"
      },
      "outputs": [],
      "source": []
    },
    {
      "cell_type": "markdown",
      "metadata": {
        "id": "Ajqay93Ti7KV"
      },
      "source": [
        "Any item for which one or the other does not have an entry is marked with `NaN`, or \"Not a Number,\" which is how Pandas marks missing data.\n",
        "This index matching is implemented this way for any of Python's built-in arithmetic expressions; any missing values are marked by `NaN`:"
      ]
    },
    {
      "cell_type": "code",
      "execution_count": null,
      "metadata": {
        "jupyter": {
          "outputs_hidden": false
        },
        "id": "eVYa2eHKi7KV"
      },
      "outputs": [],
      "source": [
        "A = pd.Series([2, 4, 6], index=[0, 1, 2])\n",
        "B = pd.Series([1, 3, 5], index=[1, 2, 3])\n"
      ]
    },
    {
      "cell_type": "markdown",
      "metadata": {
        "id": "M7imigbEi7KV"
      },
      "source": [
        "If using `NaN` values is not the desired behavior, the fill value can be modified using appropriate object methods in place of the operators.\n",
        "For example, calling ``A.add(B)`` is equivalent to calling ``A + B``, but allows optional explicit specification of the fill value for any elements in ``A`` or ``B`` that might be missing:"
      ]
    },
    {
      "cell_type": "code",
      "execution_count": null,
      "metadata": {
        "jupyter": {
          "outputs_hidden": false
        },
        "id": "NU3-CrQni7KV"
      },
      "outputs": [],
      "source": []
    },
    {
      "cell_type": "markdown",
      "metadata": {
        "id": "Neb3lIGvi7KV"
      },
      "source": [
        "### Index Alignment in DataFrames\n",
        "\n",
        "A similar type of alignment takes place for *both* columns and indices when performing operations on `DataFrame` objects:"
      ]
    },
    {
      "cell_type": "code",
      "execution_count": null,
      "metadata": {
        "jupyter": {
          "outputs_hidden": false
        },
        "id": "_nt8GNZUi7KV"
      },
      "outputs": [],
      "source": [
        "A = pd.DataFrame(rng.integers(0, 20, (2, 2)),\n",
        "                 columns=['a', 'b'])\n",
        "A"
      ]
    },
    {
      "cell_type": "code",
      "execution_count": null,
      "metadata": {
        "jupyter": {
          "outputs_hidden": false
        },
        "id": "_IBRS57gi7KV"
      },
      "outputs": [],
      "source": [
        "B = pd.DataFrame(rng.integers(0, 10, (3, 3)),\n",
        "                 columns=['b', 'a', 'c'])\n",
        "B"
      ]
    },
    {
      "cell_type": "code",
      "execution_count": null,
      "metadata": {
        "jupyter": {
          "outputs_hidden": false
        },
        "id": "Ok_PxlC4i7KW"
      },
      "outputs": [],
      "source": [
        "A + B"
      ]
    },
    {
      "cell_type": "markdown",
      "metadata": {
        "id": "HriH7x3Ii7KW"
      },
      "source": [
        "Notice that indices are aligned correctly irrespective of their order in the two objects, and indices in the result are sorted.\n",
        "As was the case with `Series`, we can use the associated object's arithmetic methods and pass any desired `fill_value` to be used in place of missing entries.\n",
        "Here we'll fill with the mean of all values in `A`:"
      ]
    },
    {
      "cell_type": "code",
      "execution_count": null,
      "metadata": {
        "jupyter": {
          "outputs_hidden": false
        },
        "id": "WpB6zW15i7KW"
      },
      "outputs": [],
      "source": [
        "A.add(B, fill_value=A.values.mean())"
      ]
    },
    {
      "cell_type": "markdown",
      "metadata": {
        "id": "4cWk5sr-i7KW"
      },
      "source": [
        "The following table lists Python operators and their equivalent Pandas object methods:\n",
        "\n",
        "| Python operator | Pandas method(s)                |\n",
        "|-----------------|---------------------------------|\n",
        "| `+`             | `add`                           |\n",
        "| `-`             | `sub`, `subtract`               |\n",
        "| `*`             | `mul`, `multiply`               |\n",
        "| `/`             | `truediv`, `div`, `divide`      |\n",
        "| `//`            | `floordiv`                      |\n",
        "| `%`             | `mod`                           |\n",
        "| `**`            | `pow`                           |\n"
      ]
    },
    {
      "cell_type": "markdown",
      "metadata": {
        "id": "bUPCeWennl7v"
      },
      "source": [
        "# Handling Missing Data"
      ]
    },
    {
      "cell_type": "markdown",
      "metadata": {
        "id": "gWo7dCKPnl7x"
      },
      "source": [
        "Data in the real world is rarely clean and homogeneous.\n",
        "In particular, many interesting datasets will have some amount of data missing.\n",
        "To make matters even more complicated, different data sources may indicate missing data in different ways.\n",
        "\n",
        "Let's finalize our Lab session 1 by discussing some general considerations for missing data, look at how Pandas chooses to represent it, and explore some built-in Pandas tools for handling missing data in Python.\n",
        "Here and throughout the course, we will refer to missing data in general as *null*, *NaN*, or *NA* values."
      ]
    },
    {
      "cell_type": "markdown",
      "metadata": {
        "id": "2nld8c-pnl7x"
      },
      "source": [
        "## Trade-offs in Missing Data Conventions\n",
        "\n",
        "A number of approaches have been developed to track the presence of missing data in a table or `DataFrame`.\n",
        "Generally, they revolve around one of two strategies: using a *mask* that globally indicates missing values, or choosing a *sentinel value* that indicates a missing entry.\n",
        "\n",
        "In the masking approach, the mask might be an entirely separate Boolean array, or it might involve appropriation of one bit in the data representation to locally indicate the null status of a value.\n",
        "\n",
        "In the sentinel approach, the sentinel value could be some data-specific convention, such as indicating a missing integer value with –9999 or some rare bit pattern, or it could be a more global convention, such as indicating a missing floating-point value with `NaN` (Not a Number), a special value that is part of the IEEE floating-point specification.\n",
        "\n",
        "Neither of these approaches is without trade-offs. Use of a separate mask array requires allocation of an additional Boolean array, which adds overhead in both storage and computation. A sentinel value reduces the range of valid values that can be represented, and may require extra (often nonoptimized) logic in CPU and GPU arithmetic, because common special values like `NaN` are not available for all data types.\n",
        "\n",
        "As in most cases where no universally optimal choice exists, different languages and systems use different conventions.\n",
        "For example, the R language uses reserved bit patterns within each data type as sentinel values indicating missing data, while the SciDB system uses an extra byte attached to every cell to indicate an NA state."
      ]
    },
    {
      "cell_type": "markdown",
      "metadata": {
        "id": "TzAEz1GHnl7y"
      },
      "source": [
        "## Missing Data in Pandas\n",
        "\n",
        "Pandas has two \"modes\" of storing and manipulating null values:\n",
        "\n",
        "- The default mode is to use a sentinel-based missing data scheme, with sentinel values `NaN` or `None` depending on the type of the data.\n",
        "- Alternatively, you can opt in to using the nullable data types (dtypes) Pandas provides (discussed later in this chapter), which results in the creation an accompanying mask array to track missing entries. These missing entries are then presented to the user as the special `pd.NA` value.\n",
        "\n",
        "In either case, the data operations and manipulations provided by the Pandas API will handle and propagate those missing entries in a predictable manner. But to develop some intuition into *why* these choices are made, let's dive quickly into the trade-offs inherent in `None`, `NaN`, and `NA`."
      ]
    },
    {
      "cell_type": "markdown",
      "metadata": {
        "id": "nPpr0AY4nl71"
      },
      "source": [
        "### NaN: Missing Numerical Data\n",
        "\n",
        "`NaN` is a special floating-point value recognized by all systems that use the standard IEEE floating-point representation:"
      ]
    },
    {
      "cell_type": "code",
      "execution_count": null,
      "metadata": {
        "jupyter": {
          "outputs_hidden": false
        },
        "id": "CA1PJeGpnl71"
      },
      "outputs": [],
      "source": [
        "vals2 = np.array([1, np.nan, 3, 4])\n",
        "vals2"
      ]
    },
    {
      "cell_type": "markdown",
      "metadata": {
        "id": "DCIHpZPMnl71"
      },
      "source": [
        "Notice that NumPy chose a native floating-point type for this array: this means that this array supports fast operations pushed into compiled code.\n",
        "Keep in mind that `NaN` is a bit like a data virus—it infects any other object it touches.\n",
        "Regardless of the operation, the result of arithmetic with `NaN` will be another `NaN`:"
      ]
    },
    {
      "cell_type": "code",
      "execution_count": null,
      "metadata": {
        "jupyter": {
          "outputs_hidden": false
        },
        "id": "IqyrqCcQnl71"
      },
      "outputs": [],
      "source": []
    },
    {
      "cell_type": "code",
      "execution_count": null,
      "metadata": {
        "jupyter": {
          "outputs_hidden": false
        },
        "id": "R_sAI9YMnl71"
      },
      "outputs": [],
      "source": []
    },
    {
      "cell_type": "markdown",
      "metadata": {
        "id": "_r6Efd46nl71"
      },
      "source": [
        "This means that aggregates over the values are well defined (i.e., they don't result in an error) but not always useful:"
      ]
    },
    {
      "cell_type": "code",
      "execution_count": null,
      "metadata": {
        "jupyter": {
          "outputs_hidden": false
        },
        "id": "0GSmUBFZnl71"
      },
      "outputs": [],
      "source": []
    },
    {
      "cell_type": "markdown",
      "metadata": {
        "id": "BCgRTz6znl71"
      },
      "source": [
        "That said, NumPy does provide ``NaN``-aware versions of aggregations that will ignore these missing values:"
      ]
    },
    {
      "cell_type": "code",
      "execution_count": null,
      "metadata": {
        "jupyter": {
          "outputs_hidden": false
        },
        "id": "AVBz68EGnl71"
      },
      "outputs": [],
      "source": []
    },
    {
      "cell_type": "markdown",
      "metadata": {
        "id": "RNmixgpXnl71"
      },
      "source": [
        "The main downside of `NaN` is that it is specifically a floating-point value; there is no equivalent `NaN` value for integers, strings, or other types."
      ]
    },
    {
      "cell_type": "markdown",
      "metadata": {
        "id": "VIsETii3nl72"
      },
      "source": [
        "### NaN and None in Pandas\n",
        "\n",
        "`NaN` and `None` both have their place, and Pandas is built to handle the two of them nearly interchangeably, converting between them where appropriate:"
      ]
    },
    {
      "cell_type": "code",
      "execution_count": null,
      "metadata": {
        "jupyter": {
          "outputs_hidden": false
        },
        "id": "4E04vKvynl72"
      },
      "outputs": [],
      "source": []
    },
    {
      "cell_type": "markdown",
      "metadata": {
        "id": "lJKAyvqRnl72"
      },
      "source": [
        "For types that don't have an available sentinel value, Pandas automatically typecasts when NA values are present.\n",
        "For example, if we set a value in an integer array to ``np.nan``, it will automatically be upcast to a floating-point type to accommodate the NA:"
      ]
    },
    {
      "cell_type": "code",
      "execution_count": null,
      "metadata": {
        "jupyter": {
          "outputs_hidden": false
        },
        "id": "iOsMyy_0nl72"
      },
      "outputs": [],
      "source": [
        "x = pd.Series(range(2), dtype=int)\n",
        "x"
      ]
    },
    {
      "cell_type": "code",
      "execution_count": null,
      "metadata": {
        "jupyter": {
          "outputs_hidden": false
        },
        "id": "xtRl6ji1nl72"
      },
      "outputs": [],
      "source": []
    },
    {
      "cell_type": "markdown",
      "metadata": {
        "id": "2V1NiUWfnl72"
      },
      "source": [
        "## Pandas Nullable Dtypes"
      ]
    },
    {
      "cell_type": "markdown",
      "metadata": {
        "id": "NflYCEQJnl72"
      },
      "source": [
        "In early versions of Pandas, `NaN` and `None` as sentinel values were the only missing data representations available. The primary difficulty this introduced was with regard to the implicit type casting: for example, there was no way to represent a true integer array with missing data.\n",
        "\n",
        "To address this difficulty, Pandas later added *nullable dtypes*, which are distinguished from regular dtypes by capitalization of their names (e.g., `pd.Int32` versus `np.int32`). For backward compatibility, these nullable dtypes are only used if specifically requested.\n",
        "\n",
        "For example, here is a `Series` of integers with missing data, created from a list containing all three available markers of missing data:"
      ]
    },
    {
      "cell_type": "code",
      "execution_count": null,
      "metadata": {
        "id": "ce7hpZcYnl72"
      },
      "outputs": [],
      "source": []
    },
    {
      "cell_type": "markdown",
      "metadata": {
        "id": "SjhHc8glnl72"
      },
      "source": [
        "This representation can be used interchangeably with the others in all the operations explored through the rest of this course."
      ]
    },
    {
      "cell_type": "markdown",
      "metadata": {
        "id": "gEMxhH7Anl72"
      },
      "source": [
        "## Operating on Null Values\n",
        "\n",
        "As we have seen, Pandas treats `None`, `NaN`, and `NA` as essentially interchangeable for indicating missing or null values.\n",
        "To facilitate this convention, Pandas provides several methods for detecting, removing, and replacing null values in Pandas data structures.\n",
        "They are:\n",
        "\n",
        "- ``isnull``: Generates a Boolean mask indicating missing values\n",
        "- ``notnull``: Opposite of ``isnull``\n",
        "- ``dropna``: Returns a filtered version of the data\n",
        "- ``fillna``: Returns a copy of the data with missing values filled or imputed\n",
        "\n",
        "We will conclude this session with a brief exploration and demonstration of these routines."
      ]
    },
    {
      "cell_type": "markdown",
      "metadata": {
        "id": "zNNdfyZ2nl72"
      },
      "source": [
        "### Detecting Null Values\n",
        "Pandas data structures have two useful methods for detecting null data: `isnull` and `notnull`.\n",
        "Either one will return a Boolean mask over the data. For example:"
      ]
    },
    {
      "cell_type": "code",
      "execution_count": null,
      "metadata": {
        "tags": [],
        "id": "Pqux8Mt7nl72"
      },
      "outputs": [],
      "source": []
    },
    {
      "cell_type": "code",
      "execution_count": null,
      "metadata": {
        "jupyter": {
          "outputs_hidden": false
        },
        "id": "b2FIlmPFnl72"
      },
      "outputs": [],
      "source": []
    },
    {
      "cell_type": "markdown",
      "metadata": {
        "id": "hR5W_OZwnl72"
      },
      "source": [
        "As mentioned before, Boolean masks can be used directly as a `Series` or `DataFrame` index:"
      ]
    },
    {
      "cell_type": "code",
      "execution_count": null,
      "metadata": {
        "jupyter": {
          "outputs_hidden": false
        },
        "id": "RYzT27yZnl72"
      },
      "outputs": [],
      "source": []
    },
    {
      "cell_type": "markdown",
      "metadata": {
        "id": "xM6DXSlunl73"
      },
      "source": [
        "The `isnull()` and `notnull()` methods produce similar Boolean results for ``DataFrame`` objects."
      ]
    },
    {
      "cell_type": "markdown",
      "metadata": {
        "id": "UNbIqGsjnl73"
      },
      "source": [
        "### Dropping Null Values\n",
        "\n",
        "In addition to these masking methods, there are the convenience methods `dropna`\n",
        "(which removes NA values) and `fillna` (which fills in NA values). For a `Series`,\n",
        "the result is straightforward:"
      ]
    },
    {
      "cell_type": "code",
      "execution_count": null,
      "metadata": {
        "jupyter": {
          "outputs_hidden": false
        },
        "id": "IP7b4NJ6nl73"
      },
      "outputs": [],
      "source": [
        "data.dropna()"
      ]
    },
    {
      "cell_type": "markdown",
      "metadata": {
        "id": "SCCvMLS7nl73"
      },
      "source": [
        "For a ``DataFrame``, there are more options.\n",
        "Consider the following ``DataFrame``:"
      ]
    },
    {
      "cell_type": "code",
      "execution_count": null,
      "metadata": {
        "jupyter": {
          "outputs_hidden": false
        },
        "id": "W_t40S2jnl73"
      },
      "outputs": [],
      "source": [
        "df = pd.DataFrame([[1,      np.nan, 2],\n",
        "                   [2,      3,      5],\n",
        "                   [np.nan, 4,      6]])\n",
        "df"
      ]
    },
    {
      "cell_type": "markdown",
      "metadata": {
        "id": "DfWM_LVmnl73"
      },
      "source": [
        "We cannot drop single values from a `DataFrame`; we can only drop entire rows or columns.\n",
        "Depending on the application, you might want one or the other, so `dropna` includes a number of options for a `DataFrame`.\n",
        "\n",
        "By default, `dropna` will drop all rows in which *any* null value is present:"
      ]
    },
    {
      "cell_type": "code",
      "execution_count": null,
      "metadata": {
        "jupyter": {
          "outputs_hidden": false
        },
        "id": "JRa6aPZUnl73"
      },
      "outputs": [],
      "source": []
    },
    {
      "cell_type": "markdown",
      "metadata": {
        "id": "PZM0Cn8mnl74"
      },
      "source": [
        "Alternatively, you can drop NA values along a different axis. Using `axis=1` or `axis='columns'` drops all columns containing a null value:"
      ]
    },
    {
      "cell_type": "code",
      "execution_count": null,
      "metadata": {
        "jupyter": {
          "outputs_hidden": false
        },
        "id": "738tacXmnl74"
      },
      "outputs": [],
      "source": []
    },
    {
      "cell_type": "markdown",
      "metadata": {
        "id": "ayEA5Im-nl74"
      },
      "source": [
        "But this drops some good data as well; you might rather be interested in dropping rows or columns with *all* NA values, or a majority of NA values.\n",
        "This can be specified through the `how` or `thresh` parameters, which allow fine control of the number of nulls to allow through.\n",
        "\n",
        "The default is `how='any'`, such that any row or column containing a null value will be dropped.\n",
        "You can also specify `how='all'`, which will only drop rows/columns that contain *all* null values:"
      ]
    },
    {
      "cell_type": "code",
      "execution_count": null,
      "metadata": {
        "jupyter": {
          "outputs_hidden": false
        },
        "id": "tDcdLbAvnl74"
      },
      "outputs": [],
      "source": []
    },
    {
      "cell_type": "code",
      "execution_count": null,
      "metadata": {
        "jupyter": {
          "outputs_hidden": false
        },
        "id": "ETllL7T5nl74"
      },
      "outputs": [],
      "source": []
    },
    {
      "cell_type": "markdown",
      "metadata": {
        "id": "C4spP6_9nl74"
      },
      "source": [
        "For finer-grained control, the `thresh` parameter lets you specify a minimum number of non-null values for the row/column to be kept:"
      ]
    },
    {
      "cell_type": "code",
      "source": [],
      "metadata": {
        "id": "sAW-zPKW_wQR"
      },
      "execution_count": null,
      "outputs": []
    },
    {
      "cell_type": "code",
      "execution_count": null,
      "metadata": {
        "jupyter": {
          "outputs_hidden": false
        },
        "id": "pUAe7_n0nl74"
      },
      "outputs": [],
      "source": []
    },
    {
      "cell_type": "markdown",
      "metadata": {
        "id": "VEFs9qnbnl74"
      },
      "source": [
        "Here, the first and last rows have been dropped because they each contain only two non-null values."
      ]
    },
    {
      "cell_type": "markdown",
      "metadata": {
        "id": "nbZQ0WS_nl74"
      },
      "source": [
        "### Filling Null Values\n",
        "\n",
        "Sometimes rather than dropping NA values, you'd like to replace them with a valid value.\n",
        "This value might be a single number like zero, or it might be some sort of imputation or interpolation from the good values.\n",
        "You could do this in-place using the `isnull` method as a mask, but because it is such a common operation Pandas provides the `fillna` method, which returns a copy of the array with the null values replaced.\n",
        "\n",
        "Consider the following `Series`:"
      ]
    },
    {
      "cell_type": "code",
      "execution_count": null,
      "metadata": {
        "jupyter": {
          "outputs_hidden": false
        },
        "id": "xsnP0ovunl74"
      },
      "outputs": [],
      "source": [
        "data = pd.Series([1, np.nan, 2, None, 3], index=list('abcde'), dtype='Int32')\n",
        "data"
      ]
    },
    {
      "cell_type": "markdown",
      "metadata": {
        "id": "7louO0qjnl74"
      },
      "source": [
        "We can fill NA entries with a single value, such as zero:"
      ]
    },
    {
      "cell_type": "code",
      "execution_count": null,
      "metadata": {
        "jupyter": {
          "outputs_hidden": false
        },
        "id": "dog3UQwXnl74"
      },
      "outputs": [],
      "source": []
    },
    {
      "cell_type": "markdown",
      "metadata": {
        "id": "apAXT9Lanl75"
      },
      "source": [
        "We can specify a forward fill to propagate the previous value forward:"
      ]
    },
    {
      "cell_type": "code",
      "execution_count": null,
      "metadata": {
        "jupyter": {
          "outputs_hidden": false
        },
        "id": "U2zkTlD_nl75"
      },
      "outputs": [],
      "source": [
        "# forward fill\n"
      ]
    },
    {
      "cell_type": "markdown",
      "metadata": {
        "id": "JlW7iTJKnl75"
      },
      "source": [
        "Or we can specify a backward fill to propagate the next values backward:"
      ]
    },
    {
      "cell_type": "code",
      "execution_count": null,
      "metadata": {
        "jupyter": {
          "outputs_hidden": false
        },
        "id": "7FB88eRInl75"
      },
      "outputs": [],
      "source": [
        "# back fill\n"
      ]
    },
    {
      "cell_type": "markdown",
      "metadata": {
        "id": "-yOzeXlDnl75"
      },
      "source": [
        "In the case of a `DataFrame`, the options are similar, but we can also specify an `axis` along which the fills should take place:"
      ]
    },
    {
      "cell_type": "code",
      "execution_count": null,
      "metadata": {
        "jupyter": {
          "outputs_hidden": false
        },
        "id": "zqKgsMJ0nl75"
      },
      "outputs": [],
      "source": []
    },
    {
      "cell_type": "code",
      "execution_count": null,
      "metadata": {
        "jupyter": {
          "outputs_hidden": false
        },
        "id": "RxXtGSAonl75"
      },
      "outputs": [],
      "source": []
    },
    {
      "cell_type": "markdown",
      "metadata": {
        "id": "iFep2x_Tnl75"
      },
      "source": [
        "Notice that if a previous value is not available during a forward fill, the NA value remains."
      ]
    },
    {
      "cell_type": "markdown",
      "source": [
        "And that's it for today's lab session. Next week we will study more advance data manipulation functions and we will learn how to load our data in a dataframe.\n",
        "\n",
        "See you next week!"
      ],
      "metadata": {
        "id": "QOK9SFieAGsI"
      }
    },
    {
      "cell_type": "code",
      "source": [],
      "metadata": {
        "id": "2Qm71caOAWsJ"
      },
      "execution_count": null,
      "outputs": []
    }
  ]
}